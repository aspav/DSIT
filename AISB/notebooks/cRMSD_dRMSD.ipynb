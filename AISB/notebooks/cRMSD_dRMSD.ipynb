{
 "cells": [
  {
   "cell_type": "code",
   "execution_count": 1,
   "metadata": {},
   "outputs": [],
   "source": [
    "import numpy as np\n",
    "import random\n",
    "from numpy.linalg import svd, det, norm\n",
    "from tqdm import tqdm\n",
    "import matplotlib.pyplot as plt"
   ]
  },
  {
   "cell_type": "markdown",
   "metadata": {},
   "source": [
    "# Implementation of c-RMSD and d-RMSD"
   ]
  },
  {
   "cell_type": "markdown",
   "metadata": {},
   "source": [
    "We are given $80$ conformations of a specific molecule in file `80_conformations.dat` with $n = 369$ atoms on the backbone (hence in correspondence). The file starts with $2$ lines containing $80$ and $n$. The rest of the file uses tabs to define $3$ columns containing $n$ triplets $x y z$ of each conformation hence $2 + 80n$ rows.\n",
    "\n",
    "We read the `80_conformations.dat` file and we store the results in a dictionary where the keys are the conformations and the values are the coordinates of their $369$ atoms. Hence, the dictionary has $80$ keys."
   ]
  },
  {
   "cell_type": "code",
   "execution_count": 22,
   "metadata": {},
   "outputs": [],
   "source": [
    "with open('../data/80_conformations.dat', 'r') as file:\n",
    "    coordinates = []\n",
    "    for line in file:\n",
    "        if len(line.strip().split('\\t')) == 3 :\n",
    "            coor = np.zeros(3) \n",
    "            for i,value in enumerate(line.strip().split('\\t')):\n",
    "                coor[i] = float(value)\n",
    "            coordinates.append(coor)\n",
    "\n",
    "conformations = {}\n",
    "i = 0\n",
    "j = 0\n",
    "while True:\n",
    "    if i not in conformations:\n",
    "        conformations[i] = [coordinates[j]]\n",
    "    else:\n",
    "        conformations[i].append(coordinates[j])\n",
    "    j +=1\n",
    "    if j >= len(coordinates):\n",
    "        break\n",
    "    if j%369 == 0:\n",
    "        i +=1"
   ]
  },
  {
   "cell_type": "code",
   "execution_count": 23,
   "metadata": {},
   "outputs": [],
   "source": [
    "# conformations"
   ]
  },
  {
   "cell_type": "markdown",
   "metadata": {},
   "source": [
    "# 2.1 cRMSD"
   ]
  },
  {
   "cell_type": "markdown",
   "metadata": {},
   "source": [
    "We want to implement an algorithm in order to calculate the c-RMSD between two conformations. The equation for the c-RMSD is as follows:\n",
    "\n",
    "c-RMSD $ {=} \\sqrt {1/n \\sum_{i=1}^N \\|x_i -y_i\\|^2} $\n",
    "\n",
    "To compute the c-RMSD between two molecules, first we have to align the molecules following these steps:\n",
    "\n",
    "1. **Perform Translation:** In this step we translate to common origin by subtracting from $\\bar{x_i}$'s centroid as follows:\n",
    "\n",
    "> $ \\bar{x_c} = 1/n \\sum_{i=1}^N \\bar{x_i}$,  $\\bar{x_i} \\in \\mathbb{R^3}$\n",
    "\n",
    "and subtracting $\\bar{y_c}$ from all $\\bar{y_i}$'s, $\\bar{y_i} \\in \\mathbb{R^3}$\n",
    "\n",
    "To implement this step, we create the `translate` function."
   ]
  },
  {
   "cell_type": "code",
   "execution_count": 24,
   "metadata": {},
   "outputs": [],
   "source": [
    "def translate(x):\n",
    "    x_c = np.mean(x, axis=0)\n",
    "    X = []\n",
    "    for item in x:\n",
    "        X.append(np.subtract(item,x_c))\n",
    "    X = np.array(X)\n",
    "    return X"
   ]
  },
  {
   "cell_type": "markdown",
   "metadata": {},
   "source": [
    "2. **Perform Rotation:** In this step we rotate the first conformation by multiplying each coordinate with a $3 \\times 3$ rotation matrix $Q : Q^T Q {+} I$.\n",
    "\n",
    "To that end, we employ the Singular Value Decompotision (SVD) method as follows:\n",
    "\n",
    "The factorization of $X^\\text{T}Y$ is given by $U\\Sigma V^\\text{T}$. We know that the minimum distance occurs when $V^\\text{T}Q^\\text{T}U = I \\Leftrightarrow Q =  UV^\\text{T}$.\n",
    "\n",
    "If $\\det Q = -1$, we take the reflection of $Q$, negating the $3$rd column of $U$ to get $\\bar{U}$.\n",
    "\n",
    "To implement this step, we create the `rotate` function. "
   ]
  },
  {
   "cell_type": "code",
   "execution_count": 25,
   "metadata": {},
   "outputs": [],
   "source": [
    " def rotate(X, Y):\n",
    "    \n",
    "    # SVD calculation of U, Σ, V\n",
    "    U, S, V = svd(X.T @ Y)\n",
    "    \n",
    "    # Calculate Q\n",
    "    Q = U @ V\n",
    "    \n",
    "    # Check det\n",
    "    if det(Q) < 0:\n",
    "        for i in range(3):\n",
    "            U[i][2] = U[i][2] * (-1)\n",
    "        Q = U @ V\n",
    "        \n",
    "    return Q"
   ]
  },
  {
   "cell_type": "markdown",
   "metadata": {},
   "source": [
    "We create the `cRMSD` function that caclulates the c-RMSD between two conformations, afer performing translation and rotation. "
   ]
  },
  {
   "cell_type": "code",
   "execution_count": 26,
   "metadata": {},
   "outputs": [],
   "source": [
    "def cRMSD(x, y):\n",
    "    \n",
    "    # Translate to common origin\n",
    "    X = translate(x)\n",
    "    Y = translate(y)\n",
    "    \n",
    "    N = len(X)\n",
    "    \n",
    "    # Rotate to optimal alignment\n",
    "    Q = rotate(X, Y)\n",
    "    \n",
    "    # Calculate RMSD\n",
    "    #RMSD = norm(X @ Q - Y) / np.sqrt(len(x)) # vectorized solution\n",
    "    sigma = 0\n",
    "    for i in range(N):\n",
    "        sigma += norm(X[i] @ Q - Y[i])**2\n",
    "\n",
    "    cRMSD = np.sqrt(1 / N * sigma)   \n",
    "    \n",
    "    return cRMSD "
   ]
  },
  {
   "cell_type": "code",
   "execution_count": 27,
   "metadata": {},
   "outputs": [
    {
     "name": "stdout",
     "output_type": "stream",
     "text": [
      "The c-RMSD between the first two conformtations is 0.6271694758794248\n"
     ]
    }
   ],
   "source": [
    "# Calculate c-RMSD of the first two conformations\n",
    "\n",
    "x = conformations[0]\n",
    "y = conformations[1]\n",
    "\n",
    "cRMSD_12 = cRMSD(x,y)\n",
    "\n",
    "print('The c-RMSD between the first two conformtations is ' + str(cRMSD_12))"
   ]
  },
  {
   "cell_type": "markdown",
   "metadata": {},
   "source": [
    "# 2.2 Mean Median c-RMSD"
   ]
  },
  {
   "cell_type": "markdown",
   "metadata": {},
   "source": [
    "Having implemented the c-RMSD, we compute the c-RMSD distance between all $80\\choose 2$ to all pairs of conformations, we compute the mean and the median c-RMSD distance and draw a histogram of the resulted distances in $10$ classes (bins)."
   ]
  },
  {
   "cell_type": "code",
   "execution_count": 28,
   "metadata": {},
   "outputs": [
    {
     "name": "stderr",
     "output_type": "stream",
     "text": [
      "100%|██████████| 80/80 [00:10<00:00,  7.70it/s]"
     ]
    },
    {
     "name": "stdout",
     "output_type": "stream",
     "text": [
      "mean: 9.64069626588974\n",
      "median: 9.635078088307244\n",
      "3160\n"
     ]
    },
    {
     "name": "stderr",
     "output_type": "stream",
     "text": [
      "\n"
     ]
    }
   ],
   "source": [
    "sum_cRMSD = []\n",
    "\n",
    "for i in tqdm(range(len(conformations))):\n",
    "    for j in range(0,i):\n",
    "        sum_cRMSD.append(cRMSD(conformations[i], conformations[j]))\n",
    "\n",
    "mean = np.mean(sum_cRMSD)\n",
    "median = np.median(sum_cRMSD)\n",
    "\n",
    "print('mean: ' + str(mean))\n",
    "print('median: ' + str(median))\n",
    "print(len(sum_cRMSD))"
   ]
  },
  {
   "cell_type": "code",
   "execution_count": 29,
   "metadata": {},
   "outputs": [
    {
     "data": {
      "image/png": "[encoded data removed]",
      "text/plain": [
       "<Figure size 432x288 with 1 Axes>"
      ]
     },
     "metadata": {
      "needs_background": "light"
     },
     "output_type": "display_data"
    }
   ],
   "source": [
    "plt.figure()\n",
    "plt.hist(sum_cRMSD, bins=10, color='steelblue', alpha=0.7, rwidth=0.85)\n",
    "plt.grid(axis='y', alpha=0.75)\n",
    "plt.xlabel('cRMSD')\n",
    "plt.ylabel('Number of conformations')\n",
    "plt.title('cRMSD of 80 conformations \\n all possible combinations' )\n",
    "plt.text(2, 700, '$cRMSD_{mean}:$ '+ str(mean)[:4] + '\\n' + '$cRMSD_{median}:$ ' + str(median)[:4])\n",
    "plt.savefig('cRMSD.pdf')\n",
    "plt.show()"
   ]
  },
  {
   "cell_type": "markdown",
   "metadata": {},
   "source": [
    "# 2.3 d-RMSD"
   ]
  },
  {
   "cell_type": "markdown",
   "metadata": {},
   "source": [
    "In order to implement the d-RMSD, first we calculate all the distances within each of the $80$ conformations and store the results in the `conf_dist` dictionary. "
   ]
  },
  {
   "cell_type": "code",
   "execution_count": 30,
   "metadata": {},
   "outputs": [],
   "source": [
    "def distances(x):\n",
    "    d = []\n",
    "    for i in range(len(x)):\n",
    "        for j in range(0,i):\n",
    "            d.append(norm(x[i]-x[j]))\n",
    "    return d        "
   ]
  },
  {
   "cell_type": "code",
   "execution_count": 31,
   "metadata": {},
   "outputs": [
    {
     "name": "stderr",
     "output_type": "stream",
     "text": [
      "100%|██████████| 80/80 [00:27<00:00,  2.94it/s]\n"
     ]
    }
   ],
   "source": [
    "conf_dist = {}\n",
    "for x in tqdm(conformations):\n",
    "    X = conformations[x]\n",
    "    conf_dist[x] = distances(X)\n",
    "    \n",
    "# print(conf_dist)"
   ]
  },
  {
   "cell_type": "markdown",
   "metadata": {},
   "source": [
    "We create the d-RMSD function that calculates the RMSD between two conformations, given the distances between the C$_\\alpha$ atoms within the conformation.\n",
    "\n",
    "d-RMSD $ {=} \\sqrt {1/k \\sum_{i=1}^k (d_i - d_i')^2} $"
   ]
  },
  {
   "cell_type": "code",
   "execution_count": 32,
   "metadata": {},
   "outputs": [],
   "source": [
    "def dRMSD(x1, x2, k):\n",
    "    \n",
    "    # Caclulate dRMSD when all distances are available\n",
    "    if k == len(x1):\n",
    "    \n",
    "        suma = 0\n",
    "        for i in range(k):\n",
    "            suma += np.power(x1[i] - x2[i], 2)\n",
    "\n",
    "        dRMSD = np.sqrt(1 / k * suma)\n",
    "        \n",
    "    # Calculate dRMSD when some distances are available    \n",
    "    else:\n",
    "        \n",
    "        suma = 0\n",
    "        random_indices = random.sample(range(0,len(x1)), k)\n",
    "        for i in random_indices:\n",
    "            suma += np.power(x1[i] - x2[i], 2)\n",
    "\n",
    "        dRMSD = np.sqrt(1 / k * suma)\n",
    "        \n",
    "    return dRMSD\n",
    "    "
   ]
  },
  {
   "cell_type": "markdown",
   "metadata": {},
   "source": [
    "We calculate the d-RMSD between all pairs of $80$ conformations using all distances within the conformation, as well as a random subset of the distances of size $k=3n$."
   ]
  },
  {
   "cell_type": "code",
   "execution_count": 33,
   "metadata": {},
   "outputs": [],
   "source": [
    "# All distances\n",
    "\n",
    "k_all = len(conf_dist[0])\n",
    "\n",
    "# Random distances\n",
    "\n",
    "k_random = 3 * len(conformations[0])"
   ]
  },
  {
   "cell_type": "code",
   "execution_count": 34,
   "metadata": {},
   "outputs": [
    {
     "name": "stderr",
     "output_type": "stream",
     "text": [
      "100%|██████████| 80/80 [07:12<00:00,  5.40s/it]"
     ]
    },
    {
     "name": "stdout",
     "output_type": "stream",
     "text": [
      "mean: 6.795032197504436\n",
      "median: 6.46860694634724\n",
      "3160\n"
     ]
    },
    {
     "name": "stderr",
     "output_type": "stream",
     "text": [
      "\n"
     ]
    }
   ],
   "source": [
    "# Calculate RMSD using all distances within its conformation\n",
    "sumall_dRMSD = []\n",
    "for i in tqdm(range(len(conformations))):\n",
    "    for j in range(0,i):\n",
    "        sumall_dRMSD.append(dRMSD(conf_dist[i], conf_dist[j], k=k_all))\n",
    "    \n",
    "mean = np.mean(sumall_dRMSD)\n",
    "median = np.median(sumall_dRMSD)\n",
    "\n",
    "print('mean: ' + str(mean))\n",
    "print('median: ' + str(median))\n",
    "print(len(sumall_dRMSD))"
   ]
  },
  {
   "cell_type": "code",
   "execution_count": 35,
   "metadata": {},
   "outputs": [
    {
     "data": {
      "image/png": "[encoded data removed]",
      "text/plain": [
       "<Figure size 432x288 with 1 Axes>"
      ]
     },
     "metadata": {
      "needs_background": "light"
     },
     "output_type": "display_data"
    }
   ],
   "source": [
    "# Histogram of dRMSD when using all distances within its conformation\n",
    "plt.figure()\n",
    "plt.hist(sumall_dRMSD, bins=10, color='steelblue', alpha=0.7, rwidth=0.85)\n",
    "plt.grid(axis='y', alpha=0.75)\n",
    "plt.xlabel('dRMSD')\n",
    "plt.ylabel('Number of conformations')\n",
    "plt.title('dRMSD between all pairs of 80 conformations \\n using all distances')\n",
    "plt.text(8, 800, '$dRMSD_{mean}:$ '+ str(mean)[:4] + '\\n' + '$dRMSD_{median}:$ ' + str(median)[:4])\n",
    "plt.savefig('dRMSD_all.pdf')\n",
    "plt.show()"
   ]
  },
  {
   "cell_type": "code",
   "execution_count": 36,
   "metadata": {},
   "outputs": [
    {
     "name": "stderr",
     "output_type": "stream",
     "text": [
      "100%|██████████| 80/80 [00:09<00:00,  8.56it/s]"
     ]
    },
    {
     "name": "stdout",
     "output_type": "stream",
     "text": [
      "mean: 6.787887071685775\n",
      "median: 6.4745781624287755\n",
      "3160\n"
     ]
    },
    {
     "name": "stderr",
     "output_type": "stream",
     "text": [
      "\n"
     ]
    }
   ],
   "source": [
    "# Calculate RMSD using random subset of distances within its conformation\n",
    "sumrand_dRMSD = []\n",
    "for i in tqdm(range(len(conformations))):\n",
    "    for j in range(0,i):\n",
    "        sumrand_dRMSD.append(dRMSD(conf_dist[i], conf_dist[j], k=k_random))\n",
    "\n",
    "mean = np.mean(sumrand_dRMSD)\n",
    "median = np.median(sumrand_dRMSD)\n",
    "\n",
    "print('mean: ' + str(mean))\n",
    "print('median: ' + str(median))\n",
    "print(len(sumrand_dRMSD))"
   ]
  },
  {
   "cell_type": "code",
   "execution_count": 37,
   "metadata": {},
   "outputs": [
    {
     "data": {
      "image/png": "[encoded data removed]",
      "text/plain": [
       "<Figure size 432x288 with 1 Axes>"
      ]
     },
     "metadata": {
      "needs_background": "light"
     },
     "output_type": "display_data"
    }
   ],
   "source": [
    "# Histogram of dRMSD when using all distances within its conformation\n",
    "plt.figure()\n",
    "plt.hist(sumrand_dRMSD, bins=10, color='steelblue', alpha=0.7, rwidth=0.85)\n",
    "plt.grid(axis='y', alpha=0.75)\n",
    "plt.xlabel('dRMSD')\n",
    "plt.ylabel('Number of conformations')\n",
    "plt.title('dRMSD between all pairs of 80 conformations \\n using random subset of distances ($k=3n$)' )\n",
    "plt.text(8, 800, '$dRMSD_{mean}:$ '+ str(mean)[:4] + '\\n' + '$dRMSD_{median}:$ ' + str(median)[:4])\n",
    "plt.savefig('dRMSD_random.pdf')\n",
    "plt.show()"
   ]
  }
 ],
 "metadata": {
  "kernelspec": {
   "display_name": "Python 3 (ipykernel)",
   "language": "python",
   "name": "python3"
  },
  "language_info": {
   "codemirror_mode": {
    "name": "ipython",
    "version": 3
   },
   "file_extension": ".py",
   "mimetype": "text/x-python",
   "name": "python",
   "nbconvert_exporter": "python",
   "pygments_lexer": "ipython3",
   "version": "3.8.12"
  }
 },
 "nbformat": 4,
 "nbformat_minor": 4
}