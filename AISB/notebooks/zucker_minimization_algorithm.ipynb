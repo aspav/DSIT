{
 "cells": [
  {
   "cell_type": "code",
   "execution_count": 1,
   "metadata": {},
   "outputs": [],
   "source": [
    "import numpy as np\n",
    "import matplotlib.pyplot as plt"
   ]
  },
  {
   "cell_type": "markdown",
   "metadata": {},
   "source": [
    "# RNA Folding using Zucker minimization algorithm"
   ]
  },
  {
   "cell_type": "markdown",
   "metadata": {},
   "source": [
    "We want to find all optimal secondary structures of a given **RNA sequence**, **AAUACUCCGUUGCAGCAU** using a simplified Zuker minimization algorithm. "
   ]
  },
  {
   "cell_type": "code",
   "execution_count": 17,
   "metadata": {},
   "outputs": [],
   "source": [
    "rna_sequence = 'AAUACUCCGUUGCAGCAU'"
   ]
  },
  {
   "cell_type": "markdown",
   "metadata": {},
   "source": [
    "We initialize the $W$ and $V$ matrices, in order to begin with the implementation of the simplified **Zuker minimization algorithm**.\n",
    "\n",
    "We initialize ou algorithm as follows:\n",
    "\n",
    "- $j +5 > i \\Longrightarrow V(i,j){=} W(i,j){=} \\infty, i>j,$\n",
    "\n",
    "We want our algorthm to take into consideration the fact that no bond can be created between two bases that have a distance greater than a predifined threshold (in our case 5)."
   ]
  },
  {
   "cell_type": "code",
   "execution_count": 18,
   "metadata": {},
   "outputs": [
    {
     "name": "stdout",
     "output_type": "stream",
     "text": [
      "[inf inf inf inf inf nan nan nan nan nan nan nan nan nan nan nan nan nan]\n",
      "[inf inf inf inf inf inf nan nan nan nan nan nan nan nan nan nan nan nan]\n",
      "[inf inf inf inf inf inf inf nan nan nan nan nan nan nan nan nan nan nan]\n",
      "[inf inf inf inf inf inf inf inf nan nan nan nan nan nan nan nan nan nan]\n",
      "[inf inf inf inf inf inf inf inf inf nan nan nan nan nan nan nan nan nan]\n",
      "[inf inf inf inf inf inf inf inf inf inf nan nan nan nan nan nan nan nan]\n",
      "[inf inf inf inf inf inf inf inf inf inf inf nan nan nan nan nan nan nan]\n",
      "[inf inf inf inf inf inf inf inf inf inf inf inf nan nan nan nan nan nan]\n",
      "[inf inf inf inf inf inf inf inf inf inf inf inf inf nan nan nan nan nan]\n",
      "[inf inf inf inf inf inf inf inf inf inf inf inf inf inf nan nan nan nan]\n",
      "[inf inf inf inf inf inf inf inf inf inf inf inf inf inf inf nan nan nan]\n",
      "[inf inf inf inf inf inf inf inf inf inf inf inf inf inf inf inf nan nan]\n",
      "[inf inf inf inf inf inf inf inf inf inf inf inf inf inf inf inf inf nan]\n",
      "[inf inf inf inf inf inf inf inf inf inf inf inf inf inf inf inf inf inf]\n",
      "[inf inf inf inf inf inf inf inf inf inf inf inf inf inf inf inf inf inf]\n",
      "[inf inf inf inf inf inf inf inf inf inf inf inf inf inf inf inf inf inf]\n",
      "[inf inf inf inf inf inf inf inf inf inf inf inf inf inf inf inf inf inf]\n",
      "[inf inf inf inf inf inf inf inf inf inf inf inf inf inf inf inf inf inf]\n"
     ]
    }
   ],
   "source": [
    "# Initialization of W and V\n",
    "n = len(rna_sequence)\n",
    "\n",
    "W = np.zeros((n,n))\n",
    "V = np.zeros((n,n))\n",
    "traceback = np.zeros((n,n))\n",
    "\n",
    "const = 5\n",
    "\n",
    "for i in range(n): # columns\n",
    "    for j in range(n): # rows\n",
    "        if i - const < j:\n",
    "            W[i, j] = np.inf\n",
    "            V[i, j] = np.inf\n",
    "        else:\n",
    "            W[i, j] = np.nan\n",
    "            V[i, j] = np.nan         \n",
    "            \n",
    "for i in range(n):\n",
    "    print(W.T[i,:])"
   ]
  },
  {
   "cell_type": "markdown",
   "metadata": {},
   "source": [
    "Moreover we define the hairpin energy as follows:\n",
    "\n",
    "-$h(i,j)=2(i-j+5)$"
   ]
  },
  {
   "cell_type": "code",
   "execution_count": 19,
   "metadata": {},
   "outputs": [],
   "source": [
    "def h(i, j):\n",
    "    return 2 * (i - j + const)"
   ]
  },
  {
   "cell_type": "markdown",
   "metadata": {},
   "source": [
    "and the stem energy as follows:\n",
    "\n",
    "- $s(i,j)=-4, 0, 4$ if we have a Watson-Crick bond, a GU bond, and for all the others respectively.\n",
    "\n",
    "As Watson-Crick bonds are considered the pairs A-U, U-A, G-C and C-G."
   ]
  },
  {
   "cell_type": "code",
   "execution_count": 20,
   "metadata": {},
   "outputs": [],
   "source": [
    "def s(i, j):\n",
    "    # Watson-Crick bonds\n",
    "    if (rna_sequence[i] == 'A' and rna_sequence[j] == 'U') or \\\n",
    "    (rna_sequence[i] == 'U' and rna_sequence[j] == 'A') or \\\n",
    "    (rna_sequence[i] == 'G' and rna_sequence[j] == 'C') or \\\n",
    "    (rna_sequence[i] == 'C' and rna_sequence[j] == 'G'):\n",
    "        \n",
    "        return -4\n",
    "    # Pyr G-U bonds\n",
    "    elif (rna_sequence[i] == 'G' and rna_sequence[j] == 'U') or \\\n",
    "    (rna_sequence[i] == 'U' and rna_sequence[j] == 'G'):\n",
    "        \n",
    "        return 0\n",
    "    # Other    \n",
    "    else:\n",
    "        return 4"
   ]
  },
  {
   "cell_type": "markdown",
   "metadata": {},
   "source": [
    "We create the `compute_min_W()` function, that was implemented recursively, to calculate the value of each cell of the $W$ matrix according to the following: \n",
    "\n",
    "$$ W (i, j) = min \\begin{cases}\n",
    "W (i − 1, j), \\\\\n",
    "W (i, j + 1), \\\\\n",
    "V (i, j), (i, j) defines structural element, \\\\\n",
    "min k {W (i, k) + W (k − 1, j) : j + 1 < k < i} \\\\\n",
    "\\end{cases} $$"
   ]
  },
  {
   "cell_type": "code",
   "execution_count": 21,
   "metadata": {},
   "outputs": [],
   "source": [
    "def compute_min_W(i, j):\n",
    "    \n",
    "    # Compute the minimum V(i,j)\n",
    "    v_char = compute_min_V(i, j)\n",
    "    \n",
    "    # Compute the minimum W(i,k) + W(k-1, j)\n",
    "    min_k = 0\n",
    "    min_k_value = np.inf\n",
    "    for k in range(j + 2, i):\n",
    "        curr = W[i, k] + W[k-1, j]\n",
    "        if curr < min_k_value:\n",
    "            min_k = k\n",
    "            min_k_value = curr\n",
    "    \n",
    "\n",
    "    # Find the minimum W(i,j) adn fill the block\n",
    "    W[i, j] = min(W[i-1, j], W[i, j+1], V[i, j], min_k_value)\n",
    "    \n",
    "    \n",
    "    # Traceback\n",
    "    if W[i, j] == W[i-1, j]:\n",
    "        traceback[i, j] = ord('l')\n",
    "    elif W[i, j] == W[i, j+1]:\n",
    "        traceback[i, j] = ord('d')\n",
    "    elif W[i, j] == V[i, j]:\n",
    "        traceback[i, j] = ord(v_char)\n",
    "    else: \n",
    "        traceback[i, j] = min_k "
   ]
  },
  {
   "cell_type": "markdown",
   "metadata": {},
   "source": [
    "We create the `compute_min_V()` function, that was also implemented recursively, to calculate the value of each cell of the $V$ matrix according to the following: \n",
    "\n",
    "$$ V (i, j) = min \\begin{cases}\n",
    "s(i, j) + h(i − 1, j + 1), \\\\\n",
    "s(i, j) + W (i − 1, j + 1), \\\\\n",
    "\\end{cases} $$\n",
    "\n",
    "The $s(i, j) + h(i − 1, j + 1)$ term corresponds to the hairpins, and defines the unmatched $r_{j+1}, \\dots, r_{i-1}$) and the $s(i, j) + W (i − 1, j + 1)$ corresponds to the matches."
   ]
  },
  {
   "cell_type": "code",
   "execution_count": 22,
   "metadata": {},
   "outputs": [],
   "source": [
    "def compute_min_V(i,j):\n",
    "    \n",
    "    hairpin = s(i, j) + h(i-1, j+1)\n",
    "    diagonal = s(i, j) + W[i-1, j+1]\n",
    "    \n",
    "    V[i, j] = min(hairpin, diagonal)\n",
    "    \n",
    "    return 'h' if V[i,j] == hairpin else 'g'"
   ]
  },
  {
   "cell_type": "markdown",
   "metadata": {},
   "source": [
    "In both `compute_min_W()` and `compute_min_V()` apart from filling the columns and raws of the $W$ and $V$ matrices, we also hold information in the `traceback` matrix, regarding which of the the four cases contributed in the calculation of the $W(i,j)$ value. \n",
    "\n",
    "In this way, we can extract all the information needed in order to find the backtrack path that leads to the optimal secondary conformation of the given RNA structure."
   ]
  },
  {
   "cell_type": "markdown",
   "metadata": {},
   "source": [
    "In the next step we fill in columns $i = 6, . . . , n $, rows $j = 1, . . . , n − 5$; from diagonal up, right by calling the `compute_min_W`."
   ]
  },
  {
   "cell_type": "code",
   "execution_count": 23,
   "metadata": {},
   "outputs": [],
   "source": [
    "cur_i = const\n",
    "cur_j = 0\n",
    "step = 1\n",
    "\n",
    "while(step <= n - const):\n",
    "    \n",
    "    compute_min_W(cur_i, cur_j)\n",
    "    \n",
    "    \n",
    "    cur_i += 1\n",
    "    cur_j += 1\n",
    "    \n",
    "    if (cur_i == n):\n",
    "        cur_i = const + step\n",
    "        cur_j = 0\n",
    "        step += 1\n",
    "              \n",
    "W = W.T\n",
    "V = V.T\n",
    "traceback = traceback.T"
   ]
  },
  {
   "cell_type": "markdown",
   "metadata": {},
   "source": [
    "Below is presented the filled $W$ matrix, and as expected the overall minimum energy is at the top right position, $(i = n, j = 1)$."
   ]
  },
  {
   "cell_type": "code",
   "execution_count": 24,
   "metadata": {},
   "outputs": [
    {
     "name": "stdout",
     "output_type": "stream",
     "text": [
      "The computed W matrix: \n",
      "\n",
      "[inf inf inf inf inf 12. 12. 12. 12. 12. 10. 10. 10.  8.  4.  4.  0. -4.]\n",
      "[inf inf inf inf inf inf 20. 20. 18. 14. 10. 10. 10.  8.  4.  4.  0. -4.]\n",
      "[inf inf inf inf inf inf inf 20. 18. 14. 14. 12. 12.  8.  4.  4.  0.  0.]\n",
      "[inf inf inf inf inf inf inf inf 20. 14. 14. 12. 12.  8.  4.  4.  4.  0.]\n",
      "[inf inf inf inf inf inf inf inf inf 20. 20. 12. 12.  8.  4.  4.  4.  4.]\n",
      "[inf inf inf inf inf inf inf inf inf inf 20. 12. 12.  8.  8.  8.  8.  8.]\n",
      "[inf inf inf inf inf inf inf inf inf inf inf 12. 12. 12. 12. 12. 12. 12.]\n",
      "[inf inf inf inf inf inf inf inf inf inf inf inf 20. 20. 16. 12. 12. 12.]\n",
      "[inf inf inf inf inf inf inf inf inf inf inf inf inf 20. 16. 12. 12. 12.]\n",
      "[inf inf inf inf inf inf inf inf inf inf inf inf inf inf 16. 16. 14. 14.]\n",
      "[inf inf inf inf inf inf inf inf inf inf inf inf inf inf inf 20. 14. 14.]\n",
      "[inf inf inf inf inf inf inf inf inf inf inf inf inf inf inf inf 20. 18.]\n",
      "[inf inf inf inf inf inf inf inf inf inf inf inf inf inf inf inf inf 20.]\n",
      "[inf inf inf inf inf inf inf inf inf inf inf inf inf inf inf inf inf inf]\n",
      "[inf inf inf inf inf inf inf inf inf inf inf inf inf inf inf inf inf inf]\n",
      "[inf inf inf inf inf inf inf inf inf inf inf inf inf inf inf inf inf inf]\n",
      "[inf inf inf inf inf inf inf inf inf inf inf inf inf inf inf inf inf inf]\n",
      "[inf inf inf inf inf inf inf inf inf inf inf inf inf inf inf inf inf inf]\n"
     ]
    }
   ],
   "source": [
    "print('The computed W matrix: \\n')\n",
    "for i in range(n):\n",
    "    print(W[i,:])"
   ]
  },
  {
   "cell_type": "markdown",
   "metadata": {},
   "source": [
    "And the filled $V$ matrix."
   ]
  },
  {
   "cell_type": "code",
   "execution_count": 25,
   "metadata": {},
   "outputs": [
    {
     "name": "stdout",
     "output_type": "stream",
     "text": [
      "The computed V matrix: \n",
      "\n",
      "[inf inf inf inf inf 12. 22. 24. 24. 14. 10. 14. 14. 14. 12.  8.  8. -4.]\n",
      "[inf inf inf inf inf inf 20. 22. 24. 14. 10. 18. 16. 16. 12.  8.  8. -4.]\n",
      "[inf inf inf inf inf inf inf 20. 18. 24. 18. 14. 16.  8.  8.  8.  0.  8.]\n",
      "[inf inf inf inf inf inf inf inf 20. 14. 16. 24. 16. 16. 12.  8.  8.  0.]\n",
      "[inf inf inf inf inf inf inf inf inf 20. 22. 16. 16. 16.  4. 12. 12. 12.]\n",
      "[inf inf inf inf inf inf inf inf inf inf 20. 18. 16.  8. 12. 16.  8. 16.]\n",
      "[inf inf inf inf inf inf inf inf inf inf inf 12. 22. 24. 16. 20. 16. 16.]\n",
      "[inf inf inf inf inf inf inf inf inf inf inf inf 20. 22. 16. 20. 16. 16.]\n",
      "[inf inf inf inf inf inf inf inf inf inf inf inf inf 20. 22. 12. 20. 14.]\n",
      "[inf inf inf inf inf inf inf inf inf inf inf inf inf inf 16. 22. 16. 18.]\n",
      "[inf inf inf inf inf inf inf inf inf inf inf inf inf inf inf 20. 14. 24.]\n",
      "[inf inf inf inf inf inf inf inf inf inf inf inf inf inf inf inf 20. 18.]\n",
      "[inf inf inf inf inf inf inf inf inf inf inf inf inf inf inf inf inf 20.]\n",
      "[inf inf inf inf inf inf inf inf inf inf inf inf inf inf inf inf inf inf]\n",
      "[inf inf inf inf inf inf inf inf inf inf inf inf inf inf inf inf inf inf]\n",
      "[inf inf inf inf inf inf inf inf inf inf inf inf inf inf inf inf inf inf]\n",
      "[inf inf inf inf inf inf inf inf inf inf inf inf inf inf inf inf inf inf]\n",
      "[inf inf inf inf inf inf inf inf inf inf inf inf inf inf inf inf inf inf]\n"
     ]
    }
   ],
   "source": [
    "print('The computed V matrix: \\n')\n",
    "for i in range(n):\n",
    "    print(V[i,:])"
   ]
  },
  {
   "cell_type": "markdown",
   "metadata": {},
   "source": [
    "Next, we created a function for performing backtracking, in order to trace the origin of the resulted value in a given position $i, j$ of the $W$ matrix. The function recursively traces the path for the given position in $W$ using the traceback matrix populated by the `compute_min_W` function. Moreover, the function stores the positions of $W$ that reflect the hairpins and the matches of the bases found along the way to the given $i, j$ position."
   ]
  },
  {
   "cell_type": "code",
   "execution_count": 26,
   "metadata": {},
   "outputs": [],
   "source": [
    "def backtrack(i, j):\n",
    "    pairs = []\n",
    "    path = []    \n",
    "    def helper(i, j, matches):\n",
    "        if traceback[i,j] == 0:\n",
    "            return\n",
    "        elif traceback[i,j] == ord('l'):\n",
    "            path.append('left')\n",
    "            helper(i, j-1, matches)\n",
    "        elif traceback[i,j] == ord('d'):\n",
    "            path.append('down')\n",
    "            helper(i+1, j, matches)\n",
    "        elif traceback[i,j] == ord('h'):\n",
    "            matches.append((i,j))\n",
    "            print('Matches: ' + str(matches))\n",
    "        else: \n",
    "            path.append('diagonal')\n",
    "#             print(chr(int(traceback[i,j])))\n",
    "            matches.append((i,j))\n",
    "            helper(i+1, j-1, matches)\n",
    "    helper(i, j, pairs)\n",
    "    return pairs , path"
   ]
  },
  {
   "cell_type": "markdown",
   "metadata": {},
   "source": [
    "We run the `backtrack()` function for the position $1,n$, and we find the path that traces the steps for the calculation of this position. \n",
    "\n",
    "We also find that the *matched pairs*, the bonds are formed  between:\n",
    "\n",
    "- (2,18) : A-U\n",
    "- (3,17) : U-A\n",
    "- (5,15) : C-G\n",
    "- (6,14) : U-A\n",
    "\n",
    "and a *hairpin* is formed from the bond between:\n",
    "\n",
    "- (7,12) : C-G."
   ]
  },
  {
   "cell_type": "code",
   "execution_count": 27,
   "metadata": {},
   "outputs": [
    {
     "name": "stdout",
     "output_type": "stream",
     "text": [
      "Matches: [(1, 17), (2, 16), (4, 14), (5, 13), (6, 11)]\n",
      "The backtrack path: ['down', 'diagonal', 'diagonal', 'left', 'down', 'diagonal', 'diagonal', 'left']\n"
     ]
    }
   ],
   "source": [
    "pairs, path = backtrack(0, n-1)\n",
    "\n",
    "rna_sequence_struct = ['.' for _ in rna_sequence]\n",
    "for i, j in pairs:\n",
    "    rna_sequence_struct[i] = '('\n",
    "    rna_sequence_struct[j] = ')'\n",
    "rna_sequence_struct = ''.join(rna_sequence_struct)    \n",
    "    \n",
    "print('The backtrack path: '+ str(path))"
   ]
  },
  {
   "cell_type": "code",
   "execution_count": 28,
   "metadata": {},
   "outputs": [
    {
     "data": {
      "text/plain": [
       "'.((.(((....).)).))'"
      ]
     },
     "execution_count": 28,
     "metadata": {},
     "output_type": "execute_result"
    }
   ],
   "source": [
    "rna_sequence_struct"
   ]
  },
  {
   "cell_type": "markdown",
   "metadata": {},
   "source": [
    "The following function (`draw_structure`) is needed in order to draw the secondary structure of RNA. We use the **draw_rna** project (https://github.com/DasLab/draw_rna), provided by *DasLab* (https://daslab.stanford.edu/). \n",
    "\n",
    "The `draw_structure` function, has two basic arguments:\n",
    "\n",
    "1. the rna sequence as a string, in our case **rna ='AAUACUCCGUUGCAGCAU'**, and\n",
    "2. a sequence using the notation **.**, **(**, **)**, to represent the absence of a bond, and the first, second base that created a bond, respectively. In our case **rna_notation_structure = `'.((.(((....).)).))'`**. \n",
    "\n"
   ]
  },
  {
   "cell_type": "code",
   "execution_count": 14,
   "metadata": {},
   "outputs": [],
   "source": [
    "def draw_struct(seq, secstruct, c=None, line=False, large_mode=False,\n",
    " cmap='viridis', rotation=0, vmin=None, vmax=None, alpha=None, ax=None):\n",
    "    '''\n",
    "    Draw sequence with secondary structure.\n",
    "    Inputs:\n",
    "    c (string or array-like).  If string, characters must correspond to colors.\n",
    "     If array-like obj, used as mapping for colormap (provided in cmap), or a string.\n",
    "    line (bool): draw secstruct as line.\n",
    "    large_mode: draw outer loop as straight line.\n",
    "    rotation: rotate molecule (in degrees).\n",
    "    '''\n",
    "\n",
    "    if c is not None:\n",
    "        assert len(c) == len(seq)\n",
    "        if isinstance(c[0], float):\n",
    "            d.draw_rna(seq, secstruct, c, line=line, ext_color_file=True, cmap_name = cmap, vmin=vmin, vmax=vmax,\n",
    "             rotation=rotation, large_mode = large_mode, alpha=alpha, ax=ax)\n",
    "        else:\n",
    "            d.draw_rna(seq, secstruct, c,  line=line, cmap_name=cmap, large_mode=large_mode, vmin=vmin, vmax=vmax,\n",
    "             rotation=rotation, alpha=alpha, ax=ax)\n",
    "\n",
    "    else:\n",
    "        d.draw_rna(seq, secstruct, seq2col(seq), line=line, cmap_name = cmap, vmin=vmin, vmax=vmax,\n",
    "         large_mode = large_mode, rotation=rotation, alpha=alpha, ax=ax)\n",
    "\n",
    "    if ax is None:\n",
    "        plt.show()"
   ]
  },
  {
   "cell_type": "code",
   "execution_count": 15,
   "metadata": {},
   "outputs": [
    {
     "name": "stdout",
     "output_type": "stream",
     "text": [
      "\"2D RNA structure\"\n"
     ]
    },
    {
     "ename": "NameError",
     "evalue": "name 'd' is not defined",
     "output_type": "error",
     "traceback": [
      "\u001B[0;31m---------------------------------------------------------------------------\u001B[0m",
      "\u001B[0;31mNameError\u001B[0m                                 Traceback (most recent call last)",
      "\u001B[0;32m/tmp/ipykernel_88815/136222290.py\u001B[0m in \u001B[0;36m<module>\u001B[0;34m\u001B[0m\n\u001B[1;32m      1\u001B[0m \u001B[0mprint\u001B[0m\u001B[0;34m(\u001B[0m\u001B[0;34m'\"2D RNA structure\"'\u001B[0m\u001B[0;34m)\u001B[0m\u001B[0;34m\u001B[0m\u001B[0;34m\u001B[0m\u001B[0m\n\u001B[1;32m      2\u001B[0m \u001B[0;34m\u001B[0m\u001B[0m\n\u001B[0;32m----> 3\u001B[0;31m \u001B[0mrna2d\u001B[0m \u001B[0;34m=\u001B[0m \u001B[0mdraw_struct\u001B[0m\u001B[0;34m(\u001B[0m\u001B[0mrna_sequence\u001B[0m\u001B[0;34m,\u001B[0m \u001B[0;34m''\u001B[0m\u001B[0;34m.\u001B[0m\u001B[0mjoin\u001B[0m\u001B[0;34m(\u001B[0m\u001B[0mrna_sequence_struct\u001B[0m\u001B[0;34m)\u001B[0m\u001B[0;34m)\u001B[0m\u001B[0;34m\u001B[0m\u001B[0;34m\u001B[0m\u001B[0m\n\u001B[0m",
      "\u001B[0;32m/tmp/ipykernel_88815/2914251966.py\u001B[0m in \u001B[0;36mdraw_struct\u001B[0;34m(seq, secstruct, c, line, large_mode, cmap, rotation, vmin, vmax, alpha, ax)\u001B[0m\n\u001B[1;32m     21\u001B[0m \u001B[0;34m\u001B[0m\u001B[0m\n\u001B[1;32m     22\u001B[0m     \u001B[0;32melse\u001B[0m\u001B[0;34m:\u001B[0m\u001B[0;34m\u001B[0m\u001B[0;34m\u001B[0m\u001B[0m\n\u001B[0;32m---> 23\u001B[0;31m         d.draw_rna(seq, secstruct, seq2col(seq), line=line, cmap_name = cmap, vmin=vmin, vmax=vmax,\n\u001B[0m\u001B[1;32m     24\u001B[0m          large_mode = large_mode, rotation=rotation, alpha=alpha, ax=ax)\n\u001B[1;32m     25\u001B[0m \u001B[0;34m\u001B[0m\u001B[0m\n",
      "\u001B[0;31mNameError\u001B[0m: name 'd' is not defined"
     ]
    }
   ],
   "source": [
    "print('\"2D RNA structure\"')\n",
    "\n",
    "rna2d = draw_struct(rna_sequence, ''.join(rna_sequence_struct))"
   ]
  },
  {
   "cell_type": "code",
   "execution_count": null,
   "metadata": {},
   "outputs": [],
   "source": []
  }
 ],
 "metadata": {
  "kernelspec": {
   "display_name": "Python 3 (ipykernel)",
   "language": "python",
   "name": "python3"
  },
  "language_info": {
   "codemirror_mode": {
    "name": "ipython",
    "version": 3
   },
   "file_extension": ".py",
   "mimetype": "text/x-python",
   "name": "python",
   "nbconvert_exporter": "python",
   "pygments_lexer": "ipython3",
   "version": "3.8.12"
  }
 },
 "nbformat": 4,
 "nbformat_minor": 4
}