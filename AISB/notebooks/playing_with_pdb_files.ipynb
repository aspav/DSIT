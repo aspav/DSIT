{
 "cells": [
  {
   "cell_type": "code",
   "execution_count": 1,
   "metadata": {},
   "outputs": [],
   "source": [
    "import MDAnalysis as mda\n",
    "from MDAnalysis.analysis import rms\n",
    "import numpy as np"
   ]
  },
  {
   "cell_type": "markdown",
   "metadata": {},
   "source": [
    "# The crystal structure of SARS-COV-2 Spike Protein and its mutant N501Y"
   ]
  },
  {
   "cell_type": "markdown",
   "metadata": {},
   "source": [
    "We load the two pdb files the **7NEH** for the ordiginal structure and the **7NEG** for the N501Y mutant receptor structure."
   ]
  },
  {
   "cell_type": "code",
   "execution_count": 2,
   "metadata": {},
   "outputs": [],
   "source": [
    "u_original = mda.Universe('../data/7neh.pdb')\n",
    "u_mutant = mda.Universe('../data/7neg.pdb')"
   ]
  },
  {
   "cell_type": "markdown",
   "metadata": {},
   "source": [
    "We hold the atoms of the chain E (molecule id:3), which represents the **receptor binding domain of SARS-2 COV-2 Spike Glycoprotein** for both structures."
   ]
  },
  {
   "cell_type": "code",
   "execution_count": 3,
   "metadata": {},
   "outputs": [
    {
     "name": "stdout",
     "output_type": "stream",
     "text": [
      "There are  1551  atoms, and  196  residues in the chain E (Spike Glycoprotein) of the \"7NEH\" strucrure.\n"
     ]
    }
   ],
   "source": [
    "E_original = u_original.select_atoms('segid E and resid 332:527')\n",
    "\n",
    "print('There are ',E_original.n_atoms, ' atoms, and ',\n",
    "      E_original.n_residues,' residues in the chain E (Spike Glycoprotein) of the \"7NEH\" strucrure.')"
   ]
  },
  {
   "cell_type": "markdown",
   "metadata": {},
   "source": [
    "The original Spike Glycoprotein (Chain E), of the '7NEH' pdb structure, has **1551 atoms** and by selcting the `n_residues` command  or only the $C_{\\alpha}$ atoms we confirm that it has **195 residues**. From the inspection of the pdb file we know that there are 9 residues that are missing from the chain E. More specifically, there are 8 residues missing form the beginning, with residue numbers 324-331 and 1 residue missing fro the ending of the chain with residue number 528."
   ]
  },
  {
   "cell_type": "code",
   "execution_count": 4,
   "metadata": {},
   "outputs": [
    {
     "name": "stdout",
     "output_type": "stream",
     "text": [
      "There are  1474  atoms, and  183  residues in the chain E (Spike Glycoprotein) of the \"7NEG\" strucrure.\n"
     ]
    }
   ],
   "source": [
    "E_mutant = u_mutant.select_atoms('segid E and resid 334:516')\n",
    "\n",
    "print('There are ', E_mutant.n_atoms, ' atoms, and ',\n",
    "      E_mutant.n_residues,' residues in the chain E (Spike Glycoprotein) of the \"7NEG\" strucrure.')"
   ]
  },
  {
   "cell_type": "markdown",
   "metadata": {},
   "source": [
    "On the other hand the mutant Spike Glycoprotein (Chain E), of the '7NEG' pdb structure, has less atoms ,**1474 atoms** than the original, and also fewer residues, **183 residues**. This difference in the number of residues is expected since we know that there are 27 missing residues in the chain E of the mutant structure. More specifically, there are 15 missing residues from the beginning (residue numbers: 319-334) and 12 missing residues form the ending of the chain (residue numbers: 517-528).\n",
    "\n",
    "In order to caclulate the RMSD of the two structures, we have to select their common atoms. First, we select the common residues that are those with residue numbers: 334-516:"
   ]
  },
  {
   "cell_type": "code",
   "execution_count": 5,
   "metadata": {},
   "outputs": [
    {
     "name": "stdout",
     "output_type": "stream",
     "text": [
      "There are 1462 atoms in the orginal structure, and 1474 atoms in the mutant structure.\n"
     ]
    }
   ],
   "source": [
    "original = u_original.select_atoms('segid E and resid 334:516')\n",
    "mutant = u_mutant.select_atoms('segid E and resid 334:516')\n",
    "\n",
    "print(f'There are {original.n_atoms} atoms in the orginal structure, and {mutant.n_atoms} atoms in the mutant structure.' )"
   ]
  },
  {
   "cell_type": "markdown",
   "metadata": {},
   "source": [
    "We observe that the structures still have different number of atoms, which is expected, since some atoms might not have been detected in the two methods of extraction. To that end, we have to find their common atoms. To do that we parse the two objects (`original` and `mutant`) that hold all the informations from the pdb file to find the atoms of each structure by acquiring the following information of each atom:\n",
    "\n",
    "e.g.\n",
    "\n",
    "    NAME RESIDUE_NAME RESID\n",
    "     CA      TYR       369\n",
    "    \n",
    "    \n",
    "We can easily obtain these information, by using the methods `names`, `resnames` and `resnums` on each of the two structures. We hold the results of the parsign in two lists (`atoms_original` and `atoms_mutant`). Finally, we find the common atoms between the two lists by fisrt converting them into python sets and then calculating their intersection. We hold the results in the `common_atoms` and observe that there are 1454 common atoms. "
   ]
  },
  {
   "cell_type": "code",
   "execution_count": 6,
   "metadata": {},
   "outputs": [
    {
     "name": "stdout",
     "output_type": "stream",
     "text": [
      "There are 1454 common atoms.\n"
     ]
    }
   ],
   "source": [
    "atoms_original = [(name, residue, resid) for name, residue, resid in zip(original.atoms.names,\n",
    "                                                                         original.atoms.resnames,\n",
    "                                                                         original.atoms.resnums)]\n",
    "atoms_mutant = [(name, residue, resid) for name, residue, resid in zip(mutant.atoms.names, \n",
    "                                                                       mutant.atoms.resnames,\n",
    "                                                                       mutant.atoms.resnums)]\n",
    "\n",
    "common_atoms = list(set(atoms_original) & set(atoms_mutant))\n",
    "\n",
    "print(f'There are {len(common_atoms)} common atoms.')"
   ]
  },
  {
   "cell_type": "markdown",
   "metadata": {},
   "source": [
    "# RMSD over all atoms"
   ]
  },
  {
   "cell_type": "markdown",
   "metadata": {},
   "source": [
    "We calculate the RMSD over **all common atoms**, between the two structures. "
   ]
  },
  {
   "cell_type": "code",
   "execution_count": 7,
   "metadata": {
    "scrolled": false
   },
   "outputs": [],
   "source": [
    "original_coors = np.array([original.select_atoms(f\"name {name} and resname {residue} and resid {resid}\").positions[0].tolist() \n",
    "                           for name, residue, resid in common_atoms])\n",
    "mutant_coors = np.array([mutant.select_atoms(f\"name {name} and resname {residue} and resid {resid}\").positions[0].tolist() \n",
    "                         for name, residue, resid in common_atoms])"
   ]
  },
  {
   "cell_type": "code",
   "execution_count": 8,
   "metadata": {},
   "outputs": [
    {
     "name": "stdout",
     "output_type": "stream",
     "text": [
      "cRMSD using all atoms is: 0.6302421980565904\n"
     ]
    }
   ],
   "source": [
    "RMSD_all = rms.rmsd(original_coors,  # coordinates to align\n",
    "                    mutant_coors,  # reference coordinates\n",
    "                    center=True,  # subtract the center of geometry\n",
    "                    superposition=True)  # superimpose coordinates\n",
    "\n",
    "print(f'cRMSD using all atoms is: {RMSD_all}')"
   ]
  },
  {
   "cell_type": "markdown",
   "metadata": {},
   "source": [
    "# RMSD over Ca atoms"
   ]
  },
  {
   "cell_type": "markdown",
   "metadata": {},
   "source": [
    "We calculate the RMSD over the **common $C_{\\alpha}$ atoms**, between the two structures. "
   ]
  },
  {
   "cell_type": "code",
   "execution_count": 9,
   "metadata": {},
   "outputs": [],
   "source": [
    "ca_original = np.array([original.select_atoms(f\"name {name} and resname {residue} and resid {resid}\").positions[0].tolist() \n",
    "                 for name, residue, resid in common_atoms \n",
    "                 if name == 'CA'])\n",
    "ca_mutant = np.array([mutant.select_atoms(f\"name {name} and resname {residue} and resid {resid}\").positions[0].tolist() \n",
    "                 for name, residue, resid in common_atoms \n",
    "                 if name == 'CA']) \n"
   ]
  },
  {
   "cell_type": "code",
   "execution_count": 10,
   "metadata": {},
   "outputs": [
    {
     "name": "stdout",
     "output_type": "stream",
     "text": [
      "cRMSD using all atoms is: 0.2925915300664362\n"
     ]
    }
   ],
   "source": [
    "RMSD_Ca = rms.rmsd(ca_original,  # coordinates to align\n",
    "                   ca_mutant,  # reference coordinates\n",
    "                   center=True,  # subtract the center of geometry\n",
    "                   superposition=True)  # superimpose coordinates\n",
    "\n",
    "print(f'cRMSD using all atoms is: {RMSD_Ca}')"
   ]
  },
  {
   "cell_type": "markdown",
   "metadata": {},
   "source": [
    "We note that cRMSD is larger when we use all the atoms than when we use only $C_{\\alpha}$ atoms. This is expected since $C_{\\alpha}$ atoms consist the main element of the proteins backbone and are very conserved and steady structures. Moreover, there are more degrees of freedom when we use all the atoms to calculate the RMSD. "
   ]
  }
 ],
 "metadata": {
  "kernelspec": {
   "display_name": "Python 3 (ipykernel)",
   "language": "python",
   "name": "python3"
  },
  "language_info": {
   "codemirror_mode": {
    "name": "ipython",
    "version": 3
   },
   "file_extension": ".py",
   "mimetype": "text/x-python",
   "name": "python",
   "nbconvert_exporter": "python",
   "pygments_lexer": "ipython3",
   "version": "3.8.12"
  }
 },
 "nbformat": 4,
 "nbformat_minor": 1
}