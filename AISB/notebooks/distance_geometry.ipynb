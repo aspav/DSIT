{
 "cells": [
  {
   "cell_type": "code",
   "execution_count": 1,
   "metadata": {},
   "outputs": [],
   "source": [
    "import pandas as pd\n",
    "import numpy as np\n",
    "from numpy.linalg import svd, det, norm\n",
    "import matplotlib.pyplot as plt"
   ]
  },
  {
   "cell_type": "markdown",
   "metadata": {},
   "source": [
    "# Distance Geometry"
   ]
  },
  {
   "cell_type": "markdown",
   "metadata": {},
   "source": [
    "Below we import  the `cRMSD` function and the auxiliary functions `translate`, `rotate` that are further explained in the `cRMSD_dRMSD.ipynb` jupyter notebook. "
   ]
  },
  {
   "cell_type": "code",
   "execution_count": 2,
   "metadata": {},
   "outputs": [],
   "source": [
    "def translate(x):\n",
    "    x_c = np.mean(x, axis=0)\n",
    "    X = []\n",
    "    for item in x:\n",
    "        X.append(np.subtract(item,x_c))\n",
    "    X = np.array(X) \n",
    "    return X\n",
    "\n",
    "def rotate(X, Y):\n",
    "    \n",
    "    # SVD calculation of U, Σ, V\n",
    "    U, S, V = svd(X.T @ Y)\n",
    "    \n",
    "    # Calculate Q\n",
    "    Q = U @ V\n",
    "    \n",
    "    # Check det\n",
    "    if det(Q) < 0:\n",
    "        for i in range(3):\n",
    "            U[i][2] = U[i][2] * (-1)\n",
    "        Q = U @ V\n",
    "        \n",
    "    return Q\n",
    "\n",
    "def cRMSD(x, y):\n",
    "    \n",
    "    # Translate to common origin\n",
    "    X = translate(x)\n",
    "    Y = translate(y)\n",
    "    \n",
    "    N = len(X)\n",
    "    \n",
    "    # Rotate to optimal alignment\n",
    "    Q = rotate(X, Y)\n",
    "    \n",
    "    # Calculate RMSD\n",
    "    #RMSD = norm(X @ Q - Y) / np.sqrt(len(x)) # vectorized solution\n",
    "    sigma = 0\n",
    "    for i in range(N):\n",
    "        sigma += norm(X[i] @ Q - Y[i])**2\n",
    "\n",
    "    cRMSD = np.sqrt(1 / N * sigma)   \n",
    "    \n",
    "    return cRMSD"
   ]
  },
  {
   "cell_type": "markdown",
   "metadata": {},
   "source": [
    "We obtain the coordinates of the 50 $C_{\\alpha}$ atoms of SARS-COV-2 Spike glycoprotein (PDB id: 7NEH), indexed E401 to E450, using the `MDAnalysis` python library used in PART I and save them in the `coordinates.csv` file.\n",
    "\n",
    "The `coordinates.csv` file is provided to you, in case you don't want to install the `MDAnalysis` library. You can either use the coordinates directly by commenting out and running the following cell,"
   ]
  },
  {
   "cell_type": "code",
   "execution_count": 3,
   "metadata": {},
   "outputs": [],
   "source": [
    "# coordinates = E_original.select_atoms('resid 401:450 and name CA').positions # obtain the coordinates\n",
    "# np.savetxt(\"coordinates.csv\", coordinates, delimiter = \",\") # save them in a file"
   ]
  },
  {
   "cell_type": "markdown",
   "metadata": {},
   "source": [
    "or you can load the `coordinates.csv` file and obtain the coordinates this way: "
   ]
  },
  {
   "cell_type": "code",
   "execution_count": 4,
   "metadata": {},
   "outputs": [],
   "source": [
    "with open('../data/coordinates.csv', 'r') as file:\n",
    "    coors = []\n",
    "    for line in file:\n",
    "        if len(line.strip().split(',')) == 3 :\n",
    "            coor = np.zeros(3) \n",
    "            for i,value in enumerate(line.strip().split(',')):\n",
    "                coor[i] = float(value)\n",
    "            coors.append(coor)"
   ]
  },
  {
   "cell_type": "code",
   "execution_count": 5,
   "metadata": {},
   "outputs": [],
   "source": [
    "# coors # Uncomment to see the obtained coordinates"
   ]
  },
  {
   "cell_type": "markdown",
   "metadata": {},
   "source": [
    "# Calculate Cayley-Menger Matrix B\n",
    "\n",
    "The `compute_distance_matrix` function computes the distances between the coordinates. Since the matrix is symmetric, we only compute the coordinates for the lower triangular matrix for efficiency."
   ]
  },
  {
   "cell_type": "code",
   "execution_count": 6,
   "metadata": {},
   "outputs": [],
   "source": [
    "def compute_distance_matrix(x):\n",
    "    matrix_M = np.zeros((len(x),len(x)))\n",
    "    for i in range(len(x)):\n",
    "        for j in range(0,i):\n",
    "            matrix_M[i][j] = ((norm(x[i]-x[j]))**2)/2\n",
    "            matrix_M[j][i] = matrix_M[i][j]\n",
    "    return matrix_M       "
   ]
  },
  {
   "cell_type": "code",
   "execution_count": 7,
   "metadata": {},
   "outputs": [
    {
     "data": {
      "text/html": [
       "<div>\n",
       "<style scoped>\n",
       "    .dataframe tbody tr th:only-of-type {\n",
       "        vertical-align: middle;\n",
       "    }\n",
       "\n",
       "    .dataframe tbody tr th {\n",
       "        vertical-align: top;\n",
       "    }\n",
       "\n",
       "    .dataframe thead th {\n",
       "        text-align: right;\n",
       "    }\n",
       "</style>\n",
       "<table border=\"1\" class=\"dataframe\">\n",
       "  <thead>\n",
       "    <tr style=\"text-align: right;\">\n",
       "      <th></th>\n",
       "      <th>0</th>\n",
       "      <th>1</th>\n",
       "      <th>2</th>\n",
       "      <th>3</th>\n",
       "      <th>4</th>\n",
       "      <th>5</th>\n",
       "      <th>6</th>\n",
       "      <th>7</th>\n",
       "      <th>8</th>\n",
       "      <th>9</th>\n",
       "      <th>...</th>\n",
       "      <th>40</th>\n",
       "      <th>41</th>\n",
       "      <th>42</th>\n",
       "      <th>43</th>\n",
       "      <th>44</th>\n",
       "      <th>45</th>\n",
       "      <th>46</th>\n",
       "      <th>47</th>\n",
       "      <th>48</th>\n",
       "      <th>49</th>\n",
       "    </tr>\n",
       "  </thead>\n",
       "  <tbody>\n",
       "    <tr>\n",
       "      <th>0</th>\n",
       "      <td>0.000000</td>\n",
       "      <td>7.282306</td>\n",
       "      <td>25.376080</td>\n",
       "      <td>44.483113</td>\n",
       "      <td>70.144568</td>\n",
       "      <td>49.279283</td>\n",
       "      <td>44.994719</td>\n",
       "      <td>86.352430</td>\n",
       "      <td>79.651803</td>\n",
       "      <td>63.522896</td>\n",
       "      <td>...</td>\n",
       "      <td>61.646127</td>\n",
       "      <td>37.152730</td>\n",
       "      <td>61.577198</td>\n",
       "      <td>103.666161</td>\n",
       "      <td>157.632898</td>\n",
       "      <td>170.193599</td>\n",
       "      <td>110.993598</td>\n",
       "      <td>73.268865</td>\n",
       "      <td>74.757190</td>\n",
       "      <td>55.470116</td>\n",
       "    </tr>\n",
       "    <tr>\n",
       "      <th>1</th>\n",
       "      <td>7.282306</td>\n",
       "      <td>0.000000</td>\n",
       "      <td>7.248474</td>\n",
       "      <td>22.270880</td>\n",
       "      <td>34.951604</td>\n",
       "      <td>20.484108</td>\n",
       "      <td>24.520965</td>\n",
       "      <td>54.830459</td>\n",
       "      <td>49.600620</td>\n",
       "      <td>46.971020</td>\n",
       "      <td>...</td>\n",
       "      <td>86.314676</td>\n",
       "      <td>53.566223</td>\n",
       "      <td>68.723920</td>\n",
       "      <td>115.227273</td>\n",
       "      <td>162.735736</td>\n",
       "      <td>166.873418</td>\n",
       "      <td>108.490459</td>\n",
       "      <td>80.599640</td>\n",
       "      <td>79.317459</td>\n",
       "      <td>71.344140</td>\n",
       "    </tr>\n",
       "    <tr>\n",
       "      <th>2</th>\n",
       "      <td>25.376080</td>\n",
       "      <td>7.248474</td>\n",
       "      <td>0.000000</td>\n",
       "      <td>7.133697</td>\n",
       "      <td>14.444006</td>\n",
       "      <td>13.443128</td>\n",
       "      <td>22.987026</td>\n",
       "      <td>48.628424</td>\n",
       "      <td>52.746079</td>\n",
       "      <td>61.623506</td>\n",
       "      <td>...</td>\n",
       "      <td>92.013970</td>\n",
       "      <td>59.435034</td>\n",
       "      <td>62.378229</td>\n",
       "      <td>107.516743</td>\n",
       "      <td>143.580813</td>\n",
       "      <td>145.720733</td>\n",
       "      <td>96.387351</td>\n",
       "      <td>81.849084</td>\n",
       "      <td>86.995907</td>\n",
       "      <td>92.007862</td>\n",
       "    </tr>\n",
       "    <tr>\n",
       "      <th>3</th>\n",
       "      <td>44.483113</td>\n",
       "      <td>22.270880</td>\n",
       "      <td>7.133697</td>\n",
       "      <td>0.000000</td>\n",
       "      <td>7.226499</td>\n",
       "      <td>14.650858</td>\n",
       "      <td>16.402407</td>\n",
       "      <td>35.328874</td>\n",
       "      <td>52.149929</td>\n",
       "      <td>61.791367</td>\n",
       "      <td>...</td>\n",
       "      <td>101.761971</td>\n",
       "      <td>77.493748</td>\n",
       "      <td>80.175042</td>\n",
       "      <td>132.613676</td>\n",
       "      <td>168.497703</td>\n",
       "      <td>179.412771</td>\n",
       "      <td>131.021250</td>\n",
       "      <td>119.319590</td>\n",
       "      <td>135.150508</td>\n",
       "      <td>141.944119</td>\n",
       "    </tr>\n",
       "    <tr>\n",
       "      <th>4</th>\n",
       "      <td>70.144568</td>\n",
       "      <td>34.951604</td>\n",
       "      <td>14.444006</td>\n",
       "      <td>7.226499</td>\n",
       "      <td>0.000000</td>\n",
       "      <td>7.302698</td>\n",
       "      <td>17.250713</td>\n",
       "      <td>24.158980</td>\n",
       "      <td>36.569274</td>\n",
       "      <td>57.405421</td>\n",
       "      <td>...</td>\n",
       "      <td>159.708388</td>\n",
       "      <td>123.662949</td>\n",
       "      <td>121.429434</td>\n",
       "      <td>180.596571</td>\n",
       "      <td>214.943007</td>\n",
       "      <td>215.229160</td>\n",
       "      <td>162.106900</td>\n",
       "      <td>155.284477</td>\n",
       "      <td>162.797761</td>\n",
       "      <td>176.784336</td>\n",
       "    </tr>\n",
       "  </tbody>\n",
       "</table>\n",
       "<p>5 rows × 50 columns</p>\n",
       "</div>"
      ],
      "text/plain": [
       "          0          1          2          3          4          5   \\\n",
       "0   0.000000   7.282306  25.376080  44.483113  70.144568  49.279283   \n",
       "1   7.282306   0.000000   7.248474  22.270880  34.951604  20.484108   \n",
       "2  25.376080   7.248474   0.000000   7.133697  14.444006  13.443128   \n",
       "3  44.483113  22.270880   7.133697   0.000000   7.226499  14.650858   \n",
       "4  70.144568  34.951604  14.444006   7.226499   0.000000   7.302698   \n",
       "\n",
       "          6          7          8          9   ...          40          41  \\\n",
       "0  44.994719  86.352430  79.651803  63.522896  ...   61.646127   37.152730   \n",
       "1  24.520965  54.830459  49.600620  46.971020  ...   86.314676   53.566223   \n",
       "2  22.987026  48.628424  52.746079  61.623506  ...   92.013970   59.435034   \n",
       "3  16.402407  35.328874  52.149929  61.791367  ...  101.761971   77.493748   \n",
       "4  17.250713  24.158980  36.569274  57.405421  ...  159.708388  123.662949   \n",
       "\n",
       "           42          43          44          45          46          47  \\\n",
       "0   61.577198  103.666161  157.632898  170.193599  110.993598   73.268865   \n",
       "1   68.723920  115.227273  162.735736  166.873418  108.490459   80.599640   \n",
       "2   62.378229  107.516743  143.580813  145.720733   96.387351   81.849084   \n",
       "3   80.175042  132.613676  168.497703  179.412771  131.021250  119.319590   \n",
       "4  121.429434  180.596571  214.943007  215.229160  162.106900  155.284477   \n",
       "\n",
       "           48          49  \n",
       "0   74.757190   55.470116  \n",
       "1   79.317459   71.344140  \n",
       "2   86.995907   92.007862  \n",
       "3  135.150508  141.944119  \n",
       "4  162.797761  176.784336  \n",
       "\n",
       "[5 rows x 50 columns]"
      ]
     },
     "execution_count": 7,
     "metadata": {},
     "output_type": "execute_result"
    }
   ],
   "source": [
    "M = compute_distance_matrix(coors)\n",
    "dfm = pd.DataFrame(M)\n",
    "dfm.head()"
   ]
  },
  {
   "cell_type": "markdown",
   "metadata": {},
   "source": [
    "The `computer_boarder_matrix` computes the distances between the coordinates and adds unit padding to the resulted matrix. Similar to `compute_distance_matrix`, since the distance matrix is symmetric, it only computes half of the distances for efficiency."
   ]
  },
  {
   "cell_type": "code",
   "execution_count": 8,
   "metadata": {},
   "outputs": [],
   "source": [
    "def compute_boarder_matrix(x):\n",
    "    # Initialization\n",
    "    matrix_dim = len(x) + 1 # defining matrix dimensions\n",
    "    matrix_B = np.ones((matrix_dim,matrix_dim)) # initializing the matrix with ones\n",
    "    \n",
    "    # Filling the matrxi with the distances and maintaing the ones in the first row and first column\n",
    "    for i in range(matrix_dim):\n",
    "        for j in range(0,i+1):\n",
    "            if i==j:\n",
    "                matrix_B[i][j] = 0.\n",
    "            elif (i>0) and (j>0):\n",
    "                matrix_B[i][j] = ((norm(x[i-1]-x[j-1]))**2)/2\n",
    "                matrix_B[j][i] = matrix_B[i][j]\n",
    "    return matrix_B"
   ]
  },
  {
   "cell_type": "code",
   "execution_count": 9,
   "metadata": {},
   "outputs": [
    {
     "data": {
      "text/html": [
       "<div>\n",
       "<style scoped>\n",
       "    .dataframe tbody tr th:only-of-type {\n",
       "        vertical-align: middle;\n",
       "    }\n",
       "\n",
       "    .dataframe tbody tr th {\n",
       "        vertical-align: top;\n",
       "    }\n",
       "\n",
       "    .dataframe thead th {\n",
       "        text-align: right;\n",
       "    }\n",
       "</style>\n",
       "<table border=\"1\" class=\"dataframe\">\n",
       "  <thead>\n",
       "    <tr style=\"text-align: right;\">\n",
       "      <th></th>\n",
       "      <th>0</th>\n",
       "      <th>1</th>\n",
       "      <th>2</th>\n",
       "      <th>3</th>\n",
       "      <th>4</th>\n",
       "      <th>5</th>\n",
       "      <th>6</th>\n",
       "      <th>7</th>\n",
       "      <th>8</th>\n",
       "      <th>9</th>\n",
       "      <th>...</th>\n",
       "      <th>41</th>\n",
       "      <th>42</th>\n",
       "      <th>43</th>\n",
       "      <th>44</th>\n",
       "      <th>45</th>\n",
       "      <th>46</th>\n",
       "      <th>47</th>\n",
       "      <th>48</th>\n",
       "      <th>49</th>\n",
       "      <th>50</th>\n",
       "    </tr>\n",
       "  </thead>\n",
       "  <tbody>\n",
       "    <tr>\n",
       "      <th>0</th>\n",
       "      <td>0.0</td>\n",
       "      <td>1.000000</td>\n",
       "      <td>1.000000</td>\n",
       "      <td>1.000000</td>\n",
       "      <td>1.000000</td>\n",
       "      <td>1.000000</td>\n",
       "      <td>1.000000</td>\n",
       "      <td>1.000000</td>\n",
       "      <td>1.000000</td>\n",
       "      <td>1.000000</td>\n",
       "      <td>...</td>\n",
       "      <td>1.000000</td>\n",
       "      <td>1.000000</td>\n",
       "      <td>1.000000</td>\n",
       "      <td>1.000000</td>\n",
       "      <td>1.000000</td>\n",
       "      <td>1.000000</td>\n",
       "      <td>1.000000</td>\n",
       "      <td>1.000000</td>\n",
       "      <td>1.000000</td>\n",
       "      <td>1.000000</td>\n",
       "    </tr>\n",
       "    <tr>\n",
       "      <th>1</th>\n",
       "      <td>1.0</td>\n",
       "      <td>0.000000</td>\n",
       "      <td>7.282306</td>\n",
       "      <td>25.376080</td>\n",
       "      <td>44.483113</td>\n",
       "      <td>70.144568</td>\n",
       "      <td>49.279283</td>\n",
       "      <td>44.994719</td>\n",
       "      <td>86.352430</td>\n",
       "      <td>79.651803</td>\n",
       "      <td>...</td>\n",
       "      <td>61.646127</td>\n",
       "      <td>37.152730</td>\n",
       "      <td>61.577198</td>\n",
       "      <td>103.666161</td>\n",
       "      <td>157.632898</td>\n",
       "      <td>170.193599</td>\n",
       "      <td>110.993598</td>\n",
       "      <td>73.268865</td>\n",
       "      <td>74.757190</td>\n",
       "      <td>55.470116</td>\n",
       "    </tr>\n",
       "    <tr>\n",
       "      <th>2</th>\n",
       "      <td>1.0</td>\n",
       "      <td>7.282306</td>\n",
       "      <td>0.000000</td>\n",
       "      <td>7.248474</td>\n",
       "      <td>22.270880</td>\n",
       "      <td>34.951604</td>\n",
       "      <td>20.484108</td>\n",
       "      <td>24.520965</td>\n",
       "      <td>54.830459</td>\n",
       "      <td>49.600620</td>\n",
       "      <td>...</td>\n",
       "      <td>86.314676</td>\n",
       "      <td>53.566223</td>\n",
       "      <td>68.723920</td>\n",
       "      <td>115.227273</td>\n",
       "      <td>162.735736</td>\n",
       "      <td>166.873418</td>\n",
       "      <td>108.490459</td>\n",
       "      <td>80.599640</td>\n",
       "      <td>79.317459</td>\n",
       "      <td>71.344140</td>\n",
       "    </tr>\n",
       "    <tr>\n",
       "      <th>3</th>\n",
       "      <td>1.0</td>\n",
       "      <td>25.376080</td>\n",
       "      <td>7.248474</td>\n",
       "      <td>0.000000</td>\n",
       "      <td>7.133697</td>\n",
       "      <td>14.444006</td>\n",
       "      <td>13.443128</td>\n",
       "      <td>22.987026</td>\n",
       "      <td>48.628424</td>\n",
       "      <td>52.746079</td>\n",
       "      <td>...</td>\n",
       "      <td>92.013970</td>\n",
       "      <td>59.435034</td>\n",
       "      <td>62.378229</td>\n",
       "      <td>107.516743</td>\n",
       "      <td>143.580813</td>\n",
       "      <td>145.720733</td>\n",
       "      <td>96.387351</td>\n",
       "      <td>81.849084</td>\n",
       "      <td>86.995907</td>\n",
       "      <td>92.007862</td>\n",
       "    </tr>\n",
       "    <tr>\n",
       "      <th>4</th>\n",
       "      <td>1.0</td>\n",
       "      <td>44.483113</td>\n",
       "      <td>22.270880</td>\n",
       "      <td>7.133697</td>\n",
       "      <td>0.000000</td>\n",
       "      <td>7.226499</td>\n",
       "      <td>14.650858</td>\n",
       "      <td>16.402407</td>\n",
       "      <td>35.328874</td>\n",
       "      <td>52.149929</td>\n",
       "      <td>...</td>\n",
       "      <td>101.761971</td>\n",
       "      <td>77.493748</td>\n",
       "      <td>80.175042</td>\n",
       "      <td>132.613676</td>\n",
       "      <td>168.497703</td>\n",
       "      <td>179.412771</td>\n",
       "      <td>131.021250</td>\n",
       "      <td>119.319590</td>\n",
       "      <td>135.150508</td>\n",
       "      <td>141.944119</td>\n",
       "    </tr>\n",
       "  </tbody>\n",
       "</table>\n",
       "<p>5 rows × 51 columns</p>\n",
       "</div>"
      ],
      "text/plain": [
       "    0          1          2          3          4          5          6   \\\n",
       "0  0.0   1.000000   1.000000   1.000000   1.000000   1.000000   1.000000   \n",
       "1  1.0   0.000000   7.282306  25.376080  44.483113  70.144568  49.279283   \n",
       "2  1.0   7.282306   0.000000   7.248474  22.270880  34.951604  20.484108   \n",
       "3  1.0  25.376080   7.248474   0.000000   7.133697  14.444006  13.443128   \n",
       "4  1.0  44.483113  22.270880   7.133697   0.000000   7.226499  14.650858   \n",
       "\n",
       "          7          8          9   ...          41         42         43  \\\n",
       "0   1.000000   1.000000   1.000000  ...    1.000000   1.000000   1.000000   \n",
       "1  44.994719  86.352430  79.651803  ...   61.646127  37.152730  61.577198   \n",
       "2  24.520965  54.830459  49.600620  ...   86.314676  53.566223  68.723920   \n",
       "3  22.987026  48.628424  52.746079  ...   92.013970  59.435034  62.378229   \n",
       "4  16.402407  35.328874  52.149929  ...  101.761971  77.493748  80.175042   \n",
       "\n",
       "           44          45          46          47          48          49  \\\n",
       "0    1.000000    1.000000    1.000000    1.000000    1.000000    1.000000   \n",
       "1  103.666161  157.632898  170.193599  110.993598   73.268865   74.757190   \n",
       "2  115.227273  162.735736  166.873418  108.490459   80.599640   79.317459   \n",
       "3  107.516743  143.580813  145.720733   96.387351   81.849084   86.995907   \n",
       "4  132.613676  168.497703  179.412771  131.021250  119.319590  135.150508   \n",
       "\n",
       "           50  \n",
       "0    1.000000  \n",
       "1   55.470116  \n",
       "2   71.344140  \n",
       "3   92.007862  \n",
       "4  141.944119  \n",
       "\n",
       "[5 rows x 51 columns]"
      ]
     },
     "execution_count": 9,
     "metadata": {},
     "output_type": "execute_result"
    }
   ],
   "source": [
    "B = compute_boarder_matrix(coors)\n",
    "dfb = pd.DataFrame(B)\n",
    "dfb.head()"
   ]
  },
  {
   "cell_type": "markdown",
   "metadata": {},
   "source": [
    "# Compute rank(B)\n",
    "\n",
    "Then we compute the rank of the padded matrix $\\mathbf{B}$.\n",
    "\n",
    "As expected, the rank of the matrix is $5$ since from the Cayley-Menger theorem it should be $rank(\\mathbf{M})+2$, where the rank of $\\mathbf{M}$ is $3$ because it represents the distances of the embedded coordinates in $3$ dimensions."
   ]
  },
  {
   "cell_type": "code",
   "execution_count": 10,
   "metadata": {},
   "outputs": [
    {
     "data": {
      "text/plain": [
       "5"
      ]
     },
     "execution_count": 10,
     "metadata": {},
     "output_type": "execute_result"
    }
   ],
   "source": [
    "rank_b = np.linalg.matrix_rank(B)\n",
    "rank_b"
   ]
  },
  {
   "cell_type": "markdown",
   "metadata": {},
   "source": [
    "# Perturb entries by 2% and 4%\n",
    "\n",
    "Next, we perturb the entries of the matrix $\\mathbf{B}$ by $2\\%$ and $4\\%$. To that end, we created the function `perturb`, that perturbs the entries of a matrix by a given percentage. The functions selects, uniformly at random, a perturb value, according to the given percentage, that adds to the original one in order to obtain the resulted perturbed matrix."
   ]
  },
  {
   "cell_type": "code",
   "execution_count": 11,
   "metadata": {},
   "outputs": [],
   "source": [
    "def perturb(matrix, p):\n",
    "    \n",
    "    matrix_dim = len(matrix[0])\n",
    "    perturbed_matrix = np.zeros((matrix_dim, matrix_dim))\n",
    "    \n",
    "    for i in range(1,matrix_dim):\n",
    "        for j in range(1,i):\n",
    "            old_value = matrix[i][j] # old value of i,j cell in the matrix\n",
    "            per_value = p / 100 * old_value # maximum number to add, accoriding to \"p\" \n",
    "            random_value = np.random.choice([-per_value, +per_value]) # calculate the random value that will be added to the orgianl value\n",
    "            new_value = np.abs(old_value + random_value) # add the new value\n",
    "\n",
    "            \n",
    "            perturbed_matrix[i][j] = new_value # attribute the perturbed value to the matrix\n",
    "            perturbed_matrix[j][i] = perturbed_matrix[i][j]\n",
    "    \n",
    "    return perturbed_matrix"
   ]
  },
  {
   "cell_type": "code",
   "execution_count": 12,
   "metadata": {},
   "outputs": [],
   "source": [
    "# Perturb entries by 2%\n",
    "per2 = perturb(B,2)\n",
    "dfper2 = pd.DataFrame(per2)\n",
    "\n",
    "\n",
    "# Perturb entr1ies by 4%\n",
    "per4 = perturb(B,4)\n",
    "dfper4 = pd.DataFrame(per4)"
   ]
  },
  {
   "cell_type": "markdown",
   "metadata": {},
   "source": [
    "# Rank of perturbed matrices\n",
    "\n",
    "Then, we compute the rank of each perturbed matrix. As expected the rank of the perturbed matrices is larger than $5$ since the perturbation makes the matrix unable to be embedded in $3$ dimensions."
   ]
  },
  {
   "cell_type": "code",
   "execution_count": 13,
   "metadata": {},
   "outputs": [
    {
     "name": "stdout",
     "output_type": "stream",
     "text": [
      "50 50\n"
     ]
    }
   ],
   "source": [
    "rank_per2 = np.linalg.matrix_rank(per2)\n",
    "rank_per4 = np.linalg.matrix_rank(per4)\n",
    "\n",
    "print(rank_per2, rank_per4)"
   ]
  },
  {
   "cell_type": "markdown",
   "metadata": {},
   "source": [
    "# Compute Coordinates\n",
    "\n",
    "In order to obtain the $3$-dimensional coordinates, we have to compute the Gram matrix and the perform SVD on the Gram matrix. From the resulted matrix $\\Sigma$ we can create a new matrix $\\Sigma'$."
   ]
  },
  {
   "cell_type": "code",
   "execution_count": 14,
   "metadata": {},
   "outputs": [],
   "source": [
    "def compute_3D_coordinates(matrix_B):\n",
    "    \n",
    "    # Initialize the Gram matrix\n",
    "    matrix_dimensions = len(matrix_B) -1\n",
    "    matrix_G = np.zeros((matrix_dimensions, matrix_dimensions))\n",
    "    \n",
    "    # Compute the Gram matrix, using the border Cayley Menger entries and\n",
    "    # using as origin the coordinates of the first structure.\n",
    "    for i in range(1, matrix_dimensions):\n",
    "        for j in range(1, matrix_dimensions):\n",
    "            matrix_G[i-1][j-1] = matrix_B[i, 1] - matrix_B[i, j] + matrix_B[1, j]\n",
    "            \n",
    "    # Apply SVD to Gram matrix       \n",
    "    U, S, V_T = svd(matrix_G)\n",
    "    \n",
    "    # Generate a diagonal matrix S' that holds only the first three entries of S\n",
    "    # in its diagonal and all the other entries are 0.\n",
    "    S[3:] = 0\n",
    "    S_prime = np.diag(S)\n",
    "    \n",
    "    # Compoute the coordinates P = S'^(1/2)*V^T\n",
    "    P = np.sqrt(S_prime) @ V_T\n",
    "    coordinates = P[0:3, :].T\n",
    "    \n",
    "    return coordinates"
   ]
  },
  {
   "cell_type": "code",
   "execution_count": 15,
   "metadata": {},
   "outputs": [],
   "source": [
    "coors_per2 = compute_3D_coordinates(per2)"
   ]
  },
  {
   "cell_type": "code",
   "execution_count": 16,
   "metadata": {},
   "outputs": [
    {
     "data": {
      "text/plain": [
       "1.5117783845218153"
      ]
     },
     "execution_count": 16,
     "metadata": {},
     "output_type": "execute_result"
    }
   ],
   "source": [
    "cRMSD(coors,coors_per2)"
   ]
  },
  {
   "cell_type": "code",
   "execution_count": 17,
   "metadata": {},
   "outputs": [],
   "source": [
    "coors_per4 = compute_3D_coordinates(per4)"
   ]
  },
  {
   "cell_type": "code",
   "execution_count": 18,
   "metadata": {},
   "outputs": [
    {
     "data": {
      "text/plain": [
       "1.6575069796260629"
      ]
     },
     "execution_count": 18,
     "metadata": {},
     "output_type": "execute_result"
    }
   ],
   "source": [
    "cRMSD(coors,coors_per4)"
   ]
  },
  {
   "cell_type": "code",
   "execution_count": 19,
   "metadata": {},
   "outputs": [],
   "source": [
    "noise_perturbation = [2, 4, 6, 10, 15, 20, 25, 30, 40, 50]\n",
    "cRMSD_perturbed = []\n",
    "\n",
    "for noise in noise_perturbation:\n",
    "    pertubed_matrix = perturb(B,noise)\n",
    "    approximate_coors = compute_3D_coordinates(pertubed_matrix)\n",
    "    cRMSD_perturbed.append(cRMSD(coors, approximate_coors))"
   ]
  },
  {
   "cell_type": "code",
   "execution_count": 20,
   "metadata": {},
   "outputs": [
    {
     "data": {
      "image/png": "[encoded data removed]",
      "text/plain": [
       "<Figure size 648x504 with 1 Axes>"
      ]
     },
     "metadata": {
      "needs_background": "light"
     },
     "output_type": "display_data"
    }
   ],
   "source": [
    "plt.figure(figsize=(9,7))\n",
    "plt.plot(noise_perturbation,cRMSD_perturbed, color='darkcyan', marker='o')\n",
    "plt.grid(alpha=0.7)\n",
    "plt.xticks([i for i in range(2,50,2)])\n",
    "plt.xlabel('% Perturbation', fontsize=18)\n",
    "plt.ylabel('cRMSD', fontsize=18)\n",
    "plt.title('cRMSD of approximate and original coordinates,\\n after different peturbations of the original distances', \n",
    "         fontsize=18)\n",
    "plt.text(32, 3, 'cRMSD-(2%): ' + str(cRMSD_perturbed[0])[:4] + '\\n\\n' +\n",
    "                'cRMSD-(4%): ' + str(cRMSD_perturbed[1])[:4], fontsize=14)\n",
    "plt.savefig('cRMSD_for different_perturbations.pdf')\n",
    "plt.show()"
   ]
  },
  {
   "cell_type": "markdown",
   "metadata": {},
   "source": [
    "As shown in the figure above, the more we perturb the original matrix, the more the c-RMSD increase."
   ]
  }
 ],
 "metadata": {
  "kernelspec": {
   "display_name": "Python 3 (ipykernel)",
   "language": "python",
   "name": "python3"
  },
  "language_info": {
   "codemirror_mode": {
    "name": "ipython",
    "version": 3
   },
   "file_extension": ".py",
   "mimetype": "text/x-python",
   "name": "python",
   "nbconvert_exporter": "python",
   "pygments_lexer": "ipython3",
   "version": "3.8.12"
  }
 },
 "nbformat": 4,
 "nbformat_minor": 1
}