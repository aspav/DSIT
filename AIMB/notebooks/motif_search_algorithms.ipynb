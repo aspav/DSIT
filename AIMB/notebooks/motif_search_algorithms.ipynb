{
 "cells": [
  {
   "cell_type": "markdown",
   "metadata": {
    "collapsed": true,
    "pycharm": {
     "name": "#%% md\n"
    }
   },
   "source": [
    "## Algorithms in Molecular Biology"
   ]
  },
  {
   "cell_type": "markdown",
   "metadata": {},
   "source": [
    "First of all, we import all required packages for running the notebook."
   ]
  },
  {
   "cell_type": "code",
   "execution_count": 1,
   "metadata": {
    "pycharm": {
     "name": "#%%\n"
    }
   },
   "outputs": [],
   "source": [
    "import matplotlib.pyplot as plt\n",
    "import random\n",
    "import timeit\n",
    "import time\n",
    "import numpy as np\n",
    "import pandas as pd\n",
    "from itertools import product, combinations\n",
    "from tqdm import tqdm"
   ]
  },
  {
   "cell_type": "markdown",
   "metadata": {},
   "source": [
    "# Introduction\n",
    "\n",
    "\n",
    "The identification of a sequence, plays a very important role in most operations of cell cycle. Looking closer to the DNA replication, DNA transcription or RNA translation, all three opreations depend on the identification of a specific sequences that regulate either the initiation or the temination of the operation. The cells have mechanisms to perform the identification of a regulatory sequence, that are are able to identify a degenerated sequence as well. For the purpose of this Assignment, we will focus on DNA transcription, which is the initiation of a specific gene expression. In the upstream region of the gene, that is the initiation site of the DNA transciption, exist specific recognition sequences (regulatory motifs), where transcription factors (proteins) bind in order to stimulate or supress the expression of the specific gene. A regulatory motif can be not gene-specific, and thus regulatory motifs can exist in the initiation site of multiple genes. The identification of such motifs is of great importance, for targeting a specific gene expression and thus a specific disease. We are going to compare three different algorithms that aim to identify such regulatory motifs, using a synthetic dataset of 10 DNA strings randomly constructed, in each of which the original or a mutated motif of various lengths has been used. The three algorithms, Brute Force, Greedy Search and Randomized Search, use different approaches to deal with the problem of identifying the implanted sequences and they are going to be compared in terms of execution time and accuracy of their prediction."
   ]
  },
  {
   "cell_type": "markdown",
   "metadata": {},
   "source": [
    "# Methods\n",
    "\n",
    "# Synthetic Dataset Generation\n",
    "\n",
    "In order to perform the exepriments regarding the efficiency of the three different algorithms, we generate a synthtic dataset of dna strings of different sizes, that contain randomly implanted subsequences, that represent the regulatory motifs (k-mers). The number $k$ refers to the length of the motif, e.g. a 15-mer is a string of legth $15$. Moreover, some of the randomly implanted $k$-mers are artificially mutated. A mutation is an alteration in the DNA sequence. There are different type of mutations, point mutations, insertions, deletions etc. For the purpose of this assignment, we deal only with point mutations, that are considered to be a mismatch in a specific position of the sequence, where the initial base is replaced by another base. Therefore, we mutate the k-mers by creating mismatches in them. The number of mismatches ,$d$ , is considered to be less than $\\frac{k}{2}$. \n",
    "\n",
    "\n",
    "To that end, we are going to create some preliminary functions to help us generate the synthetic dataset. First, we create the `CreateRandStr` function, to generate random strings. The `CreateRandStr`, takes as input the symbols that will be used, in our case the DNA bases (A, T, G, C), and the length of the string that we want to generate."
   ]
  },
  {
   "cell_type": "code",
   "execution_count": 2,
   "metadata": {
    "pycharm": {
     "name": "#%%\n"
    }
   },
   "outputs": [],
   "source": [
    "def CreateRandStr(alphabet,str_len):\n",
    "    rand_str = \"\"\n",
    "    chr_cnt = 0\n",
    "    while chr_cnt < str_len:\n",
    "        rand_str = rand_str + alphabet[random.randint(0,len(alphabet)-1)]\n",
    "        chr_cnt = chr_cnt + 1\n",
    "    return rand_str"
   ]
  },
  {
   "cell_type": "markdown",
   "metadata": {},
   "source": [
    "We also store the DNA bases in the variable `bases`."
   ]
  },
  {
   "cell_type": "code",
   "execution_count": 3,
   "metadata": {},
   "outputs": [],
   "source": [
    "bases = [\"A\", \"T\", \"C\", \"G\"]"
   ]
  },
  {
   "cell_type": "markdown",
   "metadata": {},
   "source": [
    "We will use the `CreateStr` function to generate the random DNA strings as well as the kmers that are going to be implanted in them. We also create the `MutateStr` function to randomly mutate the constructed k-mers by creating mismatches in random positions in them. The `MutateStr` function, takes as input an `alphabet`, in our case the DNA bases, the `string` that will be mutated, and an integer `d`, representing the number of mutations."
   ]
  },
  {
   "cell_type": "code",
   "execution_count": 4,
   "metadata": {},
   "outputs": [],
   "source": [
    "def MutateStr(alphabet,string, d):\n",
    "    # Create d random positions (indices). \n",
    "    rand_idx = random.sample(list(range(0,len(string))), d)\n",
    "    # Create a list of the bases of the kmer.\n",
    "    _string = list(string)\n",
    "    \n",
    "    # For each generated position of the kmer, change its element with a random element from the alphabet given\n",
    "    for i in rand_idx:\n",
    "        _string[i] =  alphabet[random.randint(0,len(alphabet)-1)]\n",
    "    # Concatenate the list of the mutated kmer to a string\n",
    "    mutated_string = ''.join(_string)\n",
    "    return mutated_string"
   ]
  },
  {
   "cell_type": "markdown",
   "metadata": {},
   "source": [
    "Furthermore, we create the `Implant` function, to randomly implant the mutated kmers in the generated DNA strings. The function takes as input the `string` and the `kmer`, that will be implanted in arandom position in it. "
   ]
  },
  {
   "cell_type": "code",
   "execution_count": 5,
   "metadata": {},
   "outputs": [],
   "source": [
    "def Implant(string, kmer):\n",
    "    # Create a random position in the string\n",
    "    rand_pos = random.randint(0,len(string))\n",
    "    # Represent the string as a list.\n",
    "    _string = list(string)\n",
    "    # Insert the kmer in the random position.\n",
    "    _string.insert(rand_pos, kmer)\n",
    "    # # Concatenate the list of the altered DNA string to a string\n",
    "    final_string = ''.join(_string)\n",
    "    return final_string"
   ]
  },
  {
   "cell_type": "markdown",
   "metadata": {},
   "source": [
    "Finally, we create the `generate_dataset` function to generate a dataset given the following parameters, that the function takes as input:\n",
    "\n",
    "- `alphabet` : the alphabet that will be used to generate the initial DNA strings, the kmers, and the mutations, in our case the DNA bases.\n",
    "- `l` : the length of the initial DNA strings, e.g. the upstream region (initiation site) of a specific gene.\n",
    "- `t` : the number of the the DNA strings that will be generated.\n",
    "- `k` : the length of the kmer that will be implanted in the DNA strings and must be identified (regulatory motifs).\n",
    "- `d` : the maximum number of mismatches allowed to the mutated kmers.\n",
    "\n",
    "The function, initially cerates `t` randomly generated strings of length `l`, using the alphabet and the `CreateStr` function. Then, it creates the original kmer in the same way, using the alphabet and the `CreateStr` function. Using the `MutateStr`, it created `t`-1 mutated kmers with up to d mismatches, that along with the original kmers are stored in a list. Finally `Implant` function, it implants each kmer of the list in a random position of the initial DNA strings. In the end, it returns the final dataset, that consists of `t` DNA strings of length `l` + `k`, each one having one implanted kmer, either the mutated or the original, that must be identified."
   ]
  },
  {
   "cell_type": "code",
   "execution_count": 6,
   "metadata": {},
   "outputs": [],
   "source": [
    "def generate_dataset(alphabet, l, t, k, d):\n",
    "    # Generate t DNA stings of length l each\n",
    "    dna_strings = []\n",
    "    for i in range(t):\n",
    "        dna_strings.append(CreateRandStr(alphabet, l))\n",
    "        \n",
    "    # Create the original kmer that must be identified.\n",
    "    kmer = CreateRandStr(alphabet, k)\n",
    "    \n",
    "    # Create the mutated kmers, with up to d mismatches.\n",
    "    mutated_kmers = [kmer]\n",
    "    count = 0 \n",
    "    while count<t-1:\n",
    "        count += 1\n",
    "        for dd in range(1,d+1):\n",
    "            mutated_kmers.append(MutateStr(alphabet, kmer, dd))\n",
    "    \n",
    "    # Implant the mutated kmers, one in each string and hold the results in a list.\n",
    "    # Return the list of the DNA strings, the initial kmer, and the list of the mutated kmers.\n",
    "    dataset = []\n",
    "    for j, dna_string in enumerate(dna_strings):\n",
    "        dataset.append(Implant(dna_string, mutated_kmers[j]))\n",
    "        \n",
    "    return dataset, kmer, mutated_kmers"
   ]
  },
  {
   "cell_type": "markdown",
   "metadata": {},
   "source": [
    "We define the parameters for the dataset generation, as presented in the cell below. In ordet to assess our algorithms we generate $10$ DNA strings of initial length $100$, to which all the possible combinations of k-d mers will be implanted, for kmers of lengths $6, 7, 8, 9, 10, 12, 15$ and mismatches $1, 2, 3$. Furthermore, we define the time limit to 1 hour for the bruteforce algorithm and the number of runs for the randomized algorithm to $10, 100, 1000$. The last parameters are further analyzed in the following sections."
   ]
  },
  {
   "cell_type": "code",
   "execution_count": 7,
   "metadata": {},
   "outputs": [],
   "source": [
    "# The length of each dna string of the dataset.\n",
    "dna_string_length = 100\n",
    "\n",
    "# The number of dna strings in the dataset.\n",
    "dna_string_number = 10\n",
    "\n",
    "# The range of length of kmers implanted in the dataset.\n",
    "kmer_length = [6, 7, 8, 9, 10, 12, 15]\n",
    "\n",
    "# The range of number of mismatches allowed.\n",
    "mismatches = [1, 2, 3]\n",
    "\n",
    "# The time limit for the brute force algorithm.\n",
    "time_limit = 3600\n",
    "\n",
    "# The number of iterations for the randomized motif search algorithm.\n",
    "iterations = [10, 100, 1000]"
   ]
  },
  {
   "cell_type": "code",
   "execution_count": 8,
   "metadata": {},
   "outputs": [
    {
     "data": {
      "text/html": [
       "<div>\n",
       "<style scoped>\n",
       "    .dataframe tbody tr th:only-of-type {\n",
       "        vertical-align: middle;\n",
       "    }\n",
       "\n",
       "    .dataframe tbody tr th {\n",
       "        vertical-align: top;\n",
       "    }\n",
       "\n",
       "    .dataframe thead tr th {\n",
       "        text-align: left;\n",
       "    }\n",
       "</style>\n",
       "<table border=\"1\" class=\"dataframe\">\n",
       "  <thead>\n",
       "    <tr>\n",
       "      <th></th>\n",
       "      <th colspan=\"2\" halign=\"left\">6</th>\n",
       "      <th colspan=\"3\" halign=\"left\">7</th>\n",
       "      <th colspan=\"3\" halign=\"left\">8</th>\n",
       "      <th colspan=\"3\" halign=\"left\">9</th>\n",
       "      <th colspan=\"3\" halign=\"left\">10</th>\n",
       "      <th colspan=\"3\" halign=\"left\">12</th>\n",
       "      <th colspan=\"3\" halign=\"left\">15</th>\n",
       "    </tr>\n",
       "    <tr>\n",
       "      <th></th>\n",
       "      <th>1</th>\n",
       "      <th>2</th>\n",
       "      <th>1</th>\n",
       "      <th>2</th>\n",
       "      <th>3</th>\n",
       "      <th>1</th>\n",
       "      <th>2</th>\n",
       "      <th>3</th>\n",
       "      <th>1</th>\n",
       "      <th>2</th>\n",
       "      <th>3</th>\n",
       "      <th>1</th>\n",
       "      <th>2</th>\n",
       "      <th>3</th>\n",
       "      <th>1</th>\n",
       "      <th>2</th>\n",
       "      <th>3</th>\n",
       "      <th>1</th>\n",
       "      <th>2</th>\n",
       "      <th>3</th>\n",
       "    </tr>\n",
       "  </thead>\n",
       "  <tbody>\n",
       "    <tr>\n",
       "      <th>dataset</th>\n",
       "      <td>[CGCCCAGATTGGGCGAGTTTCACACAGTGCTGAATGGCGGAGTTA...</td>\n",
       "      <td>[TCGCTAATGTAGAAAGTGTAAAACGGAGACTCCAGTTTGACGGTT...</td>\n",
       "      <td>[CTGATGACAATGTCAGCAGCAAGTGCCCAAGTACAAGGTAGAAAT...</td>\n",
       "      <td>[CACTGTCTACAGGACGGCGGGTAATGAGGCAAAGGTCTCGAAGTG...</td>\n",
       "      <td>[GCCACCGAGTGCCTGGTTTCCTACTTACAGTTTTTTGGGTTGAGC...</td>\n",
       "      <td>[GGTTGTACGGTTCGAGATCAGTTCCCTCCATTAGGGGGGGGTCGG...</td>\n",
       "      <td>[CATCTACCTGACGAGGTTGCACCCGGTCGGGTTTTGATGGCAGCA...</td>\n",
       "      <td>[TTAAGTGAGAGCAACACATAGGAATTTCCCTCCGTAGAGTGGCTT...</td>\n",
       "      <td>[TCACCGGGCGTGTTGCTAGGAATAGAGTCGACCCTGTTGAAAAAA...</td>\n",
       "      <td>[GTATTTAGAATTGTATAATACTACGCTCCGCAGTGCGACCAAATG...</td>\n",
       "      <td>[CTGGTGTGAGGTCGACCGCCAGACTCGTCTCTAACACCCACCACC...</td>\n",
       "      <td>[TATTTTCCCGTTTTACGGCGTGGCGGGCTCCCAAGCTTGTGGCAT...</td>\n",
       "      <td>[ATAAAGACTATAGTCTGAAGACGATTATGAAATGGCTAACTCACC...</td>\n",
       "      <td>[GGGTCACAAGTACCAGACGCCTTAGCGGAAACCGGACTATGAGCT...</td>\n",
       "      <td>[TTCAGGAAAATGATGGGCGTCGGATCTACTGGTAGCATCGTACGC...</td>\n",
       "      <td>[CCTTCACAATACTCTTCACCTCGGGTGTTTCCATCACGTAGGCCT...</td>\n",
       "      <td>[CCAGTGGGACCCGGATAACCGGATATCAGGACTACACAGATTGCT...</td>\n",
       "      <td>[AGGTAACGACCCACAGCACATCACACTGCTGGCAAGGGGTTCTTT...</td>\n",
       "      <td>[GACCCTCACCCCTTATATTCGGGCTAGTGGTCAGTATGGACCGGA...</td>\n",
       "      <td>[AGGCGGTCTCCGGTCCGTCGTAAGCCTCACCCTGGCGCCAGGCGA...</td>\n",
       "    </tr>\n",
       "    <tr>\n",
       "      <th>kmer</th>\n",
       "      <td>GGCGGA</td>\n",
       "      <td>CAGTTT</td>\n",
       "      <td>AGAAATA</td>\n",
       "      <td>CGGCGGG</td>\n",
       "      <td>GTTTTTT</td>\n",
       "      <td>GAGATCAG</td>\n",
       "      <td>TGTGCTCA</td>\n",
       "      <td>CAGCTTTC</td>\n",
       "      <td>GAGTGGCTG</td>\n",
       "      <td>TAAGAGGCT</td>\n",
       "      <td>CGCAAAGGA</td>\n",
       "      <td>TAGGTGTAAG</td>\n",
       "      <td>GTCATTAACG</td>\n",
       "      <td>GGACTATGAG</td>\n",
       "      <td>TTTTGGCTTGAC</td>\n",
       "      <td>CTCTTCACCTCG</td>\n",
       "      <td>ATCAGGACTACA</td>\n",
       "      <td>CCTTTGAAGAGGAGA</td>\n",
       "      <td>TGGACCGGAGTATGG</td>\n",
       "      <td>GCGCCAGGCGACACA</td>\n",
       "    </tr>\n",
       "    <tr>\n",
       "      <th>mutated_kmers</th>\n",
       "      <td>[GGCGGA, GGCGGA, GCCGGA, GTCGGA, GGCGGA, GGAGG...</td>\n",
       "      <td>[CAGTTT, CAGGTT, CTGGTT, CAGTTT, CAGTTG, CAGTT...</td>\n",
       "      <td>[AGAAATA, AGGAATA, AGCAATA, AGCAATA, AGAAATA, ...</td>\n",
       "      <td>[CGGCGGG, CCGCGGG, CGGCAGT, CGGCGGG, CGACGCG, ...</td>\n",
       "      <td>[GTTTTTT, GTTTTGT, GTCTGTT, CTTATTA, GTGTTTT, ...</td>\n",
       "      <td>[GAGATCAG, GAGATCAC, GAGATCAG, GAGGTCAG, GAGAT...</td>\n",
       "      <td>[TGTGCTCA, TGAGCTCA, TGTGGTCA, TGTACTCA, TGGGG...</td>\n",
       "      <td>[CAGCTTTC, CAGCTTTC, CACCTTTA, GCGCTTGC, CAGCC...</td>\n",
       "      <td>[GAGTGGCTG, GACTGGCTG, GAGTGTCTG, GAGCGGCTG, G...</td>\n",
       "      <td>[TAAGAGGCT, CAAGAGGCT, AAGGAGGCT, TAACAGGCT, T...</td>\n",
       "      <td>[CGCAAAGGA, CGCATAGGA, CAAAAAGGA, CGCTGAGGA, C...</td>\n",
       "      <td>[TAGGTGTAAG, TAGGTGTCAG, TAGGTGTAGG, TAGGTGTAA...</td>\n",
       "      <td>[GTCATTAACG, GTCATTGACG, GTCATTAAAG, GGCATTAAC...</td>\n",
       "      <td>[GGACTATGAG, CGACTATGAG, GGACTATGCG, GCACTATGA...</td>\n",
       "      <td>[TTTTGGCTTGAC, TCTTGGCTTGAC, TCTTGGCTTGAC, TTT...</td>\n",
       "      <td>[CTCTTCACCTCG, CTCTTCACCTGG, CTCTTAACCTCC, CTC...</td>\n",
       "      <td>[ATCAGGACTACA, ATCAGAACTACA, ATTAGGACTTCA, CTC...</td>\n",
       "      <td>[CCTTTGAAGAGGAGA, CCTTTGAAGAGGAGA, CCTTTGAAGAG...</td>\n",
       "      <td>[TGGACCGGAGTATGG, TGGACCGGAGTATGG, TGGACCGGAGT...</td>\n",
       "      <td>[GCGCCAGGCGACACA, GCGCCAGGCGACACA, GCGCCAGGAGA...</td>\n",
       "    </tr>\n",
       "  </tbody>\n",
       "</table>\n",
       "</div>"
      ],
      "text/plain": [
       "                                                              6   \\\n",
       "                                                               1   \n",
       "dataset        [CGCCCAGATTGGGCGAGTTTCACACAGTGCTGAATGGCGGAGTTA...   \n",
       "kmer                                                      GGCGGA   \n",
       "mutated_kmers  [GGCGGA, GGCGGA, GCCGGA, GTCGGA, GGCGGA, GGAGG...   \n",
       "\n",
       "                                                                  \\\n",
       "                                                               2   \n",
       "dataset        [TCGCTAATGTAGAAAGTGTAAAACGGAGACTCCAGTTTGACGGTT...   \n",
       "kmer                                                      CAGTTT   \n",
       "mutated_kmers  [CAGTTT, CAGGTT, CTGGTT, CAGTTT, CAGTTG, CAGTT...   \n",
       "\n",
       "                                                              7   \\\n",
       "                                                               1   \n",
       "dataset        [CTGATGACAATGTCAGCAGCAAGTGCCCAAGTACAAGGTAGAAAT...   \n",
       "kmer                                                     AGAAATA   \n",
       "mutated_kmers  [AGAAATA, AGGAATA, AGCAATA, AGCAATA, AGAAATA, ...   \n",
       "\n",
       "                                                                  \\\n",
       "                                                               2   \n",
       "dataset        [CACTGTCTACAGGACGGCGGGTAATGAGGCAAAGGTCTCGAAGTG...   \n",
       "kmer                                                     CGGCGGG   \n",
       "mutated_kmers  [CGGCGGG, CCGCGGG, CGGCAGT, CGGCGGG, CGACGCG, ...   \n",
       "\n",
       "                                                                  \\\n",
       "                                                               3   \n",
       "dataset        [GCCACCGAGTGCCTGGTTTCCTACTTACAGTTTTTTGGGTTGAGC...   \n",
       "kmer                                                     GTTTTTT   \n",
       "mutated_kmers  [GTTTTTT, GTTTTGT, GTCTGTT, CTTATTA, GTGTTTT, ...   \n",
       "\n",
       "                                                              8   \\\n",
       "                                                               1   \n",
       "dataset        [GGTTGTACGGTTCGAGATCAGTTCCCTCCATTAGGGGGGGGTCGG...   \n",
       "kmer                                                    GAGATCAG   \n",
       "mutated_kmers  [GAGATCAG, GAGATCAC, GAGATCAG, GAGGTCAG, GAGAT...   \n",
       "\n",
       "                                                                  \\\n",
       "                                                               2   \n",
       "dataset        [CATCTACCTGACGAGGTTGCACCCGGTCGGGTTTTGATGGCAGCA...   \n",
       "kmer                                                    TGTGCTCA   \n",
       "mutated_kmers  [TGTGCTCA, TGAGCTCA, TGTGGTCA, TGTACTCA, TGGGG...   \n",
       "\n",
       "                                                                  \\\n",
       "                                                               3   \n",
       "dataset        [TTAAGTGAGAGCAACACATAGGAATTTCCCTCCGTAGAGTGGCTT...   \n",
       "kmer                                                    CAGCTTTC   \n",
       "mutated_kmers  [CAGCTTTC, CAGCTTTC, CACCTTTA, GCGCTTGC, CAGCC...   \n",
       "\n",
       "                                                              9   \\\n",
       "                                                               1   \n",
       "dataset        [TCACCGGGCGTGTTGCTAGGAATAGAGTCGACCCTGTTGAAAAAA...   \n",
       "kmer                                                   GAGTGGCTG   \n",
       "mutated_kmers  [GAGTGGCTG, GACTGGCTG, GAGTGTCTG, GAGCGGCTG, G...   \n",
       "\n",
       "                                                                  \\\n",
       "                                                               2   \n",
       "dataset        [GTATTTAGAATTGTATAATACTACGCTCCGCAGTGCGACCAAATG...   \n",
       "kmer                                                   TAAGAGGCT   \n",
       "mutated_kmers  [TAAGAGGCT, CAAGAGGCT, AAGGAGGCT, TAACAGGCT, T...   \n",
       "\n",
       "                                                                  \\\n",
       "                                                               3   \n",
       "dataset        [CTGGTGTGAGGTCGACCGCCAGACTCGTCTCTAACACCCACCACC...   \n",
       "kmer                                                   CGCAAAGGA   \n",
       "mutated_kmers  [CGCAAAGGA, CGCATAGGA, CAAAAAGGA, CGCTGAGGA, C...   \n",
       "\n",
       "                                                              10  \\\n",
       "                                                               1   \n",
       "dataset        [TATTTTCCCGTTTTACGGCGTGGCGGGCTCCCAAGCTTGTGGCAT...   \n",
       "kmer                                                  TAGGTGTAAG   \n",
       "mutated_kmers  [TAGGTGTAAG, TAGGTGTCAG, TAGGTGTAGG, TAGGTGTAA...   \n",
       "\n",
       "                                                                  \\\n",
       "                                                               2   \n",
       "dataset        [ATAAAGACTATAGTCTGAAGACGATTATGAAATGGCTAACTCACC...   \n",
       "kmer                                                  GTCATTAACG   \n",
       "mutated_kmers  [GTCATTAACG, GTCATTGACG, GTCATTAAAG, GGCATTAAC...   \n",
       "\n",
       "                                                                  \\\n",
       "                                                               3   \n",
       "dataset        [GGGTCACAAGTACCAGACGCCTTAGCGGAAACCGGACTATGAGCT...   \n",
       "kmer                                                  GGACTATGAG   \n",
       "mutated_kmers  [GGACTATGAG, CGACTATGAG, GGACTATGCG, GCACTATGA...   \n",
       "\n",
       "                                                              12  \\\n",
       "                                                               1   \n",
       "dataset        [TTCAGGAAAATGATGGGCGTCGGATCTACTGGTAGCATCGTACGC...   \n",
       "kmer                                                TTTTGGCTTGAC   \n",
       "mutated_kmers  [TTTTGGCTTGAC, TCTTGGCTTGAC, TCTTGGCTTGAC, TTT...   \n",
       "\n",
       "                                                                  \\\n",
       "                                                               2   \n",
       "dataset        [CCTTCACAATACTCTTCACCTCGGGTGTTTCCATCACGTAGGCCT...   \n",
       "kmer                                                CTCTTCACCTCG   \n",
       "mutated_kmers  [CTCTTCACCTCG, CTCTTCACCTGG, CTCTTAACCTCC, CTC...   \n",
       "\n",
       "                                                                  \\\n",
       "                                                               3   \n",
       "dataset        [CCAGTGGGACCCGGATAACCGGATATCAGGACTACACAGATTGCT...   \n",
       "kmer                                                ATCAGGACTACA   \n",
       "mutated_kmers  [ATCAGGACTACA, ATCAGAACTACA, ATTAGGACTTCA, CTC...   \n",
       "\n",
       "                                                              15  \\\n",
       "                                                               1   \n",
       "dataset        [AGGTAACGACCCACAGCACATCACACTGCTGGCAAGGGGTTCTTT...   \n",
       "kmer                                             CCTTTGAAGAGGAGA   \n",
       "mutated_kmers  [CCTTTGAAGAGGAGA, CCTTTGAAGAGGAGA, CCTTTGAAGAG...   \n",
       "\n",
       "                                                                  \\\n",
       "                                                               2   \n",
       "dataset        [GACCCTCACCCCTTATATTCGGGCTAGTGGTCAGTATGGACCGGA...   \n",
       "kmer                                             TGGACCGGAGTATGG   \n",
       "mutated_kmers  [TGGACCGGAGTATGG, TGGACCGGAGTATGG, TGGACCGGAGT...   \n",
       "\n",
       "                                                                  \n",
       "                                                               3  \n",
       "dataset        [AGGCGGTCTCCGGTCCGTCGTAAGCCTCACCCTGGCGCCAGGCGA...  \n",
       "kmer                                             GCGCCAGGCGACACA  \n",
       "mutated_kmers  [GCGCCAGGCGACACA, GCGCCAGGCGACACA, GCGCCAGGAGA...  "
      ]
     },
     "execution_count": 8,
     "metadata": {},
     "output_type": "execute_result"
    }
   ],
   "source": [
    "datasets = {}\n",
    "\n",
    "for k in kmer_length:\n",
    "    for d in mismatches:\n",
    "        if d < k/2 :\n",
    "            result = generate_dataset(bases, dna_string_length, dna_string_number, k, d)\n",
    "            datasets[k,d] = {'dataset': result[0], 'kmer' : result[1], 'mutated_kmers' : result[2]}\n",
    "        \n",
    "datasets = pd.DataFrame(datasets)\n",
    "datasets"
   ]
  },
  {
   "cell_type": "markdown",
   "metadata": {},
   "source": [
    "# Algorithms Implementation\n",
    "\n",
    "## Brute Force Search Algorithm\n",
    "\n",
    "Brute force search algorithms performs exhaustive search in order to find the solution to a problem. They are also known as *generate & test* algorithms, since their approach is to systematically enumerate all possible candidates for the solution and check whether each candidate satisfies the problem's statement. Thus a brute force search algorithm, would alsways find the optimal solution to a spacific problem, if it exists. The implementation of such algorithms is rather easy. However, since the implementation costs are proportional to the number of candidate solutions, such algorithms can be very computationally expesinve.  \n",
    "\n",
    "In our case we implement a brute force search algorithm, in order to identify the implanted mutated kmers in the DNA strings. In other words, given a set of DNA strings, in each of which a kmer with up to d mismatches is implanted, we have to identify the kmer. To solve this problem, using the exhaustive search approach, we concatenate the given strings to one and we try to find the most frequent kmer with up to d mismatches in the conatenated string. More specifically, we iterate over the concatenated string with a window of length k and step 1, and for the sequence (kmer) of the current window, we produce all the possible kmers with up to d mismatches. Then, for each of the produced kmers, we count its frequency of appearance in the concatenated string. In the end of this procedure, we end up with the most frequent kmers in the concatenated string, that are the best candidates for the solution to the problem. \n",
    "\n",
    "To implement this algorithm, first we create the following functions:\n",
    "\n",
    "- `ImmediateNeighbors` : It takes as input a specific pattern, in our case a DNA kmer and calculates its up to d-neighborhood. The d-neighborhood is a set of all the possible kmers, that are created using the same alphabet (DNA bases) as the initial kmer and have the same length to it, but they have up to d mismatches compared to the initial one.\n",
    "\n",
    "- `PatternCount` : It take as input a text and a pattern and calculates the frequency of appearance of the pattern to the text."
   ]
  },
  {
   "cell_type": "code",
   "execution_count": 9,
   "metadata": {},
   "outputs": [],
   "source": [
    "def ImmediateNeighbors(pat, d):\n",
    "    bases = [\"A\", \"T\", \"C\", \"G\"]\n",
    "    Neighborhood = set()\n",
    "    Neighborhood.add(pat)\n",
    "    indices = list(combinations(range(len(pat)), d))\n",
    "    bases_product = list(product(bases, repeat=d))\n",
    "\n",
    "    for idx_set in indices:\n",
    "        for bases_set in bases_product:\n",
    "            temp = list(pat)\n",
    "            for ii, base in zip(idx_set, bases_set):\n",
    "                temp[ii] = base\n",
    "            Neighborhood.add(''.join(temp))\n",
    "    return Neighborhood\n",
    "\n",
    "def PatternCount(text, pattern):\n",
    "    count = 0;\n",
    "    pattern_length = len(pattern)\n",
    "    text_length = len(text)\n",
    "    for i in range(0, text_length-pattern_length+1):\n",
    "        if (text[i:i+pattern_length]==pattern):\n",
    "            count = count + 1\n",
    "    return count   "
   ]
  },
  {
   "cell_type": "markdown",
   "metadata": {},
   "source": [
    "We implement the `BruteForceFrequentWords` to identify the implanted kmers. The technique used is based on the identification of the most frequent k-dmer in the concatenation of the DNA strings under examination by exhaustively search all the possible candidates most frequent k-dmers. The function takes as input the `text`, which is the concatenation of the DNA strings, the length of the kmer `k` and the number of the mutations `d` allowed, and the time limit, `limit`, we apply to the algorithm. The final parameter, by default is set to infinite, but can be changed with respect to the user's hardware. For the purpose of these experiments, we used a time limit of one hour, as mentioned in the previous section. Below are presented, in detail, the steps followed by the algorithm:\n",
    "\n",
    "1. First, the initialization of two dictionaries is made, one where the frequencies of each pattern are stored and one that stores the neighborhood of each pattern.\n",
    "\n",
    "2. A timer is set to calulate the run time of the algorithm.\n",
    "\n",
    "3. Then, the algorithm starts to iterate over the concatenated string, using the slide window technique, with a window of lenth k. For each window (pattern/kmer):\n",
    "\n",
    "    1. The d-neighborhood is generated, using the `ImmediateNeighbors` function, if it is not already stored in the cache dictionary.\n",
    "    2. The frequency of the specific kmer is initialized to $0$.\n",
    "    3. For each of the patterns in the d-neighborhood the algorithm calulates their occurance in the concatenated DNA string and add the result in the frequency of the specific kmer (step 2).\n",
    "    \n",
    "    After each kmer the algorithm checks, whether the time limit has been reached and if it is reached it stops and returns the best results until then.\n",
    "    \n",
    "4. After finishing iterating over all the possible kmers, the algorithms search in the frequent patterns dictionary to find the highest frequency. Then it returns all the patterns that have achieved this frequency as a list."
   ]
  },
  {
   "cell_type": "code",
   "execution_count": 10,
   "metadata": {},
   "outputs": [],
   "source": [
    "def BruteForceFrequentWords(text, k, d, limit=float('inf')):\n",
    "    # Initialization\n",
    "    # The frequent patterns dictionary to hold the most frequent patterns and their frequencies.\n",
    "    # The cache dictionary to store the neighborhood of a specific pattern\n",
    "    frequent_patterns = {}\n",
    "    text_length = len(text)\n",
    "    cache = {}\n",
    "    \n",
    "    # A Boolean variable to clarify whether the algorithm has converged before the predefined time limit.\n",
    "    terminated = True\n",
    "    # Start the timer\n",
    "    start = time.time()\n",
    "\n",
    "    # for each k-mer in text (slide window)\n",
    "    for i in tqdm(range(0, text_length-k+1)):\n",
    "        # pattern keeps the current slide windowthe k-mer\n",
    "        pattern = text[i:i+k]\n",
    "\n",
    "        # generate pattern's up to d-neighbours if they are not already stored in the cache.\n",
    "        if pattern in cache:\n",
    "            gen_patterns = cache[pattern]\n",
    "        else:\n",
    "            gen_patterns = ImmediateNeighbors(pattern, d)\n",
    "        \n",
    "\n",
    "        #set the value of the current pattern to 0 in the dictionary frequent_pattern\n",
    "        frequent_patterns[pattern] = 0\n",
    "        \n",
    "\n",
    "        #for each string str in d-neighbour  \n",
    "        #call PatternCount(text, str) to count str's occurrences in text\n",
    "        #update dictionary entry for pattern (increase by count)\n",
    "        for pat in gen_patterns:\n",
    "            count = PatternCount(text, pat)\n",
    "            frequent_patterns[pattern] = frequent_patterns[pattern] + count\n",
    "        \n",
    "        #Check whether the time limit has reached and break.\n",
    "        if time.time() - start > limit:\n",
    "            terminated = False\n",
    "            break\n",
    "\n",
    "    itemMaxValue = max(frequent_patterns.items(), key=lambda x: x[1])\n",
    "    listOfKeys = list()\n",
    "    # Iterate over all the items in dictionary to find keys with max value\n",
    "    for key, value in frequent_patterns.items():\n",
    "        if value == itemMaxValue[1]:\n",
    "            listOfKeys.append(key)\n",
    "\n",
    "    #print(frequent_patterns)\n",
    "    return(listOfKeys, itemMaxValue[1], terminated)"
   ]
  },
  {
   "cell_type": "code",
   "execution_count": 11,
   "metadata": {},
   "outputs": [],
   "source": [
    "def PatternCount(text, pattern):\n",
    "  count = 0;\n",
    "  pattern_length = len(pattern)\n",
    "  text_length = len(text)\n",
    "  for i in range(0, text_length-pattern_length+1):\n",
    "     if (text[i:i+pattern_length]==pattern):\n",
    "        count = count + 1\n",
    "  return count   "
   ]
  },
  {
   "cell_type": "code",
   "execution_count": 12,
   "metadata": {},
   "outputs": [],
   "source": [
    "def ImmediateNeighbors(pat, d):\n",
    "    bases = [\"A\", \"T\", \"C\", \"G\"]\n",
    "    Neighborhood = set()\n",
    "    Neighborhood.add(pat)\n",
    "    indices = list(combinations(range(len(pat)), d))\n",
    "    bases_product = list(product(bases, repeat=d))\n",
    "\n",
    "    for idx_set in indices:\n",
    "        for bases_set in bases_product:\n",
    "            temp = list(pat)\n",
    "            for ii, base in zip(idx_set, bases_set):\n",
    "                temp[ii] = base\n",
    "            Neighborhood.add(''.join(temp))\n",
    "    return Neighborhood"
   ]
  },
  {
   "cell_type": "code",
   "execution_count": 13,
   "metadata": {},
   "outputs": [],
   "source": [
    "def BruteForceFrequentWords(text, k, d, limit):\n",
    "    frequent_patterns = {}\n",
    "    text_length = len(text)\n",
    "    cache = {}\n",
    "    \n",
    "    terminated = True\n",
    "    start = time.time()\n",
    "\n",
    "    # for each k-mer in text (slide window)\n",
    "    for i in tqdm(range(0, text_length-k+1)):\n",
    "        # pattern keeps the current slide windowthe k-mer\n",
    "        pattern = text[i:i+k]\n",
    "\n",
    "        # generate pattern's up to d-neighbour\n",
    "        if pattern in cache:\n",
    "            gen_patterns = cache[pattern]\n",
    "        else:\n",
    "            gen_patterns = ImmediateNeighbors(pattern, d)\n",
    "        \n",
    "\n",
    "        #set the value of pattern to 0 in the dictionary frequent_pattern\n",
    "        frequent_patterns[pattern] = 0\n",
    "        \n",
    "\n",
    "        #for each string str in d-neighbour  \n",
    "        #call PatternCount(text, str) to count str's occurrences in text\n",
    "        #update dictionary entry for pattern (increase by count)\n",
    "        for pat in gen_patterns:\n",
    "            count = PatternCount(text, pat)\n",
    "            frequent_patterns[pattern] = frequent_patterns[pattern] + count\n",
    "                \n",
    "        if time.time() - start > limit:\n",
    "            terminated = False\n",
    "            break\n",
    "\n",
    "    itemMaxValue = max(frequent_patterns.items(), key=lambda x: x[1])\n",
    "    listOfKeys = list()\n",
    "    # Iterate over all the items in dictionary to find keys with max value\n",
    "    for key, value in frequent_patterns.items():\n",
    "        if value == itemMaxValue[1]:\n",
    "            listOfKeys.append(key)\n",
    "\n",
    "    #print(frequent_patterns)\n",
    "    return(listOfKeys, itemMaxValue[1], terminated)"
   ]
  },
  {
   "cell_type": "markdown",
   "metadata": {},
   "source": [
    "## Greedy Search Algorithm\n",
    "\n",
    "Greedy search algorithms follow the problem-solving heuristic of making the locally optimal choice at each step. In general the may not usually produce an optimal solution, but they may yield locally optimal solutions that approximate a globally optimal solution in a reasonable amount of time. \n",
    "\n",
    "To implement the greedy search algorithm, we first have to create the following utility function:\n",
    "\n",
    "1. `random_offset` : It takes as input two integeres `k`, `d` and returns a random integer between 0 and $n-k+1$.\n",
    "\n",
    "2. `create_profile` : It takes as input a list of motifs and returns a profile matrix, based on them. More specifically, the function:\n",
    "    1. initializes a dictionary with keys the DNA bases, A, T, G, C. Each key holds a list of length $k$, where $k$ is the length of each motif, and values initialized to $\\frac{1}{t}$, where $t$ is the number of motifs. \n",
    "    2. Then, it iterates over each position of all motifs, and calculates the occurence of each DNA base per position.\n",
    "    3. Finally, it returns a matrix that for each position holds 4 frequencies, one for each of the DNA bases.\n",
    "    \n",
    "3. `score_kmer` : It takes as input a kmer and a profile matrix, and it returns the probability of this kmer based on the specific profile matrix. This function is used as a utility function in the following `get_motifs` function.\n",
    "\n",
    "4. `get_motifs` : It takes as input a profile matrix, a list of DNA strings and an integer $k$ and returns the pofile most probable set of k-mers based on profile matrix, given the DNA strings.\n",
    "\n",
    "\n",
    "5. `score_motifs` : It takes as input a list of motifs and an integer k and returns a score for the specific list of motifs.\n",
    "\n",
    "\n",
    "6. `consensus`: It takes as input a list of motifs and a profile matrix, and returns the consensus string calculated by combining them.  The **consensus string** is the constructed string using the most frequne nucleotides at each position. "
   ]
  },
  {
   "cell_type": "code",
   "execution_count": 14,
   "metadata": {},
   "outputs": [],
   "source": [
    "def random_offset(n,k):\n",
    "    return np.random.randint(0, n-k+1)\n",
    "\n",
    "\n",
    "### Return a profile matrix, based on the set of provided motifs\n",
    "def create_profile(motifs):\n",
    "    # Get the length - the *k* in k-mer - of the motifs\n",
    "    k = len(motifs[0])\n",
    "    # Get the number of motifs - we need this to turn nt counts into probabilities\n",
    "    num_motifs = len(motifs)\n",
    "    \n",
    "    # Set a dictionary with keys \"A\", \"G\", \"C\", \"T\"\n",
    "    # and empty lists which will contain the probabilities at each position i\n",
    "    profile = {\"A\": np.ones(k)/num_motifs,\n",
    "               \"G\": np.ones(k)/num_motifs,\n",
    "               \"C\": np.ones(k)/num_motifs,\n",
    "               \"T\": np.ones(k)/num_motifs}\n",
    "    \n",
    "    # Traverse nucleotides per position and \n",
    "    # calculate the probability of each one\n",
    "    for i in range(0,k):\n",
    "        for motif in motifs:\n",
    "            # Get nucleotide\n",
    "            nt = motif[i].upper()\n",
    "            # Add count / num motifs\n",
    "            profile[nt][i] += 1.0/num_motifs\n",
    "        \n",
    "    return profile   \n",
    "\n",
    "\n",
    "def score_kmer(kmer, profile):\n",
    "    # Initialize joint probability\n",
    "    joint_probability = 1\n",
    "    \n",
    "    # Loop over nucleotides in kmer\n",
    "    for offset in range(0, len(kmer)):\n",
    "        nt = kmer[offset]\n",
    "        joint_probability = joint_probability * profile[nt.upper()][offset]\n",
    "        \n",
    "    return joint_probability\n",
    "\n",
    "\n",
    "### Return the pofile most probable set of k-mers based on profile matrix, given the dna strings\n",
    "def get_motifs(profile, dna, k):\n",
    "    \n",
    "    # List of profile-most probable motifs\n",
    "    motifs = []\n",
    "    # Length of dna strings - get a random first string\n",
    "    n = len(dna[0])\n",
    "    \n",
    "    # Loop over strings in dna\n",
    "    for dna_string in dna:    \n",
    "        # Initialize motif probability to zero\n",
    "        motif_probability = 0.0\n",
    "        # Set an initial empty motif\n",
    "        motif = \"\"\n",
    "        \n",
    "        ### Write your code here \n",
    "        # Loop over k-mers in string\n",
    "        for i in range(0,n-k+1):\n",
    "            # Get current kmer\n",
    "            kmer = dna_string[i:i+k]\n",
    "            \n",
    "            # Score current kmer\n",
    "            kmer_score = score_kmer(kmer, profile)\n",
    "            \n",
    "            # If kmer has better score, update it\n",
    "            if kmer_score >= motif_probability:\n",
    "                # Update motif probability\n",
    "                motif_probability = kmer_score\n",
    "                motif = kmer\n",
    "            \n",
    "        ### Write your code here \n",
    "        # Add the profile-most probable kmer to the list of motifs\n",
    "        motifs.append(motif)\n",
    "        \n",
    "    # Return the list of motifs\n",
    "    return motifs\n",
    "\n",
    "def score_motifs(motifs, k):\n",
    "    # Initial score to zero\n",
    "    score = 0\n",
    "    # Number of motifs\n",
    "    num_motifs = len(motifs)\n",
    "    # Loop over each nt... \n",
    "    for i in range(0,k):\n",
    "        # Dictionary with nt counts\n",
    "        nt_counts = {\"A\": 0, \"G\": 0, \"C\": 0, \"T\": 0}\n",
    "        # ...in each k-mer\n",
    "        for motif in motifs:\n",
    "            nt = motif[i].upper() \n",
    "            if nt == \"A\":\n",
    "                nt_counts[\"A\"] += 1\n",
    "            elif nt == \"C\":\n",
    "                nt_counts[\"C\"] += 1\n",
    "            elif nt == \"G\":\n",
    "                nt_counts[\"G\"] += 1\n",
    "            elif nt == \"T\":\n",
    "                nt_counts[\"T\"] += 1           \n",
    "        # We do not care which the most frequent nt is, but only the nts that do not \"consent\"\n",
    "        score_part = num_motifs - max(nt_counts.values())\n",
    "        # Add this to score and move to next nt\n",
    "        score += score_part              \n",
    "    return score \n",
    "\n",
    "def consensus(motifs):\n",
    "    motif_length = len(motifs[0])\n",
    "    profile = create_profile(motifs)\n",
    "    df = pd.DataFrame(profile).transpose()\n",
    "    nt = df.idxmax(axis=0)\n",
    "    consensus = []\n",
    "    for i in range(motif_length):\n",
    "        consensus.append(nt[i])\n",
    "    consensus_motif = ''.join(consensus)\n",
    "    return consensus_motif"
   ]
  },
  {
   "cell_type": "markdown",
   "metadata": {},
   "source": [
    "In our case, the basic idea of the greedy motif search algorithm is to find the set of motifs across the DNA strings generated that match each other  most closely. To do this the algorithm runs through each possible k-mer in our first DNA string and identifies the best matches for this initial k-mer within each of the following DNA strings, using a profile-most probable function `get_motifs` and thus creating a set of  motifs at each step. In the end it scores each set of motifs, using the `score_motifs` function, to find and return the best scoring set.\n",
    "\n",
    "More specifically, we create the `greedy_motif_search` function that takes as input a list of DNA strings and an integer $k$ and returns the consensus motif that the algorithm identified, the list of the best motifs (one for each DNA string), based on which the algorithm calculated the consensus motif and their score. To implement this algorithm:\n",
    "\n",
    "1. First, the initial best motifs are initialized to the list of the first k-mer of each DNA string and their score is calculated using the `score_motifs` function.\n",
    "2. Then, for each kmer of the first DNA string and the algorithms iterates over each DNA string and finds the best motif and appends it in a new list of motifs, using the `create_profile` and `get_motifs` functions.\n",
    "3. After iterating over all the DNA strings, tha algorithm calculates the score of the new motif list using the `score_motifs` function and compares it to the previous best score. If the score is better, meaning lower than the previous score then, it is considered to be the best score and the motifs are considered to be the best motifs. \n",
    "4. Finally, after the algorithm convergence, the consensus stirng is calulated from the best motifs, using the `consensus` function."
   ]
  },
  {
   "cell_type": "code",
   "execution_count": 15,
   "metadata": {},
   "outputs": [],
   "source": [
    "def greedy_motif_search(dna, k):\n",
    "    dna1 = dna[0]\n",
    "    \n",
    "    #Initialize the motifs\n",
    "    best_motifs = []\n",
    "    for dna_string in dna:\n",
    "        best_motifs.append(dna_string[0:k])  \n",
    "    best_score = score_motifs(best_motifs,k)\n",
    "    \n",
    "    for i in tqdm(range(0, len(dna1)-k+1)):\n",
    "        # motif keeps the current slide window the k-mer\n",
    "        new_motifs = [dna1[i:i+k]]\n",
    "        for dna_string in dna:\n",
    "            profile  = create_profile(new_motifs)\n",
    "            motif = get_motifs(profile, [dna_string], k)\n",
    "            new_motifs.append(motif[0])\n",
    "            \n",
    "        new_score = score_motifs(new_motifs,k)\n",
    "        if new_score < best_score:\n",
    "            best_score = new_score\n",
    "            best_motifs = new_motifs\n",
    "    # Calculate the consensus strign from the best motifs\n",
    "    consensus_motif = consensus(best_motifs)\n",
    "            \n",
    "    return consensus_motif, best_motifs, best_score"
   ]
  },
  {
   "cell_type": "markdown",
   "metadata": {},
   "source": [
    "## Randomized Search Algorithm\n",
    "\n",
    "\n",
    "Both the brute force and the greedy algorithms, we have seen so far, are deterministic, in the sense that they follow a predefined process for finding an exact and an approxiamte hogh quality solution respectively. A randomized algorithm, on the other hand, incoorporates randomness as part of its operation. These Algorithms often aim for a good average case behavior or finding exact answers or ansewrs close to the actual solution with high probability. Although, they cannot actually guarantee an optimal solution, they are very simple and high-performant, due to the randomness.\n",
    "\n",
    "Using the randomized approach, we create the `randomized_motif_search` function, that takes as input a list of DNA strings, and integer $k$, to specify the lenght of the kmers that we want to be identified and an integer $it$, to specify the number of iterations for which the algorithm runs. We set the default value to 1. \n",
    "\n",
    "The `randomized_motif_search` function is implented as follows:\n",
    "\n",
    "1. It selects a random kmer from each dna string, in order to create the initial list of best motifs.\n",
    "2. It creates a profile matrix, using the `create_profile` funciton, for these motifs and finds the most probable kmers for each DNA string based on the profile matrix, using the `get_motifs` function. \n",
    "3. It scores the motifs found from the previous step, using the `score_motifs` function, and compare it to the score of the best motif list found so far (initially the randomly selected list of motifs). It updates the best score and the best motif list accordingly. \n",
    "4. It repeats this process fro a number of given iterations.\n",
    "5. In the end, it returns the consensus string of the best motif list, the best motif list, the best motif score, the number of the iteration that the latter corresponds and the number of steps it took the algorithm to converge to this solution.  "
   ]
  },
  {
   "cell_type": "code",
   "execution_count": 16,
   "metadata": {},
   "outputs": [],
   "source": [
    "def randomized_motif_search(dna, k, it=1):\n",
    "    # Initialize a dictionary to store the results of each iteration\n",
    "    iterations = {}\n",
    "\n",
    "    for i in tqdm(range(it)):\n",
    "        # Get initial random motifs\n",
    "        motifs = []\n",
    "\n",
    "        # Get a random set of initial k-mers\n",
    "        for dna_string in dna:\n",
    "            offset = random_offset(len(dna_string),k)\n",
    "            kmer = dna_string[offset:offset+k]\n",
    "            # Add to initial motifs\n",
    "            motifs.append(kmer)      \n",
    "        motif_score = score_motifs(motifs, k)\n",
    "\n",
    "        # Start counting iterations in the while loop\n",
    "        loop = 0\n",
    "\n",
    "        # Repeat \"indefinitely\"\n",
    "        while True:\n",
    "            loop += 1\n",
    "            # Calculate profile matrix\n",
    "            profile = create_profile(motifs)\n",
    "            # Calculate motifs based on it\n",
    "            new_motifs = get_motifs(profile, dna, k)\n",
    "            # Check if new motifs score better\n",
    "            new_motifs_score = score_motifs(new_motifs, k)\n",
    "\n",
    "            # Check if new motifs have a better score...\n",
    "            if new_motifs_score < motif_score:\n",
    "                motif_score = new_motifs_score\n",
    "                motifs = new_motifs\n",
    "            # ... if not, return \n",
    "            else:\n",
    "                iterations[i] = {'motifs': motifs, 'motif_score': motif_score}\n",
    "                break\n",
    "    \n",
    "    # Iterate over initial dictionary's motif score values to find the minimum.\n",
    "    best_score = float('inf') \n",
    "    for key in iterations.keys():\n",
    "        if iterations[key]['motif_score'] < best_score:\n",
    "            best_score = iterations[key]['motif_score']\n",
    "            # return the motifs with the best score\n",
    "            best_motifs = iterations[key]['motifs']\n",
    "            # return the iteration, when the best score achived\n",
    "            best_iterations = key\n",
    "            \n",
    "    # Calculate the consensus strign from the best motifs\n",
    "    consensus_motif = consensus(best_motifs)\n",
    "            \n",
    "    return consensus_motif, best_motifs, best_score, best_iterations+1, loop"
   ]
  },
  {
   "cell_type": "markdown",
   "metadata": {},
   "source": [
    "Finally, we implement the *hamming_distance* function, to calculate the distance between two dna strings. In our case, it will be used to calculate the distance between the original kmer that should have been identified and the most frequent k-d mer calculated  by the `BruteForceFrequentWords` and the consesnus strings of the `greedy_motif_search` and the `randomized_motif_search` algorithms respectively. \n",
    "\n",
    "The *hamming_distance* returns the number of mismatches between two strings, after comparing the same positions of the two strings."
   ]
  },
  {
   "cell_type": "code",
   "execution_count": 17,
   "metadata": {},
   "outputs": [],
   "source": [
    "def hamming_distance(string1, string2):\n",
    "    count = 0\n",
    "    for i in range(len(string1)):\n",
    "        if string1[i] != string2[i]:\n",
    "            count += 1\n",
    "    return(count)"
   ]
  },
  {
   "cell_type": "markdown",
   "metadata": {},
   "source": [
    "We run the three algorithms using the datasets generated, in the **Dataset Generation** section. We use the `time` module to measure the time performance of the algorithms and we hold the results in the `results` dictionary in order to further evalute the algorithms in terms of their accuracy. We also store the results in the `results.txt` file for further analysis if needed."
   ]
  },
  {
   "cell_type": "code",
   "execution_count": 18,
   "metadata": {
    "scrolled": false
   },
   "outputs": [
    {
     "name": "stdout",
     "output_type": "stream",
     "text": [
      "6 1\n",
      "bf\n"
     ]
    },
    {
     "name": "stderr",
     "output_type": "stream",
     "text": [
      "100%|██████████| 1055/1055 [00:02<00:00, 364.28it/s]\n"
     ]
    },
    {
     "name": "stdout",
     "output_type": "stream",
     "text": [
      "gs\n"
     ]
    },
    {
     "name": "stderr",
     "output_type": "stream",
     "text": [
      "100%|██████████| 101/101 [00:00<00:00, 387.05it/s]\n"
     ]
    },
    {
     "name": "stdout",
     "output_type": "stream",
     "text": [
      "rs_10\n"
     ]
    },
    {
     "name": "stderr",
     "output_type": "stream",
     "text": [
      "100%|██████████| 10/10 [00:00<00:00, 110.65it/s]\n"
     ]
    },
    {
     "name": "stdout",
     "output_type": "stream",
     "text": [
      "rs_100\n"
     ]
    },
    {
     "name": "stderr",
     "output_type": "stream",
     "text": [
      "100%|██████████| 100/100 [00:00<00:00, 131.60it/s]\n"
     ]
    },
    {
     "name": "stdout",
     "output_type": "stream",
     "text": [
      "rs_1000\n"
     ]
    },
    {
     "name": "stderr",
     "output_type": "stream",
     "text": [
      "100%|██████████| 1000/1000 [00:07<00:00, 127.90it/s]\n"
     ]
    },
    {
     "name": "stdout",
     "output_type": "stream",
     "text": [
      "6 2\n",
      "bf\n"
     ]
    },
    {
     "name": "stderr",
     "output_type": "stream",
     "text": [
      "100%|██████████| 1055/1055 [00:23<00:00, 44.48it/s]\n"
     ]
    },
    {
     "name": "stdout",
     "output_type": "stream",
     "text": [
      "gs\n"
     ]
    },
    {
     "name": "stderr",
     "output_type": "stream",
     "text": [
      "100%|██████████| 101/101 [00:00<00:00, 390.23it/s]\n"
     ]
    },
    {
     "name": "stdout",
     "output_type": "stream",
     "text": [
      "rs_10\n"
     ]
    },
    {
     "name": "stderr",
     "output_type": "stream",
     "text": [
      "100%|██████████| 10/10 [00:00<00:00, 103.60it/s]\n"
     ]
    },
    {
     "name": "stdout",
     "output_type": "stream",
     "text": [
      "rs_100\n"
     ]
    },
    {
     "name": "stderr",
     "output_type": "stream",
     "text": [
      "100%|██████████| 100/100 [00:00<00:00, 141.77it/s]\n"
     ]
    },
    {
     "name": "stdout",
     "output_type": "stream",
     "text": [
      "rs_1000\n"
     ]
    },
    {
     "name": "stderr",
     "output_type": "stream",
     "text": [
      "100%|██████████| 1000/1000 [00:07<00:00, 134.33it/s]\n"
     ]
    },
    {
     "name": "stdout",
     "output_type": "stream",
     "text": [
      "7 1\n",
      "bf\n"
     ]
    },
    {
     "name": "stderr",
     "output_type": "stream",
     "text": [
      "100%|██████████| 1064/1064 [00:03<00:00, 298.76it/s]\n"
     ]
    },
    {
     "name": "stdout",
     "output_type": "stream",
     "text": [
      "gs\n"
     ]
    },
    {
     "name": "stderr",
     "output_type": "stream",
     "text": [
      "100%|██████████| 101/101 [00:00<00:00, 343.41it/s]\n"
     ]
    },
    {
     "name": "stdout",
     "output_type": "stream",
     "text": [
      "rs_10\n"
     ]
    },
    {
     "name": "stderr",
     "output_type": "stream",
     "text": [
      "100%|██████████| 10/10 [00:00<00:00, 91.95it/s]\n"
     ]
    },
    {
     "name": "stdout",
     "output_type": "stream",
     "text": [
      "rs_100\n"
     ]
    },
    {
     "name": "stderr",
     "output_type": "stream",
     "text": [
      "100%|██████████| 100/100 [00:00<00:00, 117.27it/s]\n"
     ]
    },
    {
     "name": "stdout",
     "output_type": "stream",
     "text": [
      "rs_1000\n"
     ]
    },
    {
     "name": "stderr",
     "output_type": "stream",
     "text": [
      "100%|██████████| 1000/1000 [00:08<00:00, 112.42it/s]\n"
     ]
    },
    {
     "name": "stdout",
     "output_type": "stream",
     "text": [
      "7 2\n",
      "bf\n"
     ]
    },
    {
     "name": "stderr",
     "output_type": "stream",
     "text": [
      "100%|██████████| 1064/1064 [00:34<00:00, 31.16it/s]\n"
     ]
    },
    {
     "name": "stdout",
     "output_type": "stream",
     "text": [
      "gs\n"
     ]
    },
    {
     "name": "stderr",
     "output_type": "stream",
     "text": [
      "100%|██████████| 101/101 [00:00<00:00, 336.10it/s]\n"
     ]
    },
    {
     "name": "stdout",
     "output_type": "stream",
     "text": [
      "rs_10\n"
     ]
    },
    {
     "name": "stderr",
     "output_type": "stream",
     "text": [
      "100%|██████████| 10/10 [00:00<00:00, 102.22it/s]\n"
     ]
    },
    {
     "name": "stdout",
     "output_type": "stream",
     "text": [
      "rs_100\n"
     ]
    },
    {
     "name": "stderr",
     "output_type": "stream",
     "text": [
      "100%|██████████| 100/100 [00:00<00:00, 115.65it/s]\n"
     ]
    },
    {
     "name": "stdout",
     "output_type": "stream",
     "text": [
      "rs_1000\n"
     ]
    },
    {
     "name": "stderr",
     "output_type": "stream",
     "text": [
      "100%|██████████| 1000/1000 [00:09<00:00, 109.98it/s]\n"
     ]
    },
    {
     "name": "stdout",
     "output_type": "stream",
     "text": [
      "7 3\n",
      "bf\n"
     ]
    },
    {
     "name": "stderr",
     "output_type": "stream",
     "text": [
      "100%|██████████| 1064/1064 [03:10<00:00,  5.60it/s]\n"
     ]
    },
    {
     "name": "stdout",
     "output_type": "stream",
     "text": [
      "gs\n"
     ]
    },
    {
     "name": "stderr",
     "output_type": "stream",
     "text": [
      "100%|██████████| 101/101 [00:00<00:00, 315.43it/s]\n"
     ]
    },
    {
     "name": "stdout",
     "output_type": "stream",
     "text": [
      "rs_10\n"
     ]
    },
    {
     "name": "stderr",
     "output_type": "stream",
     "text": [
      "100%|██████████| 10/10 [00:00<00:00, 98.61it/s]\n"
     ]
    },
    {
     "name": "stdout",
     "output_type": "stream",
     "text": [
      "rs_100\n"
     ]
    },
    {
     "name": "stderr",
     "output_type": "stream",
     "text": [
      "100%|██████████| 100/100 [00:00<00:00, 120.19it/s]\n"
     ]
    },
    {
     "name": "stdout",
     "output_type": "stream",
     "text": [
      "rs_1000\n"
     ]
    },
    {
     "name": "stderr",
     "output_type": "stream",
     "text": [
      "100%|██████████| 1000/1000 [00:08<00:00, 115.09it/s]\n"
     ]
    },
    {
     "name": "stdout",
     "output_type": "stream",
     "text": [
      "8 1\n",
      "bf\n"
     ]
    },
    {
     "name": "stderr",
     "output_type": "stream",
     "text": [
      "100%|██████████| 1073/1073 [00:04<00:00, 253.73it/s]\n"
     ]
    },
    {
     "name": "stdout",
     "output_type": "stream",
     "text": [
      "gs\n"
     ]
    },
    {
     "name": "stderr",
     "output_type": "stream",
     "text": [
      "100%|██████████| 101/101 [00:00<00:00, 308.56it/s]\n"
     ]
    },
    {
     "name": "stdout",
     "output_type": "stream",
     "text": [
      "rs_10\n"
     ]
    },
    {
     "name": "stderr",
     "output_type": "stream",
     "text": [
      "100%|██████████| 10/10 [00:00<00:00, 88.67it/s]\n"
     ]
    },
    {
     "name": "stdout",
     "output_type": "stream",
     "text": [
      "rs_100\n"
     ]
    },
    {
     "name": "stderr",
     "output_type": "stream",
     "text": [
      "100%|██████████| 100/100 [00:01<00:00, 98.93it/s]\n"
     ]
    },
    {
     "name": "stdout",
     "output_type": "stream",
     "text": [
      "rs_1000\n"
     ]
    },
    {
     "name": "stderr",
     "output_type": "stream",
     "text": [
      "100%|██████████| 1000/1000 [00:09<00:00, 100.60it/s]\n"
     ]
    },
    {
     "name": "stdout",
     "output_type": "stream",
     "text": [
      "8 2\n",
      "bf\n"
     ]
    },
    {
     "name": "stderr",
     "output_type": "stream",
     "text": [
      "100%|██████████| 1073/1073 [00:46<00:00, 23.22it/s]\n"
     ]
    },
    {
     "name": "stdout",
     "output_type": "stream",
     "text": [
      "gs\n"
     ]
    },
    {
     "name": "stderr",
     "output_type": "stream",
     "text": [
      "100%|██████████| 101/101 [00:00<00:00, 304.95it/s]\n"
     ]
    },
    {
     "name": "stdout",
     "output_type": "stream",
     "text": [
      "rs_10\n"
     ]
    },
    {
     "name": "stderr",
     "output_type": "stream",
     "text": [
      "100%|██████████| 10/10 [00:00<00:00, 77.16it/s]\n"
     ]
    },
    {
     "name": "stdout",
     "output_type": "stream",
     "text": [
      "rs_100\n"
     ]
    },
    {
     "name": "stderr",
     "output_type": "stream",
     "text": [
      "100%|██████████| 100/100 [00:00<00:00, 107.98it/s]\n"
     ]
    },
    {
     "name": "stdout",
     "output_type": "stream",
     "text": [
      "rs_1000\n"
     ]
    },
    {
     "name": "stderr",
     "output_type": "stream",
     "text": [
      "100%|██████████| 1000/1000 [00:09<00:00, 104.08it/s]\n"
     ]
    },
    {
     "name": "stdout",
     "output_type": "stream",
     "text": [
      "8 3\n",
      "bf\n"
     ]
    },
    {
     "name": "stderr",
     "output_type": "stream",
     "text": [
      "100%|██████████| 1073/1073 [04:56<00:00,  3.62it/s]\n"
     ]
    },
    {
     "name": "stdout",
     "output_type": "stream",
     "text": [
      "gs\n"
     ]
    },
    {
     "name": "stderr",
     "output_type": "stream",
     "text": [
      "100%|██████████| 101/101 [00:00<00:00, 284.02it/s]\n"
     ]
    },
    {
     "name": "stdout",
     "output_type": "stream",
     "text": [
      "rs_10\n"
     ]
    },
    {
     "name": "stderr",
     "output_type": "stream",
     "text": [
      "100%|██████████| 10/10 [00:00<00:00, 90.23it/s]\n"
     ]
    },
    {
     "name": "stdout",
     "output_type": "stream",
     "text": [
      "rs_100\n"
     ]
    },
    {
     "name": "stderr",
     "output_type": "stream",
     "text": [
      "100%|██████████| 100/100 [00:01<00:00, 96.33it/s]\n"
     ]
    },
    {
     "name": "stdout",
     "output_type": "stream",
     "text": [
      "rs_1000\n"
     ]
    },
    {
     "name": "stderr",
     "output_type": "stream",
     "text": [
      "100%|██████████| 1000/1000 [00:09<00:00, 103.25it/s]\n"
     ]
    },
    {
     "name": "stdout",
     "output_type": "stream",
     "text": [
      "9 1\n",
      "bf\n"
     ]
    },
    {
     "name": "stderr",
     "output_type": "stream",
     "text": [
      "100%|██████████| 1082/1082 [00:04<00:00, 224.77it/s]\n"
     ]
    },
    {
     "name": "stdout",
     "output_type": "stream",
     "text": [
      "gs\n"
     ]
    },
    {
     "name": "stderr",
     "output_type": "stream",
     "text": [
      "100%|██████████| 101/101 [00:00<00:00, 270.19it/s]\n"
     ]
    },
    {
     "name": "stdout",
     "output_type": "stream",
     "text": [
      "rs_10\n"
     ]
    },
    {
     "name": "stderr",
     "output_type": "stream",
     "text": [
      "100%|██████████| 10/10 [00:00<00:00, 81.93it/s]\n"
     ]
    },
    {
     "name": "stdout",
     "output_type": "stream",
     "text": [
      "rs_100\n"
     ]
    },
    {
     "name": "stderr",
     "output_type": "stream",
     "text": [
      "100%|██████████| 100/100 [00:01<00:00, 83.39it/s]\n"
     ]
    },
    {
     "name": "stdout",
     "output_type": "stream",
     "text": [
      "rs_1000\n"
     ]
    },
    {
     "name": "stderr",
     "output_type": "stream",
     "text": [
      "100%|██████████| 1000/1000 [00:11<00:00, 90.70it/s]\n"
     ]
    },
    {
     "name": "stdout",
     "output_type": "stream",
     "text": [
      "9 2\n",
      "bf\n"
     ]
    },
    {
     "name": "stderr",
     "output_type": "stream",
     "text": [
      "100%|██████████| 1082/1082 [01:01<00:00, 17.72it/s]\n"
     ]
    },
    {
     "name": "stdout",
     "output_type": "stream",
     "text": [
      "gs\n"
     ]
    },
    {
     "name": "stderr",
     "output_type": "stream",
     "text": [
      "100%|██████████| 101/101 [00:00<00:00, 274.05it/s]\n"
     ]
    },
    {
     "name": "stdout",
     "output_type": "stream",
     "text": [
      "rs_10\n"
     ]
    },
    {
     "name": "stderr",
     "output_type": "stream",
     "text": [
      "100%|██████████| 10/10 [00:00<00:00, 90.48it/s]\n"
     ]
    },
    {
     "name": "stdout",
     "output_type": "stream",
     "text": [
      "rs_100\n"
     ]
    },
    {
     "name": "stderr",
     "output_type": "stream",
     "text": [
      "100%|██████████| 100/100 [00:01<00:00, 85.04it/s]\n"
     ]
    },
    {
     "name": "stdout",
     "output_type": "stream",
     "text": [
      "rs_1000\n"
     ]
    },
    {
     "name": "stderr",
     "output_type": "stream",
     "text": [
      "100%|██████████| 1000/1000 [00:11<00:00, 88.90it/s]\n"
     ]
    },
    {
     "name": "stdout",
     "output_type": "stream",
     "text": [
      "9 3\n",
      "bf\n"
     ]
    },
    {
     "name": "stderr",
     "output_type": "stream",
     "text": [
      "100%|██████████| 1082/1082 [07:55<00:00,  2.28it/s]\n"
     ]
    },
    {
     "name": "stdout",
     "output_type": "stream",
     "text": [
      "gs\n"
     ]
    },
    {
     "name": "stderr",
     "output_type": "stream",
     "text": [
      "100%|██████████| 101/101 [00:00<00:00, 261.46it/s]\n"
     ]
    },
    {
     "name": "stdout",
     "output_type": "stream",
     "text": [
      "rs_10\n"
     ]
    },
    {
     "name": "stderr",
     "output_type": "stream",
     "text": [
      "100%|██████████| 10/10 [00:00<00:00, 94.34it/s]\n"
     ]
    },
    {
     "name": "stdout",
     "output_type": "stream",
     "text": [
      "rs_100\n"
     ]
    },
    {
     "name": "stderr",
     "output_type": "stream",
     "text": [
      "100%|██████████| 100/100 [00:01<00:00, 87.96it/s]\n"
     ]
    },
    {
     "name": "stdout",
     "output_type": "stream",
     "text": [
      "rs_1000\n"
     ]
    },
    {
     "name": "stderr",
     "output_type": "stream",
     "text": [
      "100%|██████████| 1000/1000 [00:10<00:00, 96.43it/s]\n"
     ]
    },
    {
     "name": "stdout",
     "output_type": "stream",
     "text": [
      "10 1\n",
      "bf\n"
     ]
    },
    {
     "name": "stderr",
     "output_type": "stream",
     "text": [
      "100%|██████████| 1091/1091 [00:05<00:00, 200.19it/s]\n"
     ]
    },
    {
     "name": "stdout",
     "output_type": "stream",
     "text": [
      "gs\n"
     ]
    },
    {
     "name": "stderr",
     "output_type": "stream",
     "text": [
      "100%|██████████| 101/101 [00:00<00:00, 263.74it/s]\n"
     ]
    },
    {
     "name": "stdout",
     "output_type": "stream",
     "text": [
      "rs_10\n"
     ]
    },
    {
     "name": "stderr",
     "output_type": "stream",
     "text": [
      "100%|██████████| 10/10 [00:00<00:00, 89.39it/s]\n"
     ]
    },
    {
     "name": "stdout",
     "output_type": "stream",
     "text": [
      "rs_100\n"
     ]
    },
    {
     "name": "stderr",
     "output_type": "stream",
     "text": [
      "100%|██████████| 100/100 [00:01<00:00, 66.16it/s]\n"
     ]
    },
    {
     "name": "stdout",
     "output_type": "stream",
     "text": [
      "rs_1000\n"
     ]
    },
    {
     "name": "stderr",
     "output_type": "stream",
     "text": [
      "100%|██████████| 1000/1000 [00:17<00:00, 58.44it/s]\n"
     ]
    },
    {
     "name": "stdout",
     "output_type": "stream",
     "text": [
      "10 2\n",
      "bf\n"
     ]
    },
    {
     "name": "stderr",
     "output_type": "stream",
     "text": [
      "100%|██████████| 1091/1091 [02:15<00:00,  8.06it/s]\n"
     ]
    },
    {
     "name": "stdout",
     "output_type": "stream",
     "text": [
      "gs\n"
     ]
    },
    {
     "name": "stderr",
     "output_type": "stream",
     "text": [
      "100%|██████████| 101/101 [00:00<00:00, 203.66it/s]\n"
     ]
    },
    {
     "name": "stdout",
     "output_type": "stream",
     "text": [
      "rs_10\n"
     ]
    },
    {
     "name": "stderr",
     "output_type": "stream",
     "text": [
      "100%|██████████| 10/10 [00:00<00:00, 53.47it/s]\n"
     ]
    },
    {
     "name": "stdout",
     "output_type": "stream",
     "text": [
      "rs_100\n"
     ]
    },
    {
     "name": "stderr",
     "output_type": "stream",
     "text": [
      "100%|██████████| 100/100 [00:01<00:00, 52.33it/s]\n"
     ]
    },
    {
     "name": "stdout",
     "output_type": "stream",
     "text": [
      "rs_1000\n"
     ]
    },
    {
     "name": "stderr",
     "output_type": "stream",
     "text": [
      "100%|██████████| 1000/1000 [00:27<00:00, 35.86it/s]\n"
     ]
    },
    {
     "name": "stdout",
     "output_type": "stream",
     "text": [
      "10 3\n",
      "bf\n"
     ]
    },
    {
     "name": "stderr",
     "output_type": "stream",
     "text": [
      "100%|██████████| 1091/1091 [11:09<00:00,  1.63it/s]\n"
     ]
    },
    {
     "name": "stdout",
     "output_type": "stream",
     "text": [
      "gs\n"
     ]
    },
    {
     "name": "stderr",
     "output_type": "stream",
     "text": [
      "100%|██████████| 101/101 [00:00<00:00, 259.42it/s]\n"
     ]
    },
    {
     "name": "stdout",
     "output_type": "stream",
     "text": [
      "rs_10\n"
     ]
    },
    {
     "name": "stderr",
     "output_type": "stream",
     "text": [
      "100%|██████████| 10/10 [00:00<00:00, 100.82it/s]\n"
     ]
    },
    {
     "name": "stdout",
     "output_type": "stream",
     "text": [
      "rs_100\n"
     ]
    },
    {
     "name": "stderr",
     "output_type": "stream",
     "text": [
      "100%|██████████| 100/100 [00:01<00:00, 79.61it/s]\n"
     ]
    },
    {
     "name": "stdout",
     "output_type": "stream",
     "text": [
      "rs_1000\n"
     ]
    },
    {
     "name": "stderr",
     "output_type": "stream",
     "text": [
      "100%|██████████| 1000/1000 [00:12<00:00, 81.06it/s]\n"
     ]
    },
    {
     "name": "stdout",
     "output_type": "stream",
     "text": [
      "12 1\n",
      "bf\n"
     ]
    },
    {
     "name": "stderr",
     "output_type": "stream",
     "text": [
      "100%|██████████| 1109/1109 [00:06<00:00, 163.00it/s]\n"
     ]
    },
    {
     "name": "stdout",
     "output_type": "stream",
     "text": [
      "gs\n"
     ]
    },
    {
     "name": "stderr",
     "output_type": "stream",
     "text": [
      "100%|██████████| 101/101 [00:00<00:00, 209.28it/s]\n"
     ]
    },
    {
     "name": "stdout",
     "output_type": "stream",
     "text": [
      "rs_10\n"
     ]
    },
    {
     "name": "stderr",
     "output_type": "stream",
     "text": [
      "100%|██████████| 10/10 [00:00<00:00, 61.50it/s]\n"
     ]
    },
    {
     "name": "stdout",
     "output_type": "stream",
     "text": [
      "rs_100\n"
     ]
    },
    {
     "name": "stderr",
     "output_type": "stream",
     "text": [
      "100%|██████████| 100/100 [00:01<00:00, 63.53it/s]\n"
     ]
    },
    {
     "name": "stdout",
     "output_type": "stream",
     "text": [
      "rs_1000\n"
     ]
    },
    {
     "name": "stderr",
     "output_type": "stream",
     "text": [
      "100%|██████████| 1000/1000 [00:15<00:00, 64.94it/s]\n"
     ]
    },
    {
     "name": "stdout",
     "output_type": "stream",
     "text": [
      "12 2\n",
      "bf\n"
     ]
    },
    {
     "name": "stderr",
     "output_type": "stream",
     "text": [
      "100%|██████████| 1109/1109 [01:55<00:00,  9.57it/s]\n"
     ]
    },
    {
     "name": "stdout",
     "output_type": "stream",
     "text": [
      "gs\n"
     ]
    },
    {
     "name": "stderr",
     "output_type": "stream",
     "text": [
      "100%|██████████| 101/101 [00:00<00:00, 227.17it/s]\n"
     ]
    },
    {
     "name": "stdout",
     "output_type": "stream",
     "text": [
      "rs_10\n"
     ]
    },
    {
     "name": "stderr",
     "output_type": "stream",
     "text": [
      "100%|██████████| 10/10 [00:00<00:00, 63.94it/s]\n"
     ]
    },
    {
     "name": "stdout",
     "output_type": "stream",
     "text": [
      "rs_100\n"
     ]
    },
    {
     "name": "stderr",
     "output_type": "stream",
     "text": [
      "100%|██████████| 100/100 [00:01<00:00, 67.14it/s]\n"
     ]
    },
    {
     "name": "stdout",
     "output_type": "stream",
     "text": [
      "rs_1000\n"
     ]
    },
    {
     "name": "stderr",
     "output_type": "stream",
     "text": [
      "100%|██████████| 1000/1000 [00:15<00:00, 65.34it/s]\n"
     ]
    },
    {
     "name": "stdout",
     "output_type": "stream",
     "text": [
      "12 3\n",
      "bf\n"
     ]
    },
    {
     "name": "stderr",
     "output_type": "stream",
     "text": [
      "100%|██████████| 1109/1109 [20:06<00:00,  1.09s/it]\n"
     ]
    },
    {
     "name": "stdout",
     "output_type": "stream",
     "text": [
      "gs\n"
     ]
    },
    {
     "name": "stderr",
     "output_type": "stream",
     "text": [
      "100%|██████████| 101/101 [00:00<00:00, 218.17it/s]\n"
     ]
    },
    {
     "name": "stdout",
     "output_type": "stream",
     "text": [
      "rs_10\n"
     ]
    },
    {
     "name": "stderr",
     "output_type": "stream",
     "text": [
      "100%|██████████| 10/10 [00:00<00:00, 71.04it/s]\n"
     ]
    },
    {
     "name": "stdout",
     "output_type": "stream",
     "text": [
      "rs_100\n"
     ]
    },
    {
     "name": "stderr",
     "output_type": "stream",
     "text": [
      "100%|██████████| 100/100 [00:01<00:00, 61.13it/s]\n"
     ]
    },
    {
     "name": "stdout",
     "output_type": "stream",
     "text": [
      "rs_1000\n"
     ]
    },
    {
     "name": "stderr",
     "output_type": "stream",
     "text": [
      "100%|██████████| 1000/1000 [00:15<00:00, 65.50it/s]\n"
     ]
    },
    {
     "name": "stdout",
     "output_type": "stream",
     "text": [
      "15 1\n",
      "bf\n"
     ]
    },
    {
     "name": "stderr",
     "output_type": "stream",
     "text": [
      "100%|██████████| 1136/1136 [00:09<00:00, 125.93it/s]\n"
     ]
    },
    {
     "name": "stdout",
     "output_type": "stream",
     "text": [
      "gs\n"
     ]
    },
    {
     "name": "stderr",
     "output_type": "stream",
     "text": [
      "100%|██████████| 101/101 [00:00<00:00, 180.31it/s]\n"
     ]
    },
    {
     "name": "stdout",
     "output_type": "stream",
     "text": [
      "rs_10\n"
     ]
    },
    {
     "name": "stderr",
     "output_type": "stream",
     "text": [
      "100%|██████████| 10/10 [00:00<00:00, 54.86it/s]\n"
     ]
    },
    {
     "name": "stdout",
     "output_type": "stream",
     "text": [
      "rs_100\n"
     ]
    },
    {
     "name": "stderr",
     "output_type": "stream",
     "text": [
      "100%|██████████| 100/100 [00:01<00:00, 58.21it/s]\n"
     ]
    },
    {
     "name": "stdout",
     "output_type": "stream",
     "text": [
      "rs_1000\n"
     ]
    },
    {
     "name": "stderr",
     "output_type": "stream",
     "text": [
      "100%|██████████| 1000/1000 [00:18<00:00, 54.21it/s]\n"
     ]
    },
    {
     "name": "stdout",
     "output_type": "stream",
     "text": [
      "15 2\n",
      "bf\n"
     ]
    },
    {
     "name": "stderr",
     "output_type": "stream",
     "text": [
      "100%|██████████| 1136/1136 [03:17<00:00,  5.74it/s]\n"
     ]
    },
    {
     "name": "stdout",
     "output_type": "stream",
     "text": [
      "gs\n"
     ]
    },
    {
     "name": "stderr",
     "output_type": "stream",
     "text": [
      "100%|██████████| 101/101 [00:00<00:00, 184.83it/s]\n"
     ]
    },
    {
     "name": "stdout",
     "output_type": "stream",
     "text": [
      "rs_10\n"
     ]
    },
    {
     "name": "stderr",
     "output_type": "stream",
     "text": [
      "100%|██████████| 10/10 [00:00<00:00, 52.77it/s]\n"
     ]
    },
    {
     "name": "stdout",
     "output_type": "stream",
     "text": [
      "rs_100\n"
     ]
    },
    {
     "name": "stderr",
     "output_type": "stream",
     "text": [
      "100%|██████████| 100/100 [00:01<00:00, 55.43it/s]\n"
     ]
    },
    {
     "name": "stdout",
     "output_type": "stream",
     "text": [
      "rs_1000\n"
     ]
    },
    {
     "name": "stderr",
     "output_type": "stream",
     "text": [
      "100%|██████████| 1000/1000 [00:18<00:00, 53.86it/s]\n"
     ]
    },
    {
     "name": "stdout",
     "output_type": "stream",
     "text": [
      "15 3\n",
      "bf\n"
     ]
    },
    {
     "name": "stderr",
     "output_type": "stream",
     "text": [
      "100%|██████████| 1136/1136 [41:33<00:00,  2.19s/it]\n"
     ]
    },
    {
     "name": "stdout",
     "output_type": "stream",
     "text": [
      "gs\n"
     ]
    },
    {
     "name": "stderr",
     "output_type": "stream",
     "text": [
      "100%|██████████| 101/101 [00:00<00:00, 185.53it/s]\n"
     ]
    },
    {
     "name": "stdout",
     "output_type": "stream",
     "text": [
      "rs_10\n"
     ]
    },
    {
     "name": "stderr",
     "output_type": "stream",
     "text": [
      "100%|██████████| 10/10 [00:00<00:00, 60.01it/s]\n"
     ]
    },
    {
     "name": "stdout",
     "output_type": "stream",
     "text": [
      "rs_100\n"
     ]
    },
    {
     "name": "stderr",
     "output_type": "stream",
     "text": [
      "100%|██████████| 100/100 [00:01<00:00, 58.15it/s]\n"
     ]
    },
    {
     "name": "stdout",
     "output_type": "stream",
     "text": [
      "rs_1000\n"
     ]
    },
    {
     "name": "stderr",
     "output_type": "stream",
     "text": [
      "100%|██████████| 1000/1000 [00:17<00:00, 56.48it/s]\n"
     ]
    }
   ],
   "source": [
    "with open('results.txt', 'w') as f:\n",
    "    t_fields = '\\t'.join([f'times_rs_{x}' for x in iterations])\n",
    "    r_fields = '\\t'.join([f'results_rs_{x}' for x in iterations])\n",
    "    f.write(f'dataset\\tkmer\\tk-d\\ttimes_bf\\tresults_bf\\ttimes_gs\\tresults_gs\\t{t_fields}\\t{r_fields}\\n')\n",
    "    times = {'bf': {}, 'gs': {}}\n",
    "    results = {'bf': {}, 'gs': {}}\n",
    "    for it in iterations:\n",
    "        times[f'rs_{it}'] = {}\n",
    "        results[f'rs_{it}'] = {}\n",
    "    \n",
    "    for k,d in datasets:\n",
    "        c_dataset = ''.join(datasets[k,d]['dataset'])\n",
    "        dataset = datasets[k,d]['dataset']\n",
    "        kmer = datasets[k,d]['kmer']\n",
    "        f.write(str(dataset) + '\\t' + str(kmer) + '\\t' + str(k) + '-' + str(d) + '\\t')\n",
    "        print(k,d)\n",
    "\n",
    "        # Brute Force Search Algorithm\n",
    "        print('bf')\n",
    "        start=timeit.default_timer()\n",
    "        results_bf=BruteForceFrequentWords(c_dataset, k, d, time_limit)\n",
    "        stop=timeit.default_timer()\n",
    "        times['bf'][k,d] = stop-start\n",
    "        results['bf'][k,d] = results_bf\n",
    "        f.write(str(times['bf'][k,d]) + '\\t' + str(results['bf'][k,d]))\n",
    "\n",
    "\n",
    "        # Greedy Search Algorithm\n",
    "        print('gs')  \n",
    "        start=timeit.default_timer()  \n",
    "        results_gs=greedy_motif_search(dataset, k)\n",
    "        stop=timeit.default_timer()\n",
    "        times['gs'][k,d] = stop-start\n",
    "        results['gs'][k,d] = results_gs\n",
    "        f.write(str(times['gs'][k,d]) + '\\t' + str(results['gs'][k,d]))\n",
    "\n",
    "        # Randomized Search Algorithm\n",
    "        for it in iterations:\n",
    "            print(f'rs_{it}')\n",
    "            start=timeit.default_timer()       \n",
    "            results_rs=randomized_motif_search(dataset, k, it)\n",
    "            stop=timeit.default_timer()\n",
    "            times[f'rs_{it}'][k,d] = stop-start\n",
    "            results[f'rs_{it}'][k,d] = results_rs\n",
    "            f.write(str(times[f'rs_{it}'][k,d]) + '\\t' + str(results[f'rs_{it}'][k,d]) + '\\n')\n"
   ]
  },
  {
   "cell_type": "code",
   "execution_count": 19,
   "metadata": {},
   "outputs": [
    {
     "data": {
      "text/html": [
       "<div>\n",
       "<style scoped>\n",
       "    .dataframe tbody tr th:only-of-type {\n",
       "        vertical-align: middle;\n",
       "    }\n",
       "\n",
       "    .dataframe tbody tr th {\n",
       "        vertical-align: top;\n",
       "    }\n",
       "\n",
       "    .dataframe thead th {\n",
       "        text-align: right;\n",
       "    }\n",
       "</style>\n",
       "<table border=\"1\" class=\"dataframe\">\n",
       "  <thead>\n",
       "    <tr style=\"text-align: right;\">\n",
       "      <th></th>\n",
       "      <th></th>\n",
       "      <th>bf</th>\n",
       "      <th>gs</th>\n",
       "      <th>rs_10</th>\n",
       "      <th>rs_100</th>\n",
       "      <th>rs_1000</th>\n",
       "    </tr>\n",
       "  </thead>\n",
       "  <tbody>\n",
       "    <tr>\n",
       "      <th rowspan=\"2\" valign=\"top\">6</th>\n",
       "      <th>1</th>\n",
       "      <td>([GGCGGA, GTCGGA], 15, True)</td>\n",
       "      <td>(GGCGGA, [GGCGGA, GGCGGA, GGCGGA, GCCGGA, GTCG...</td>\n",
       "      <td>(GGCGGA, [GGCGGA, GGCGGA, GCCGGA, GTCGGA, GGCG...</td>\n",
       "      <td>(GGCGGA, [GGCGGA, GGCGGA, GCCGGA, GTCGGA, GGCG...</td>\n",
       "      <td>(GGCGGA, [GGCGGA, GGCGGA, GCCGGA, GTCGGA, GGCG...</td>\n",
       "    </tr>\n",
       "    <tr>\n",
       "      <th>2</th>\n",
       "      <td>([ACACTT], 73, True)</td>\n",
       "      <td>(CAGTTT, [CAGTTT, CAGTTT, CACTTT, CAGCTT, CAGT...</td>\n",
       "      <td>(CAGTTT, [CAGTTT, CAGGTT, CAGCTT, CAGTTT, CAGC...</td>\n",
       "      <td>(AGTTTA, [AGTGTA, AGTTAA, AGCTTG, AGTTTA, AGCT...</td>\n",
       "      <td>(CAGTTT, [CAGTTT, CACTTT, CAGCTT, CAGTTT, CAGC...</td>\n",
       "    </tr>\n",
       "    <tr>\n",
       "      <th rowspan=\"3\" valign=\"top\">7</th>\n",
       "      <th>1</th>\n",
       "      <td>([AGAAATA], 12, True)</td>\n",
       "      <td>(AGAAATA, [AGAAATA, AGAAATA, AGGAATA, AGCAATA,...</td>\n",
       "      <td>(ACGGGAT, [AGGGGAA, TCTGGAT, AGTTGAT, ACGGGAT,...</td>\n",
       "      <td>(AGAAATA, [AGAAATA, AGGAATA, AGCAATA, AGAAAGA,...</td>\n",
       "      <td>(AGAAATA, [AGAAATA, AGGAATA, AGCAATA, AGCAATA,...</td>\n",
       "    </tr>\n",
       "    <tr>\n",
       "      <th>2</th>\n",
       "      <td>([CCGCCGG], 32, True)</td>\n",
       "      <td>(CGGCGGG, [CGGCGGG, CGGCGGG, CCGCGGG, CGGCAGT,...</td>\n",
       "      <td>(GGCGGGT, [GGCGGGT, CGCGGGC, CGCAGAT, GGCGGGC,...</td>\n",
       "      <td>(CGGCGGG, [CGGCGGG, CCGCGGG, CGGCAGT, CGGCGGG,...</td>\n",
       "      <td>(CGGCGGG, [CGGCGGG, CCGCGGG, CGGCAGT, CGGCGGG,...</td>\n",
       "    </tr>\n",
       "    <tr>\n",
       "      <th>3</th>\n",
       "      <td>([TTTTATT], 127, True)</td>\n",
       "      <td>(GTTTTTT, [GTTTTTT, GTTTTTT, GTTTTGT, GTTTAAT,...</td>\n",
       "      <td>(GTTAATC, [GTTGAGC, GTTCCTC, TTTAATC, GTTACTC,...</td>\n",
       "      <td>(TTTTTGT, [TTTTTGG, GTTTTGT, TTCTTGT, TTACTGT,...</td>\n",
       "      <td>(TTTTTGT, [TTTTTGG, GTTTTGT, TTCTTGT, TTACTGT,...</td>\n",
       "    </tr>\n",
       "    <tr>\n",
       "      <th rowspan=\"3\" valign=\"top\">8</th>\n",
       "      <th>1</th>\n",
       "      <td>([GAGATCAG], 10, True)</td>\n",
       "      <td>(GAGATCAG, [GAGATCAG, GAGATCAG, GAGATCAC, GAGA...</td>\n",
       "      <td>(CGAGATCA, [CGAGATCA, GGAGATCA, CGAGATCA, AGAG...</td>\n",
       "      <td>(GAGATCAG, [GAGATCAG, GAGATCAC, GAGATCAG, GAGG...</td>\n",
       "      <td>(GAGATCAG, [GAGATCAG, GAGATCAC, GAGATCAG, GAGG...</td>\n",
       "    </tr>\n",
       "    <tr>\n",
       "      <th>2</th>\n",
       "      <td>([TGGGCTCA], 17, True)</td>\n",
       "      <td>(TGTGCTCA, [TGTGCTCA, TGTGCTCA, TGAGCTCA, TGTG...</td>\n",
       "      <td>(CGAGGACC, [CTAGGACA, CGAGCTCC, CGTGGACG, GGAT...</td>\n",
       "      <td>(TGTGCTCA, [TGTGCTCA, TGAGCTCA, TGTGGTCA, TGTA...</td>\n",
       "      <td>(TGTGCTCA, [TGTGCTCA, TGAGCTCA, TGTGGTCA, TGTA...</td>\n",
       "    </tr>\n",
       "    <tr>\n",
       "      <th>3</th>\n",
       "      <td>([ACGCCTTT, CGCCTTTG], 48, True)</td>\n",
       "      <td>(GCAGCTTT, [GCAGCTTT, GCAGCTTT, GCAGCTTT, GCAA...</td>\n",
       "      <td>(GACGCCTT, [GGCCCCGT, GACGGATT, GACACCTT, GACG...</td>\n",
       "      <td>(CAGCTTTG, [CAGCTTTC, CAGCTTTC, CAACTTTG, CATC...</td>\n",
       "      <td>(GCAGCTTT, [GCAGCTTT, GCAGCTTT, GCAACTTT, GGCG...</td>\n",
       "    </tr>\n",
       "    <tr>\n",
       "      <th rowspan=\"3\" valign=\"top\">9</th>\n",
       "      <th>1</th>\n",
       "      <td>([GAGTGGCTG], 10, True)</td>\n",
       "      <td>(GAGTGGCTG, [GAGTGGCTG, GAGTGGCTG, GACTGGCTG, ...</td>\n",
       "      <td>(GAGTGGCTG, [GAGTGGCTG, GACTGGCTG, GAGTGTCTG, ...</td>\n",
       "      <td>(GAGTGGCTG, [GAGTGGCTG, GACTGGCTG, GAGTGTCTG, ...</td>\n",
       "      <td>(GAGTGGCTG, [GAGTGGCTG, GACTGGCTG, GAGTGTCTG, ...</td>\n",
       "    </tr>\n",
       "    <tr>\n",
       "      <th>2</th>\n",
       "      <td>([TAGGAGGCT, TGAGAGGCT], 13, True)</td>\n",
       "      <td>(TAAGAGGCT, [TAAGAGGCT, TAAGAGGCT, CAAGAGGCT, ...</td>\n",
       "      <td>(TTAAGAGGC, [CTAAGAGGC, TTCACGGGC, TTCAAATCC, ...</td>\n",
       "      <td>(TAAGAGGCT, [TAAGAGGCT, CAAGAGGCT, AAGGAGGCT, ...</td>\n",
       "      <td>(TAAGAGGCT, [TAAGAGGCT, CAAGAGGCT, AAGGAGGCT, ...</td>\n",
       "    </tr>\n",
       "    <tr>\n",
       "      <th>3</th>\n",
       "      <td>([AAAGGATGA], 24, True)</td>\n",
       "      <td>(CGCAAAGGA, [CGCAAAGGA, CGCAAAGGA, CGCATAGGA, ...</td>\n",
       "      <td>(CGCAAAGGA, [CGCAAAGGA, CGCATAGGA, CGCAGAGGT, ...</td>\n",
       "      <td>(CGCAAAGGA, [CGCAAAGGA, CGCATAGGA, CAAAAAGGA, ...</td>\n",
       "      <td>(CGCAAAGGA, [CGCAAAGGA, CGCATAGGA, CGCAGAGGT, ...</td>\n",
       "    </tr>\n",
       "    <tr>\n",
       "      <th rowspan=\"3\" valign=\"top\">10</th>\n",
       "      <th>1</th>\n",
       "      <td>([TAGGTGTAAG], 10, True)</td>\n",
       "      <td>(TAGGTGTAAG, [TAGGTGTAAG, TAGGTGTAAG, TAGGTGTC...</td>\n",
       "      <td>(GGTGTAAGCG, [GGTGTAAGCG, GGTGTCAGAG, GGTGTAGG...</td>\n",
       "      <td>(TAGGTGTAAG, [TAGGTGTAAG, TAGGTGTCAG, TAGGTGTA...</td>\n",
       "      <td>(TAGGTGTAAG, [TAGGTGTAAG, TAGGTGTCAG, TAGGTGTA...</td>\n",
       "    </tr>\n",
       "    <tr>\n",
       "      <th>2</th>\n",
       "      <td>([GTCATTAACG], 12, True)</td>\n",
       "      <td>(GTCATTAACG, [GTCATTAACG, GTCATTAACG, GTCATTGA...</td>\n",
       "      <td>(TCATTAACGC, [TCATTAACGT, TCATTGACGG, TCATTAAA...</td>\n",
       "      <td>(GTCATTAACG, [GTCATTAACG, GTCATTGACG, GTCATTAA...</td>\n",
       "      <td>(GTCATTAACG, [GTCATTAACG, GTCATTGACG, GTCATTAA...</td>\n",
       "    </tr>\n",
       "    <tr>\n",
       "      <th>3</th>\n",
       "      <td>([ACTCTGAGGA], 19, True)</td>\n",
       "      <td>(GGACTATGAG, [GGACTATGAG, GGACTATGAG, CGACTATG...</td>\n",
       "      <td>(ACTATGAGCA, [ACTATGAGCT, ACTATGAGGT, ACTCTGAG...</td>\n",
       "      <td>(GGACTATGAG, [GGACTATGAG, CGACTATGAG, GGACTATG...</td>\n",
       "      <td>(GGACTATGAG, [GGACTATGAG, CGACTATGAG, GGACTATG...</td>\n",
       "    </tr>\n",
       "    <tr>\n",
       "      <th rowspan=\"3\" valign=\"top\">12</th>\n",
       "      <th>1</th>\n",
       "      <td>([TTTTGGCTTGAC], 10, True)</td>\n",
       "      <td>(TTTTGGCTTGAC, [TTTTGGCTTGAC, TTTTGGCTTGAC, TC...</td>\n",
       "      <td>(CTTTTGGCTTGA, [TTTTTGGCTTGA, ATCTTGGCTTGA, TT...</td>\n",
       "      <td>(TTTTGGCTTGAC, [TTTTGGCTTGAC, TCTTGGCTTGAC, TC...</td>\n",
       "      <td>(TTTTGGCTTGAC, [TTTTGGCTTGAC, TCTTGGCTTGAC, TC...</td>\n",
       "    </tr>\n",
       "    <tr>\n",
       "      <th>2</th>\n",
       "      <td>([CTCTTCACCTCG], 10, True)</td>\n",
       "      <td>(CTCTTCACCTCG, [CTCTTCACCTCG, CTCTTCACCTCG, CT...</td>\n",
       "      <td>(CTCTTCACCTCG, [CTCTTCACCTCG, CTCTTCACCTGG, CT...</td>\n",
       "      <td>(CTCTTCACCTCG, [CTCTTCACCTCG, CTCTTCACCTGG, CT...</td>\n",
       "      <td>(CTCTTCACCTCG, [CTCTTCACCTCG, CTCTTCACCTGG, CT...</td>\n",
       "    </tr>\n",
       "    <tr>\n",
       "      <th>3</th>\n",
       "      <td>([ATCAGGACTACA, TCAGGACTACAG], 10, True)</td>\n",
       "      <td>(ATCAGGACTACA, [ATCAGGACTACA, ATCAGGACTACA, AT...</td>\n",
       "      <td>(CATCAGGACTAC, [TATCAGGACTAC, CATCAGAACTAC, GA...</td>\n",
       "      <td>(ATCAGGACTACA, [ATCAGGACTACA, ATCAGAACTACA, AT...</td>\n",
       "      <td>(ATCAGGACTACA, [ATCAGGACTACA, ATCAGAACTACA, AT...</td>\n",
       "    </tr>\n",
       "    <tr>\n",
       "      <th rowspan=\"3\" valign=\"top\">15</th>\n",
       "      <th>1</th>\n",
       "      <td>([CCTTTGAAGAGGAGA], 10, True)</td>\n",
       "      <td>(CCTTTGAAGAGGAGA, [CCTTTGAAGAGGAGA, CCTTTGAAGA...</td>\n",
       "      <td>(CTTTGAAGAGGAGAT, [CTTTGAAGAGGAGAA, CTTTGAAGAG...</td>\n",
       "      <td>(CCTTTGAAGAGGAGA, [CCTTTGAAGAGGAGA, CCTTTGAAGA...</td>\n",
       "      <td>(CCTTTGAAGAGGAGA, [CCTTTGAAGAGGAGA, CCTTTGAAGA...</td>\n",
       "    </tr>\n",
       "    <tr>\n",
       "      <th>2</th>\n",
       "      <td>([TGGACCGGAGTATGG], 10, True)</td>\n",
       "      <td>(TGGACCGGAGTATGG, [TGGACCGGAGTATGG, TGGACCGGAG...</td>\n",
       "      <td>(GGACCGGAGTATGGA, [GGACCGGAGTATGGG, GGACCGGAGT...</td>\n",
       "      <td>(TGGACCGGAGTATGG, [TGGACCGGAGTATGG, TGGACCGGAG...</td>\n",
       "      <td>(TGGACCGGAGTATGG, [TGGACCGGAGTATGG, TGGACCGGAG...</td>\n",
       "    </tr>\n",
       "    <tr>\n",
       "      <th>3</th>\n",
       "      <td>([GCGCCAGGCGACACA, CGCCAGGCGACACAT, ATGCGCCAGG...</td>\n",
       "      <td>(GCGCCAGGCGACACA, [GCGCCAGGCGACACA, GCGCCAGGCG...</td>\n",
       "      <td>(CCAGGCGACACATCC, [CCAGGCGACACATTC, CCAGGTCTCA...</td>\n",
       "      <td>(GCGCCAGGCGACACA, [GCGCCAGGCGACACA, GCGCCAGGCG...</td>\n",
       "      <td>(GCGCCAGGCGACACA, [GCGCCAGGCGACACA, GCGCCAGGCG...</td>\n",
       "    </tr>\n",
       "  </tbody>\n",
       "</table>\n",
       "</div>"
      ],
      "text/plain": [
       "                                                     bf  \\\n",
       "6  1                       ([GGCGGA, GTCGGA], 15, True)   \n",
       "   2                               ([ACACTT], 73, True)   \n",
       "7  1                              ([AGAAATA], 12, True)   \n",
       "   2                              ([CCGCCGG], 32, True)   \n",
       "   3                             ([TTTTATT], 127, True)   \n",
       "8  1                             ([GAGATCAG], 10, True)   \n",
       "   2                             ([TGGGCTCA], 17, True)   \n",
       "   3                   ([ACGCCTTT, CGCCTTTG], 48, True)   \n",
       "9  1                            ([GAGTGGCTG], 10, True)   \n",
       "   2                 ([TAGGAGGCT, TGAGAGGCT], 13, True)   \n",
       "   3                            ([AAAGGATGA], 24, True)   \n",
       "10 1                           ([TAGGTGTAAG], 10, True)   \n",
       "   2                           ([GTCATTAACG], 12, True)   \n",
       "   3                           ([ACTCTGAGGA], 19, True)   \n",
       "12 1                         ([TTTTGGCTTGAC], 10, True)   \n",
       "   2                         ([CTCTTCACCTCG], 10, True)   \n",
       "   3           ([ATCAGGACTACA, TCAGGACTACAG], 10, True)   \n",
       "15 1                      ([CCTTTGAAGAGGAGA], 10, True)   \n",
       "   2                      ([TGGACCGGAGTATGG], 10, True)   \n",
       "   3  ([GCGCCAGGCGACACA, CGCCAGGCGACACAT, ATGCGCCAGG...   \n",
       "\n",
       "                                                     gs  \\\n",
       "6  1  (GGCGGA, [GGCGGA, GGCGGA, GGCGGA, GCCGGA, GTCG...   \n",
       "   2  (CAGTTT, [CAGTTT, CAGTTT, CACTTT, CAGCTT, CAGT...   \n",
       "7  1  (AGAAATA, [AGAAATA, AGAAATA, AGGAATA, AGCAATA,...   \n",
       "   2  (CGGCGGG, [CGGCGGG, CGGCGGG, CCGCGGG, CGGCAGT,...   \n",
       "   3  (GTTTTTT, [GTTTTTT, GTTTTTT, GTTTTGT, GTTTAAT,...   \n",
       "8  1  (GAGATCAG, [GAGATCAG, GAGATCAG, GAGATCAC, GAGA...   \n",
       "   2  (TGTGCTCA, [TGTGCTCA, TGTGCTCA, TGAGCTCA, TGTG...   \n",
       "   3  (GCAGCTTT, [GCAGCTTT, GCAGCTTT, GCAGCTTT, GCAA...   \n",
       "9  1  (GAGTGGCTG, [GAGTGGCTG, GAGTGGCTG, GACTGGCTG, ...   \n",
       "   2  (TAAGAGGCT, [TAAGAGGCT, TAAGAGGCT, CAAGAGGCT, ...   \n",
       "   3  (CGCAAAGGA, [CGCAAAGGA, CGCAAAGGA, CGCATAGGA, ...   \n",
       "10 1  (TAGGTGTAAG, [TAGGTGTAAG, TAGGTGTAAG, TAGGTGTC...   \n",
       "   2  (GTCATTAACG, [GTCATTAACG, GTCATTAACG, GTCATTGA...   \n",
       "   3  (GGACTATGAG, [GGACTATGAG, GGACTATGAG, CGACTATG...   \n",
       "12 1  (TTTTGGCTTGAC, [TTTTGGCTTGAC, TTTTGGCTTGAC, TC...   \n",
       "   2  (CTCTTCACCTCG, [CTCTTCACCTCG, CTCTTCACCTCG, CT...   \n",
       "   3  (ATCAGGACTACA, [ATCAGGACTACA, ATCAGGACTACA, AT...   \n",
       "15 1  (CCTTTGAAGAGGAGA, [CCTTTGAAGAGGAGA, CCTTTGAAGA...   \n",
       "   2  (TGGACCGGAGTATGG, [TGGACCGGAGTATGG, TGGACCGGAG...   \n",
       "   3  (GCGCCAGGCGACACA, [GCGCCAGGCGACACA, GCGCCAGGCG...   \n",
       "\n",
       "                                                  rs_10  \\\n",
       "6  1  (GGCGGA, [GGCGGA, GGCGGA, GCCGGA, GTCGGA, GGCG...   \n",
       "   2  (CAGTTT, [CAGTTT, CAGGTT, CAGCTT, CAGTTT, CAGC...   \n",
       "7  1  (ACGGGAT, [AGGGGAA, TCTGGAT, AGTTGAT, ACGGGAT,...   \n",
       "   2  (GGCGGGT, [GGCGGGT, CGCGGGC, CGCAGAT, GGCGGGC,...   \n",
       "   3  (GTTAATC, [GTTGAGC, GTTCCTC, TTTAATC, GTTACTC,...   \n",
       "8  1  (CGAGATCA, [CGAGATCA, GGAGATCA, CGAGATCA, AGAG...   \n",
       "   2  (CGAGGACC, [CTAGGACA, CGAGCTCC, CGTGGACG, GGAT...   \n",
       "   3  (GACGCCTT, [GGCCCCGT, GACGGATT, GACACCTT, GACG...   \n",
       "9  1  (GAGTGGCTG, [GAGTGGCTG, GACTGGCTG, GAGTGTCTG, ...   \n",
       "   2  (TTAAGAGGC, [CTAAGAGGC, TTCACGGGC, TTCAAATCC, ...   \n",
       "   3  (CGCAAAGGA, [CGCAAAGGA, CGCATAGGA, CGCAGAGGT, ...   \n",
       "10 1  (GGTGTAAGCG, [GGTGTAAGCG, GGTGTCAGAG, GGTGTAGG...   \n",
       "   2  (TCATTAACGC, [TCATTAACGT, TCATTGACGG, TCATTAAA...   \n",
       "   3  (ACTATGAGCA, [ACTATGAGCT, ACTATGAGGT, ACTCTGAG...   \n",
       "12 1  (CTTTTGGCTTGA, [TTTTTGGCTTGA, ATCTTGGCTTGA, TT...   \n",
       "   2  (CTCTTCACCTCG, [CTCTTCACCTCG, CTCTTCACCTGG, CT...   \n",
       "   3  (CATCAGGACTAC, [TATCAGGACTAC, CATCAGAACTAC, GA...   \n",
       "15 1  (CTTTGAAGAGGAGAT, [CTTTGAAGAGGAGAA, CTTTGAAGAG...   \n",
       "   2  (GGACCGGAGTATGGA, [GGACCGGAGTATGGG, GGACCGGAGT...   \n",
       "   3  (CCAGGCGACACATCC, [CCAGGCGACACATTC, CCAGGTCTCA...   \n",
       "\n",
       "                                                 rs_100  \\\n",
       "6  1  (GGCGGA, [GGCGGA, GGCGGA, GCCGGA, GTCGGA, GGCG...   \n",
       "   2  (AGTTTA, [AGTGTA, AGTTAA, AGCTTG, AGTTTA, AGCT...   \n",
       "7  1  (AGAAATA, [AGAAATA, AGGAATA, AGCAATA, AGAAAGA,...   \n",
       "   2  (CGGCGGG, [CGGCGGG, CCGCGGG, CGGCAGT, CGGCGGG,...   \n",
       "   3  (TTTTTGT, [TTTTTGG, GTTTTGT, TTCTTGT, TTACTGT,...   \n",
       "8  1  (GAGATCAG, [GAGATCAG, GAGATCAC, GAGATCAG, GAGG...   \n",
       "   2  (TGTGCTCA, [TGTGCTCA, TGAGCTCA, TGTGGTCA, TGTA...   \n",
       "   3  (CAGCTTTG, [CAGCTTTC, CAGCTTTC, CAACTTTG, CATC...   \n",
       "9  1  (GAGTGGCTG, [GAGTGGCTG, GACTGGCTG, GAGTGTCTG, ...   \n",
       "   2  (TAAGAGGCT, [TAAGAGGCT, CAAGAGGCT, AAGGAGGCT, ...   \n",
       "   3  (CGCAAAGGA, [CGCAAAGGA, CGCATAGGA, CAAAAAGGA, ...   \n",
       "10 1  (TAGGTGTAAG, [TAGGTGTAAG, TAGGTGTCAG, TAGGTGTA...   \n",
       "   2  (GTCATTAACG, [GTCATTAACG, GTCATTGACG, GTCATTAA...   \n",
       "   3  (GGACTATGAG, [GGACTATGAG, CGACTATGAG, GGACTATG...   \n",
       "12 1  (TTTTGGCTTGAC, [TTTTGGCTTGAC, TCTTGGCTTGAC, TC...   \n",
       "   2  (CTCTTCACCTCG, [CTCTTCACCTCG, CTCTTCACCTGG, CT...   \n",
       "   3  (ATCAGGACTACA, [ATCAGGACTACA, ATCAGAACTACA, AT...   \n",
       "15 1  (CCTTTGAAGAGGAGA, [CCTTTGAAGAGGAGA, CCTTTGAAGA...   \n",
       "   2  (TGGACCGGAGTATGG, [TGGACCGGAGTATGG, TGGACCGGAG...   \n",
       "   3  (GCGCCAGGCGACACA, [GCGCCAGGCGACACA, GCGCCAGGCG...   \n",
       "\n",
       "                                                rs_1000  \n",
       "6  1  (GGCGGA, [GGCGGA, GGCGGA, GCCGGA, GTCGGA, GGCG...  \n",
       "   2  (CAGTTT, [CAGTTT, CACTTT, CAGCTT, CAGTTT, CAGC...  \n",
       "7  1  (AGAAATA, [AGAAATA, AGGAATA, AGCAATA, AGCAATA,...  \n",
       "   2  (CGGCGGG, [CGGCGGG, CCGCGGG, CGGCAGT, CGGCGGG,...  \n",
       "   3  (TTTTTGT, [TTTTTGG, GTTTTGT, TTCTTGT, TTACTGT,...  \n",
       "8  1  (GAGATCAG, [GAGATCAG, GAGATCAC, GAGATCAG, GAGG...  \n",
       "   2  (TGTGCTCA, [TGTGCTCA, TGAGCTCA, TGTGGTCA, TGTA...  \n",
       "   3  (GCAGCTTT, [GCAGCTTT, GCAGCTTT, GCAACTTT, GGCG...  \n",
       "9  1  (GAGTGGCTG, [GAGTGGCTG, GACTGGCTG, GAGTGTCTG, ...  \n",
       "   2  (TAAGAGGCT, [TAAGAGGCT, CAAGAGGCT, AAGGAGGCT, ...  \n",
       "   3  (CGCAAAGGA, [CGCAAAGGA, CGCATAGGA, CGCAGAGGT, ...  \n",
       "10 1  (TAGGTGTAAG, [TAGGTGTAAG, TAGGTGTCAG, TAGGTGTA...  \n",
       "   2  (GTCATTAACG, [GTCATTAACG, GTCATTGACG, GTCATTAA...  \n",
       "   3  (GGACTATGAG, [GGACTATGAG, CGACTATGAG, GGACTATG...  \n",
       "12 1  (TTTTGGCTTGAC, [TTTTGGCTTGAC, TCTTGGCTTGAC, TC...  \n",
       "   2  (CTCTTCACCTCG, [CTCTTCACCTCG, CTCTTCACCTGG, CT...  \n",
       "   3  (ATCAGGACTACA, [ATCAGGACTACA, ATCAGAACTACA, AT...  \n",
       "15 1  (CCTTTGAAGAGGAGA, [CCTTTGAAGAGGAGA, CCTTTGAAGA...  \n",
       "   2  (TGGACCGGAGTATGG, [TGGACCGGAGTATGG, TGGACCGGAG...  \n",
       "   3  (GCGCCAGGCGACACA, [GCGCCAGGCGACACA, GCGCCAGGCG...  "
      ]
     },
     "execution_count": 19,
     "metadata": {},
     "output_type": "execute_result"
    }
   ],
   "source": [
    "pd.DataFrame(results)"
   ]
  },
  {
   "cell_type": "markdown",
   "metadata": {},
   "source": [
    "# Results\n",
    "\n",
    "## Runtime Performance"
   ]
  },
  {
   "cell_type": "markdown",
   "metadata": {},
   "source": [
    "In the plots below are presented the runtimes of the three algorithms as $k$, length of the kmer, increases for a fixed number of mismatches allowed."
   ]
  },
  {
   "cell_type": "code",
   "execution_count": 20,
   "metadata": {},
   "outputs": [
    {
     "data": {
      "image/png": "[encoded data removed]",
      "text/plain": [
       "<Figure size 1440x360 with 3 Axes>"
      ]
     },
     "metadata": {
      "needs_background": "light"
     },
     "output_type": "display_data"
    }
   ],
   "source": [
    "plt.figure(figsize=(20,5))\n",
    "\n",
    "for i, d in enumerate(mismatches):\n",
    "    kmer_range = [k for k in kmer_length if d < k/2]\n",
    "    \n",
    "    plt.subplot(1, len(mismatches), i+1)\n",
    "    \n",
    "    bf = [times['bf'][k,d] for k in kmer_range]\n",
    "    gs = [times['gs'][k,d] for k in kmer_range]\n",
    "    rs_10 = [times['rs_10'][k,d] for k in kmer_range]\n",
    "    rs_100 = [times['rs_100'][k,d] for k in kmer_range]\n",
    "    rs_1000 = [times['rs_1000'][k,d] for k in kmer_range]\n",
    "    \n",
    "    plt.plot(kmer_range, bf, marker='o', c='mediumpurple', label='Brute Force')\n",
    "    plt.plot(kmer_range, gs, marker='x', c='yellowgreen', label='Greedy')\n",
    "    plt.plot(kmer_range, rs_10, marker='^', c='mediumturquoise', label='Randomized (10)')\n",
    "    plt.plot(kmer_range, rs_100, marker='^', c='darkcyan', label='Randomized (100)')\n",
    "    plt.plot(kmer_range, rs_1000, marker='^', c='darkslategray', label='Randomized (1000)')\n",
    "    \n",
    "    plt.xlabel('$k$-mer length', fontsize=14)\n",
    "    plt.ylabel('Time (sec) in logscale', fontsize=14)\n",
    "    plt.title(f'$d={d}$', fontsize=14)\n",
    "    plt.yscale('log')\n",
    "    plt.ylim([1e-2,1e4])\n",
    "\n",
    "    if d == mismatches[0]:\n",
    "        plt.legend(fontsize=12)\n",
    "plt.savefig('dfixed.pdf')"
   ]
  },
  {
   "cell_type": "markdown",
   "metadata": {},
   "source": [
    "It can be noted from the plots above that the runtime performance varies more for the brute force algorithm than the other algorithms. As the number of mismatches increases, the algorithm becomes slower exponentailly. Moreover the length of the kmer affects the runtime proportionally as it increases as well. Interestingly, the performance of the greedy and randomized search algorithms seems to be unaffected by the increase in hte number of mismatches. More specifically, the runtime of the randomized search algorithm increases as the number of iterations increases too and as expected the randomized algorithm ran for $10$ iterations achieves the best score, while the randomized search algorithm ran for 1000 iterations and $d{=}1$ is outperformed by the brute force algorithm. The Greedy search is steadily the second best algorithm in terms of runtime performance. \n",
    "\n",
    "Below the plots present the runtimes of the three algorithms as $d$, number of mismatches, increases for a fixed length of kmer. As noted also from the previous plots, only the brute force algorithm seems to be affected by the increase in the number of mismatches. The larger the number of mismatches, the more slow the algorithm becomes. We also note that this observation stands for all kmer lenghts."
   ]
  },
  {
   "cell_type": "code",
   "execution_count": 21,
   "metadata": {},
   "outputs": [
    {
     "data": {
      "image/png": "[encoded data removed]",
      "text/plain": [
       "<Figure size 1440x1152 with 7 Axes>"
      ]
     },
     "metadata": {
      "needs_background": "light"
     },
     "output_type": "display_data"
    }
   ],
   "source": [
    "plt.figure(figsize=(20,16))\n",
    "\n",
    "for i, k in enumerate(kmer_length):\n",
    "    d_range = [d for d in mismatches if d < k/2]\n",
    "    \n",
    "    plt.subplot(3, 3, i+1)\n",
    "    \n",
    "    bf = [times['bf'][k,d] for d in d_range]\n",
    "    gs = [times['gs'][k,d] for d in d_range]\n",
    "    rs_10 = [times['rs_10'][k,d] for d in d_range]\n",
    "    rs_100 = [times['rs_100'][k,d] for d in d_range]\n",
    "    rs_1000 = [times['rs_1000'][k,d] for d in d_range]\n",
    "    \n",
    "    plt.plot(d_range, bf, marker='o', c='mediumpurple', label='Brute Force')\n",
    "    plt.plot(d_range, gs, marker='x', c='yellowgreen', label='Greedy')\n",
    "    plt.plot(d_range, rs_10, marker='^', c='mediumturquoise', label='Randomized (10)')\n",
    "    plt.plot(d_range, rs_100, marker='^', c='darkcyan', label='Randomized (100)')\n",
    "    plt.plot(d_range, rs_1000, marker='^', c='darkslategray', label='Randomized (1000)')\n",
    "    \n",
    "    plt.xlabel('Number of mismatches', fontsize=14)\n",
    "    plt.ylabel('Time (sec) in logscale', fontsize=14)\n",
    "    plt.title(f'$k={k}$', fontsize=14)\n",
    "    plt.yscale('log')\n",
    "    plt.ylim([1e-2,1e4])\n",
    "\n",
    "    if k == kmer_length[0]:\n",
    "        plt.legend(fontsize=12)\n",
    "plt.savefig('kfixed.pdf')"
   ]
  },
  {
   "cell_type": "markdown",
   "metadata": {},
   "source": [
    "# k-mer Quality "
   ]
  },
  {
   "cell_type": "markdown",
   "metadata": {},
   "source": [
    "In the plot below, we show the caclulated hamming distance of the most frequent k-dmer and the original kmer, and the consensus string and the original kmer, using the `hamming_distance` function, for the brute force and the greedy and randomized algorithms respectively. The ideal hamming distance is $0$, and thus the lower the hamming distance the better the result, in terms of accuracy.\n",
    "\n",
    "More specifically for the case of **Brute Force** algorithm, since the algorithm returns a list of the most frequent k-d mers, we plot the best hamming distance, meaning the lowest from those caclulated."
   ]
  },
  {
   "cell_type": "code",
   "execution_count": 22,
   "metadata": {},
   "outputs": [
    {
     "data": {
      "image/png": "[encoded data removed]",
      "text/plain": [
       "<Figure size 1440x720 with 15 Axes>"
      ]
     },
     "metadata": {
      "needs_background": "light"
     },
     "output_type": "display_data"
    }
   ],
   "source": [
    "plt.figure(figsize=(20,10))\n",
    "\n",
    "step = 1\n",
    "for i, d in enumerate(mismatches):\n",
    "    kmer_range = [k for k in kmer_length if d < k/2]\n",
    "        \n",
    "    bf = []\n",
    "    for k in kmer_range:\n",
    "        bf.append(min([hamming_distance(motif, datasets[k,d]['kmer']) for motif in results['bf'][k,d][0]]))\n",
    "    \n",
    "    gs = [hamming_distance(results['gs'][k,d][0], datasets[k,d]['kmer']) for k in kmer_range]\n",
    "    rs_10 = [hamming_distance(results['rs_10'][k,d][0], datasets[k,d]['kmer']) for k in kmer_range]\n",
    "    rs_100 = [hamming_distance(results['rs_100'][k,d][0], datasets[k,d]['kmer']) for k in kmer_range]\n",
    "    rs_1000 = [hamming_distance(results['rs_1000'][k,d][0], datasets[k,d]['kmer']) for k in kmer_range]\n",
    "    \n",
    "    max_of_max = max([max(bf), max(gs), max(rs_10), max(rs_100), max(rs_1000)]) + 1\n",
    "    \n",
    "    plt.subplot(len(mismatches), len(results.keys()), step)\n",
    "    plt.bar(kmer_range, bf, color='mediumpurple', label='Brute Force')\n",
    "    plt.scatter(kmer_range, bf, marker='o', edgecolors='mediumpurple', label='Brute Force')\n",
    "    plt.ylabel(f'Hamming distance,\\n  d={d}', fontsize=14)\n",
    "    if d == mismatches[0]:\n",
    "        plt.title(f'Brute Force', fontsize=14)\n",
    "    if d == mismatches[-1]:\n",
    "        plt.xlabel('$k$-mer length', fontsize=14)\n",
    "    plt.xlim([kmer_length[0]-1, kmer_length[-1]+1])\n",
    "    plt.ylim([0, max_of_max])\n",
    "    step += 1\n",
    "    \n",
    "    plt.subplot(len(mismatches), len(results.keys()), step)\n",
    "    plt.bar(kmer_range, gs, color='yellowgreen', label='Greedy')\n",
    "    plt.scatter(kmer_range, gs, marker='o', edgecolors='yellowgreen', label='Greedy')\n",
    "    if d == mismatches[0]:\n",
    "        plt.title(f'Greedy', fontsize=14)\n",
    "    if d == mismatches[-1]:\n",
    "        plt.xlabel('$k$-mer length', fontsize=14)\n",
    "    plt.xlim([kmer_length[0]-1, kmer_length[-1]+1])\n",
    "    plt.ylim([0, max_of_max])\n",
    "    step += 1\n",
    "    \n",
    "    plt.subplot(len(mismatches), len(results.keys()), step)\n",
    "    plt.bar(kmer_range, rs_10, color='mediumturquoise', label='Randomized (10)')\n",
    "    plt.scatter(kmer_range, rs_10, marker='o', edgecolors='mediumturquoise', label='Randomized (10)')\n",
    "    if d == mismatches[0]:\n",
    "        plt.title(f'Randomized (10)', fontsize=14)\n",
    "    if d == mismatches[-1]:\n",
    "        plt.xlabel('$k$-mer length', fontsize=14)\n",
    "    plt.xlim([kmer_length[0]-1, kmer_length[-1]+1])\n",
    "    plt.ylim([0, max_of_max])\n",
    "    step += 1\n",
    "    \n",
    "    plt.subplot(len(mismatches), len(results.keys()), step)\n",
    "    plt.bar(kmer_range, rs_100, color='darkcyan', label='Randomized (100)')\n",
    "    plt.scatter(kmer_range, rs_100, marker='o', edgecolors='darkcyan', label='Randomized (100)')\n",
    "    if d == mismatches[0]:\n",
    "        plt.title(f'Randomized (100)', fontsize=14)\n",
    "    if d == mismatches[-1]:\n",
    "        plt.xlabel('$k$-mer length', fontsize=14)\n",
    "    plt.xlim([kmer_length[0]-1, kmer_length[-1]+1])\n",
    "    plt.ylim([0, max_of_max])\n",
    "    step += 1\n",
    "    \n",
    "    plt.subplot(len(mismatches), len(results.keys()), step)\n",
    "    plt.bar(kmer_range, rs_1000, color='darkslategray', label='Randomized (1000)')\n",
    "    plt.scatter(kmer_range, rs_1000, marker='o', edgecolors='darkslategray', label='Randomized (1000)')\n",
    "    if d == mismatches[0]:\n",
    "        plt.title(f'Randomized (1000)', fontsize=14)\n",
    "    if d == mismatches[-1]:\n",
    "        plt.xlabel('$k$-mer length', fontsize=14)\n",
    "    plt.xlim([kmer_length[0]-1, kmer_length[-1]+1])\n",
    "    plt.ylim([0, max_of_max])\n",
    "    step += 1\n",
    "\n",
    "plt.savefig('hamming.pdf')"
   ]
  },
  {
   "cell_type": "markdown",
   "metadata": {},
   "source": [
    "As it shown in the plot above, the worst performance in terms of accuracy is achieved by the randomized search algorithm, ran for 10 iterations, as expected. It can be noted that for $d{=}1$ mismatche, all the algorithms apart from the randomized ran for 10 iterations achieve high quality results, regardless of the length of the kmer. As the number of mismatches increases, the performance of all the algorithms decreases. Keep in mind, that for instance, when we have $d{=}3$, $3$ mismatches are accepted and thus a hamming distance of $3$ can be cosnidered a success. Overall, the greedy and the randomized (for $>10$ iterations) search algorithms, yield the best results. "
   ]
  },
  {
   "cell_type": "markdown",
   "metadata": {},
   "source": [
    "# Conclusions\n",
    "\n",
    "We performed experimental evaluation using three algorithms for identifying the subsequence (kmer), implanted in a number of DNA sequences. One brute force searching for the exact solution, one greedy search aiming to find a good solution by making locally optimal choices at each step, and a randomized search, examining random candidates until a satisfactory solution is found.\n",
    "\n",
    "The results suggest that the brute force algorithm, as expected, always finds an exact solution when possible (for large $k$). However, this solution comes with a cost in runtime performance, which is exponential in terms of the legth of the kmer and the number of mismatches allowed. On the other hand, the greedy search algorithm appears to be much faster in all cases in addition to finding high quality solutions very close (or even exact) to the original kmer. Finally, the randomized search algorithm yields runtime perfomance which is proportional to the number of iterations. For a small number of iterations, e.g., $10$, the algorithm is exceptionally fast, however giving very poor results in terms of accuracy. On the other end, for a very large number of iterations, e.g., $1000$, the algorithm finds, high qualtiy solutions, similar to that of the greedy search, but the runtime performance is compromised, since it is the second slower after the brute force. The middle ground, e.g., $100$ iterations, achieves a balanced performance both in terms of accuracy and run time. In our experimental evalutaion, the greedy and the randomized ($1000$) search algorithms achieve similar accuracy, while the greedy search algorithms is faster in most cases. To that end, the greedy search algorithm seems to be the way to go."
   ]
  }
 ],
 "metadata": {
  "kernelspec": {
   "display_name": "Python 3 (ipykernel)",
   "language": "python",
   "name": "python3"
  },
  "language_info": {
   "codemirror_mode": {
    "name": "ipython",
    "version": 3
   },
   "file_extension": ".py",
   "mimetype": "text/x-python",
   "name": "python",
   "nbconvert_exporter": "python",
   "pygments_lexer": "ipython3",
   "version": "3.8.12"
  }
 },
 "nbformat": 4,
 "nbformat_minor": 1
}