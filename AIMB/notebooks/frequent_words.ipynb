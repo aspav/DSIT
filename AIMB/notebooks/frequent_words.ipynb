{
 "cells": [
  {
   "cell_type": "markdown",
   "metadata": {
    "pycharm": {
     "name": "#%% md\n"
    }
   },
   "source": [
    "## Algorithms in Molecular Biology\n"
   ]
  },
  {
   "cell_type": "markdown",
   "metadata": {
    "pycharm": {
     "name": "#%% md\n"
    }
   },
   "source": [
    "First of all, we import all required packages for running the notebook."
   ]
  },
  {
   "cell_type": "code",
   "execution_count": 1,
   "metadata": {
    "pycharm": {
     "name": "#%%\n"
    }
   },
   "outputs": [],
   "source": [
    "import random\n",
    "import timeit\n",
    "import numpy as np\n",
    "from itertools import product, combinations\n",
    "import matplotlib.pyplot as plt"
   ]
  },
  {
   "cell_type": "markdown",
   "metadata": {
    "pycharm": {
     "name": "#%% md\n"
    }
   },
   "source": [
    "The *read_file* is a helper function that returns all the lines of a file as a list."
   ]
  },
  {
   "cell_type": "code",
   "execution_count": 2,
   "metadata": {
    "pycharm": {
     "name": "#%%\n"
    }
   },
   "outputs": [],
   "source": [
    "def read_file(filename):\n",
    "    strings = []\n",
    "    f = open(filename, 'r')\n",
    "    for line in f:\n",
    "        line = line.strip()\n",
    "        strings.append(line)\n",
    "    return(strings)"
   ]
  },
  {
   "cell_type": "markdown",
   "metadata": {
    "pycharm": {
     "name": "#%% md\n"
    }
   },
   "source": [
    "The *pattern_count()* function, is needed for the implementation of *frequent_words()* function.\n",
    "*pattern_count()* calculates the frequency of a *specific pattern* in a *given text*. It uses a sliding window with **step=1** and **length=length of pattern**, and compares the sequence of the text and the sequence of the pattern for **exact similarity**."
   ]
  },
  {
   "cell_type": "code",
   "execution_count": 3,
   "metadata": {
    "pycharm": {
     "name": "#%%\n"
    }
   },
   "outputs": [],
   "source": [
    "def pattern_count(text, pattern):\n",
    "    count = 0\n",
    "    pattern_length = len(pattern)\n",
    "    text_length = len(text)\n",
    "    for i in range(0, text_length - pattern_length + 1):\n",
    "        if text[i:i+pattern_length] == pattern:\n",
    "            count = count + 1\n",
    "    return count"
   ]
  },
  {
   "cell_type": "markdown",
   "metadata": {
    "pycharm": {
     "name": "#%% md\n"
    }
   },
   "source": [
    "The *frequent_words* function finds the **most frequent patterns of length k** that appear in **given text**.\n",
    "The steps of the function are as follows:\n",
    "\n",
    "1. We create an empty set (`frequent_patterns`) and a list (`count`) to hold the frequencies of the patterns. The count is of **length = (length of the text) - (length of the pattern we are searching for = k) + 1** and we initialize it using zeros.\n",
    "\n",
    "2. Using a sliding window of step=1 and window=k, we check for every pattern in the text its frequency, using the *pattern_count()* function. Then we update the `count` list with the frequency of the pattern.\n",
    "\n",
    "3. After finishing iterating over the text, we have calculated the frequencies of all the patterns found in the text. We find the **maximum frequency** found in the text.\n",
    "\n",
    "4. Finally, we find the patterns, whose frequency equals to maximum frequency and add them to the `frequent_patterns` set.\n",
    "\n",
    "5. The *frequent_words()* function returns the patterns that have the maximum drequency, and the maximum frequency."
   ]
  },
  {
   "cell_type": "code",
   "execution_count": 4,
   "metadata": {
    "pycharm": {
     "name": "#%%\n"
    }
   },
   "outputs": [],
   "source": [
    "def frequent_words(text, k):\n",
    "    # initialization\n",
    "    frequent_patterns = set([])\n",
    "    text_length = len(text)\n",
    "    count=np.zeros(text_length - k + 1)\n",
    "\n",
    "    # calculate word frequency\n",
    "    for i in range(0, text_length - k + 1):\n",
    "        pattern = text[i:i + k]\n",
    "        count[i] = pattern_count(text, pattern)\n",
    "\n",
    "    # maximum frequency\n",
    "    max_count = max(count)\n",
    "\n",
    "    # add words with max frequency to frequent_patterns\n",
    "    for i in range(0, text_length - k + 1):\n",
    "        if count[i] == max_count:\n",
    "            frequent_patterns.add(text[i:i + k])\n",
    "    \n",
    "    return frequent_patterns, max_count"
   ]
  },
  {
   "cell_type": "markdown",
   "metadata": {
    "collapsed": true,
    "pycharm": {
     "name": "#%% md\n"
    }
   },
   "source": [
    "### **Task 1:** The *frequent_words_dict* function"
   ]
  },
  {
   "cell_type": "markdown",
   "metadata": {
    "pycharm": {
     "name": "#%% md\n"
    }
   },
   "source": [
    "The *frequent_words_dict()* function, uses the helper *pattern_to_index* funtion, which given a **specific pattern** of **length k**, that is generated from specific symbols, in our case the **4 DNA bases (A, T, G, C)**, we can\n",
    "infer its index.\n",
    "\n",
    "Given $4$ symbols, we can generate $4^k$ patterns of length $k$. Every element of this $4^k$ array, has an index that represents its position in the array. Given the sequence of the pattern, we can find its index/position in the array using the following equation:\n",
    "\n",
    "$pattern\\_index = c_{k-1} + \\sum_{i=0}^{k-2} c_i 4^{k-i-1}$\n",
    "\n",
    "where $c_i$ is equal to the index of the symbol that is in the $i$-th position of the pattern and $k$ is the length of the pattern. The pattern \"ATG\", that is generated by the symbols A, T, C and G, with indices $c_A=0$, $c_T=1$, $c_C=2$ and $c_G=3$ respectively, would have the index of $ATG\\_index = c_2 + c_0 4^{3-0-1} + c_1 4^{3-1-1} = 3+0+1*4 = 7$."
   ]
  },
  {
   "cell_type": "code",
   "execution_count": 5,
   "metadata": {
    "pycharm": {
     "name": "#%%\n"
    }
   },
   "outputs": [],
   "source": [
    "def pattern_to_index(pat, k):\n",
    "    bases = [\"A\", \"T\", \"C\", \"G\"]\n",
    "    encoded_index = 0\n",
    "    for i, symbol in enumerate(pat[:-1]):\n",
    "        encoded_index += bases.index(symbol) * 4**(k-i-1)\n",
    "    return encoded_index + bases.index(pat[-1])"
   ]
  },
  {
   "cell_type": "markdown",
   "metadata": {
    "pycharm": {
     "name": "#%% md\n"
    }
   },
   "source": [
    "We implement the *FrequentWordsDict* function, as suggested in Lecture 3, as follows:\n",
    "\n",
    "1. We create again an empty set `frequent_patterns`, in which we add the patterns with the maximum frequencies in the text.\n",
    "We create the `farray`, that has $4^k$ elements, and will hold the frequencies of the patterns. We initialize the farray to zeros.\n",
    "We create an empty dictionary to hold the patterns and their indices respectively.\n",
    "\n",
    "2. We iterate through the text using the sliding window technique, with step=1 and window=k=length of the pattern. For\n",
    "every pattern, using the *PatternToIndex* function, we calculate its index. We hold the index as key in the `known_patterns`\n",
    "dictionary and the respective pattern as value. We also update the frequency of the specific index in the `farray`, by\n",
    "adding 1 to its position.\n",
    "\n",
    "3. By iterating through the keys and values of the `known_patterns` dictionary, for every index we check its frequency\n",
    "by checking the respective position in the `farray`. If the frequency is bigger that a max_count variable, we add the\n",
    "pattern in the `frequent_patterns` set.\n",
    "\n",
    "4. The *FrequentWordsDict* function returns the patterns that have the maximum drequency, and the maximum frequency."
   ]
  },
  {
   "cell_type": "code",
   "execution_count": 6,
   "metadata": {
    "pycharm": {
     "name": "#%%\n"
    }
   },
   "outputs": [],
   "source": [
    "def frequent_words_dict(text, k):\n",
    "    \n",
    "    # initialization\n",
    "    frequent_patterns = set([])\n",
    "    farray = np.zeros(4**k)\n",
    "    known_patterns = {}\n",
    "\n",
    "    # update the dict and the farray by iterating through the text\n",
    "    for i in range(0, len(text) - k + 1):\n",
    "        pattern = text[i:i + k]\n",
    "        idx = pattern_to_index(pattern, k)\n",
    "        known_patterns[idx] = pattern\n",
    "        farray[idx] += 1.0\n",
    "\n",
    "    # calculate the maximum frequencies\n",
    "    max_count = -1\n",
    "    for idx, pat in known_patterns.items():\n",
    "        if max_count == farray[idx]:\n",
    "            frequent_patterns.add(pat)\n",
    "        elif max_count < farray[idx]:\n",
    "            max_count = farray[idx]\n",
    "            frequent_patterns.clear()\n",
    "            frequent_patterns.add(pat)\n",
    "\n",
    "    return frequent_patterns, max_count"
   ]
  },
  {
   "cell_type": "markdown",
   "metadata": {
    "pycharm": {
     "name": "#%% md\n"
    }
   },
   "source": [
    "### **Task 2:** Compare the performance of functions *frequent_words_dict* and *frequent_words*."
   ]
  },
  {
   "cell_type": "markdown",
   "metadata": {},
   "source": [
    "First, we use the *create_rand_str* function, to generate random strings. The *create_rand_str*, takes as input the symbols that will be used, in our case the DNA bases, and the length of the string that we want to generate."
   ]
  },
  {
   "cell_type": "code",
   "execution_count": 7,
   "metadata": {
    "pycharm": {
     "name": "#%%\n"
    }
   },
   "outputs": [],
   "source": [
    "def create_rand_str(alphabet, str_len):\n",
    "    rand_str = \"\" \n",
    "    chr_cnt = 0\n",
    "    while chr_cnt < str_len:\n",
    "        rand_str = rand_str + alphabet[random.randint(0, len(alphabet) - 1)]\n",
    "        chr_cnt = chr_cnt + 1\n",
    "    return rand_str"
   ]
  },
  {
   "cell_type": "markdown",
   "metadata": {},
   "source": [
    "We create random strings of different sizes based on the DNA bases (A, T, C, G). More specifically, we create 10 strings of length:\n",
    "- $10$ bases,\n",
    "- $100$ bases,\n",
    "- $500$ bases,\n",
    "- $1{,}000$ bases,\n",
    "- $5{,}000$ bases, and\n",
    "- $10{,}000$ bases.\n",
    "\n",
    "For each length, we hold the 10 generated string in a file."
   ]
  },
  {
   "cell_type": "code",
   "execution_count": 8,
   "metadata": {
    "pycharm": {
     "name": "#%%\n"
    }
   },
   "outputs": [],
   "source": [
    "bases = [\"A\", \"T\", \"C\", \"G\"]\n",
    "string_lengths = [10, 50, 100, 500, 1000]\n",
    "\n",
    "for string_length in string_lengths:\n",
    "    with open('../data/dna-' + str(string_length) + '.dat', 'w') as file:\n",
    "        for i in range(10):\n",
    "            file.write(create_rand_str(bases, string_length) + '\\n')"
   ]
  },
  {
   "cell_type": "markdown",
   "metadata": {
    "pycharm": {
     "name": "#%% md\n"
    }
   },
   "source": [
    "**Five files**, `dna-10.txt`,`dna-50.txt`, `dna-100.txt`, `dna-500.txt`,`dna-1000.txt`,\n",
    "were generated.\n",
    "\n",
    "We now compare the performance of functions *FrequentWordsDict* and *FrequentWords*, using the generated strings and searching for patterns of length **3, 6 and 9**. For each kmer, we calculate the average performance of each function over the 10 generated strings of the same length.\n",
    "\n",
    "Due to lack of computational power (my laptop is pretty old), I ran the algorithms for smaller string lengths. However, you can ran it for bigger string lengths by just uncommenting the commented line in the previous cell, and commenting the above line."
   ]
  },
  {
   "cell_type": "code",
   "execution_count": 9,
   "metadata": {
    "pycharm": {
     "name": "#%%\n"
    }
   },
   "outputs": [],
   "source": [
    "kmers = [3, 6, 9]"
   ]
  },
  {
   "cell_type": "code",
   "execution_count": 10,
   "metadata": {
    "pycharm": {
     "is_executing": true,
     "name": "#%%\n"
    }
   },
   "outputs": [
    {
     "name": "stdout",
     "output_type": "stream",
     "text": [
      "Algorithm running in search for a 3-mer...\n",
      "...in the ../data/dna-10.dat file.\n",
      "...in the ../data/dna-50.dat file.\n",
      "...in the ../data/dna-100.dat file.\n",
      "...in the ../data/dna-500.dat file.\n",
      "...in the ../data/dna-1000.dat file.\n",
      "Algorithm running in search for a 6-mer...\n",
      "...in the ../data/dna-10.dat file.\n",
      "...in the ../data/dna-50.dat file.\n",
      "...in the ../data/dna-100.dat file.\n",
      "...in the ../data/dna-500.dat file.\n",
      "...in the ../data/dna-1000.dat file.\n",
      "Algorithm running in search for a 9-mer...\n",
      "...in the ../data/dna-10.dat file.\n",
      "...in the ../data/dna-50.dat file.\n",
      "...in the ../data/dna-100.dat file.\n",
      "...in the ../data/dna-500.dat file.\n",
      "...in the ../data/dna-1000.dat file.\n"
     ]
    }
   ],
   "source": [
    "times = {}\n",
    "\n",
    "for var in kmers:\n",
    "    print('Algorithm running in search for a ' + str(var) + '-mer...')\n",
    "    \n",
    "    times[var] = ([], [])\n",
    "    for string_length in string_lengths:\n",
    "        \n",
    "        filename = '../data/dna-' + str(string_length) + '.dat'\n",
    "        strings = read_file(filename)\n",
    "        \n",
    "        print('...in the ' + str(filename) + ' file.')\n",
    "        for string in strings:\n",
    "            fwtime = []\n",
    "            fwdtime = []\n",
    "            start=timeit.default_timer()\n",
    "            position=frequent_words(string, var)\n",
    "            stop=timeit.default_timer()\n",
    "            fwtime.append(stop-start)\n",
    "\n",
    "            start=timeit.default_timer()\n",
    "            position=frequent_words_dict(string, var)\n",
    "            stop=timeit.default_timer()\n",
    "            fwdtime.append(stop-start)\n",
    "\n",
    "        times[var][0].append(np.mean(fwtime))\n",
    "        times[var][1].append(np.mean(fwdtime))"
   ]
  },
  {
   "cell_type": "markdown",
   "metadata": {},
   "source": [
    "We measure the performance with respect to their execution time. We plot the length of the string with respect to\n",
    "execution time, to observe what happens if for the **same kmer**, we **increase the lenght of the string**."
   ]
  },
  {
   "cell_type": "code",
   "execution_count": 11,
   "metadata": {
    "pycharm": {
     "is_executing": true,
     "name": "#%%\n"
    }
   },
   "outputs": [
    {
     "data": {
      "image/png": "[encoded data removed]",
      "text/plain": [
       "<Figure size 432x288 with 1 Axes>"
      ]
     },
     "metadata": {
      "needs_background": "light"
     },
     "output_type": "display_data"
    },
    {
     "data": {
      "image/png": "[encoded data removed]",
      "text/plain": [
       "<Figure size 432x288 with 1 Axes>"
      ]
     },
     "metadata": {
      "needs_background": "light"
     },
     "output_type": "display_data"
    },
    {
     "data": {
      "image/png": "[encoded data removed]",
      "text/plain": [
       "<Figure size 432x288 with 1 Axes>"
      ]
     },
     "metadata": {
      "needs_background": "light"
     },
     "output_type": "display_data"
    }
   ],
   "source": [
    "for mer in kmers:\n",
    "    plt.title(str(mer) + '-mer versus size of string')\n",
    "    plt.xlabel('Size of strings')\n",
    "    plt.ylabel('Time(sec) in logscale')\n",
    "    plt.yscale(\"log\")\n",
    "    plt.plot(string_lengths,times[mer][0],'o', color='darkcyan')\n",
    "    plt.plot(string_lengths,times[mer][1],'x',color='crimson')\n",
    "    plt.show()"
   ]
  },
  {
   "cell_type": "markdown",
   "metadata": {},
   "source": [
    "It is obvious from the plots above that as the string length increases, the *FrequenWordsDict* is faster than the *FrequenWords*, which is expected, since the the original *FrequenWords* has a complextity of **O(N$^2$k)**, while the *FrequenWordsDict* has a complexity of **O(N)**."
   ]
  },
  {
   "cell_type": "markdown",
   "metadata": {},
   "source": [
    "### **Task 3:** The problem \"find all most frequent $k$-mers with up to d mismatches in a DNA string\"."
   ]
  },
  {
   "cell_type": "markdown",
   "metadata": {
    "pycharm": {
     "name": "#%% md\n"
    }
   },
   "source": [
    "First, we have to implement the *hamming_distance* function, to calculate the distance\n",
    "between two dna strings. In our case, it will be used to calculate the distance between\n",
    "the window in the sequence, and the pattern under examination each time.\n",
    "\n",
    "The *hamming_distance* returns the number of mismatches between two strings, after\n",
    "comparing the same positions of the two strings."
   ]
  },
  {
   "cell_type": "code",
   "execution_count": 12,
   "metadata": {
    "pycharm": {
     "is_executing": true,
     "name": "#%%\n"
    }
   },
   "outputs": [],
   "source": [
    "def hamming_distance(string1, string2):\n",
    "    count = 0\n",
    "    for i in range(len(string1)):\n",
    "        if string1[i] != string2[i]:\n",
    "            count += 1\n",
    "    return(count)"
   ]
  },
  {
   "cell_type": "markdown",
   "metadata": {
    "pycharm": {
     "name": "#%% md\n"
    }
   },
   "source": [
    "#### First Step\n",
    "We have to modify *frequent_words_dict* in order to calculate the frequency of patterns that have **d** mismatches.\n",
    "Since, our implementation of  *frequent_words_dict* in Task 1, uses the *pattern_to_index* encoding, and the reverse\n",
    "function, that generates the pattern given just the index was difficult to be implemented, we implented from the\n",
    "*frequen_words_dict_mm* functions as follows:\n",
    "\n",
    "1. We create an empty set `frequent_patterns`, that will hold the patterns with the maximum frequencies.\n",
    "Using the `product()` function of the `itertools` library, we generate the $4^k$ combinations of the DNA bases.\n",
    "\n",
    "2. We create a dictionary, that holds the patterns generated of the `product` as keys, and initialize their values to zeros.\n",
    "\n",
    "3. We iterate in the given string (text), using the slide window technique, as described previously. We calulate the hamming distance of each pattern with the keys of the `farray` dictionary, by iterating in the dictionary. If the pattern and the key have a **hamming_distance $<=$ d, where d is the number of the allowed mismatches, we update the key's value, which is its frequency by adding 1.\n",
    "\n",
    "4. We find the maximum frequency, and the patterns that have this frequency.\n",
    "\n",
    "5. The *FrequentWordsDictMM* returns the patterns that have the maximum drequency, and the maximum frequency."
   ]
  },
  {
   "cell_type": "code",
   "execution_count": 13,
   "metadata": {
    "pycharm": {
     "is_executing": true,
     "name": "#%%\n"
    }
   },
   "outputs": [],
   "source": [
    "def frequent_words_dict_mm(text, k, d):\n",
    "    bases = [\"A\", \"T\", \"C\", \"G\"]\n",
    "    frequent_patterns = set([])\n",
    "\n",
    "    # generate the keys of the dict\n",
    "    combs = product(bases, repeat=k)\n",
    "\n",
    "    # initialize the dict to zeros\n",
    "    farray = {}\n",
    "    for base in list(combs):\n",
    "        key = ''.join(base)\n",
    "        farray[key] = 0\n",
    "\n",
    "    # update the dict, iterating through the text\n",
    "    for i in range(0, len(text) - k + 1):\n",
    "        pattern = text[i:i + k]\n",
    "        for key in farray.keys():\n",
    "            if hamming_distance(key, pattern) <= d:\n",
    "                farray[key] += 1.0\n",
    "\n",
    "    max_count = max(farray.values())\n",
    "\n",
    "    # find the pattern with the max frequency\n",
    "    for l, v in farray.items():\n",
    "        if v == max_count:\n",
    "            frequent_patterns.add(l)\n",
    "\n",
    "    return frequent_patterns, max(farray.values())"
   ]
  },
  {
   "cell_type": "markdown",
   "metadata": {
    "pycharm": {
     "name": "#%% md\n"
    }
   },
   "source": [
    "#### Second step\n",
    "In order to optimize the *frequent_words_dict_mm*, so that it does not have to create $4^k$ patterns, we first have to implement the auxiliary *immediate_neighbors* function. We implement the *immediate_neighbors*, as follows:\n",
    "\n",
    "1. We define the symbols, from which the patterns are generated, that is, the DNA bases.\n",
    "\n",
    "2. We create a set `Neighborhood` that will hold all the generated patterns including the original one.\n",
    "\n",
    "3. We generate all the unique combinations of the indices for a given sequence that has the length of the given pattern, using the `combinations` function of `itertools`. We store the results in the `indices` list.\n",
    "\n",
    "4. We generate all the possible combinations of the DNA bases for a given mismatch $d$. We store the results in the `bases_product` list.\n",
    "\n",
    "5. We iterate over the `indices` and the `bases_product` lists, at the same time, and for each index, meaning each position in the pattern, and for each base/base combination, we generate all the possible combinations allowing $d$ mismatches and add them to the `Neighborhood`. \n",
    "\n",
    "The *immediate_neighbors* function, returns the \"neighborhood\" fo a **given pattern**, allowing **d mismatches**."
   ]
  },
  {
   "cell_type": "code",
   "execution_count": 14,
   "metadata": {
    "pycharm": {
     "is_executing": true,
     "name": "#%%\n"
    }
   },
   "outputs": [],
   "source": [
    "def immediate_neighbors(pat, d):\n",
    "    bases = [\"A\", \"T\", \"C\", \"G\"]\n",
    "    neighborhood = set()\n",
    "    neighborhood.add(pat)\n",
    "    indices = list(combinations(range(len(pat)), d))\n",
    "    bases_product = list(product(bases, repeat=d))\n",
    "\n",
    "    for idx_set in indices:\n",
    "        for bases_set in bases_product:\n",
    "            temp = list(pat)\n",
    "            for ii, base in zip(idx_set, bases_set):\n",
    "                temp[ii] = base\n",
    "            neighborhood.add(''.join(temp))\n",
    "    return neighborhood"
   ]
  },
  {
   "cell_type": "markdown",
   "metadata": {
    "pycharm": {
     "name": "#%% md\n"
    }
   },
   "source": [
    "#### Third Step\n",
    "We implement the optimized *frequent_words_opt_mm* function, as follows:\n",
    "\n",
    "1. We create and empty set `frequent_patterns` that will hold the patterns with the highest frequencies.\n",
    "We create an empty dictionary `cache`, that will hold the neighborhood for a given pattern, so that we will not have to\n",
    "regenerate the neighborhood if we find the same pattern more than once.\n",
    "\n",
    "2. We create the `initial_dict` and iterate over the string(text), using the slide window technique as described previously.\n",
    "For each pattern:\n",
    "\n",
    "    - we generate its neighborhood, using the *ImmediateNeighbors* function for \\[1, d\\] mismatches.\n",
    "    - we hold it as key in the `initial_dict`, and update its value to 1.\n",
    "\n",
    "3. We find the maximum value of the `initial_dict`, which corresponds to the highest frequency, and we add\n",
    "the patterns that have the highest frequency in the `frequent_patterns`.\n",
    "\n",
    "4. The *frequent_words_opt_mm* returns the patterns that have the maximum drequency, and the maximum frequency."
   ]
  },
  {
   "cell_type": "code",
   "execution_count": 15,
   "metadata": {
    "pycharm": {
     "is_executing": true,
     "name": "#%%\n"
    }
   },
   "outputs": [],
   "source": [
    "def frequent_words_opt_mm(text, k, d):\n",
    "    \n",
    "    # initialization\n",
    "    frequent_patterns= set([])\n",
    "    cache = {}\n",
    "\n",
    "    # create and initialize the initial dict that holds the kmers existing in the text\n",
    "    initial_dict = {}\n",
    "    for i in range(0, len(text) - k + 1):\n",
    "        pat = text[i:i + k]\n",
    "        for dd in range(1, d + 1):\n",
    "            if pat in cache and dd in cache[pat]:\n",
    "                neighbors = cache[pat][dd]\n",
    "            else:\n",
    "                neighbors = immediate_neighbors(pat, dd)\n",
    "                if pat in cache:\n",
    "                    cache[pat][dd] = neighbors\n",
    "                else:\n",
    "                    cache[pat] = {dd: neighbors}\n",
    "            for x in neighbors:\n",
    "                if x not in initial_dict:\n",
    "                    initial_dict[x] = 1\n",
    "                else:\n",
    "                    initial_dict[x] += 1\n",
    "    \n",
    "    # find the maximum frequency\n",
    "    max_count = max(initial_dict.values())\n",
    "\n",
    "    # find the patterns that have the maximum frequency\n",
    "    for l, v in initial_dict.items():\n",
    "        if v == max_count:\n",
    "            frequent_patterns.add(l)\n",
    "\n",
    "    return frequent_patterns, max_count"
   ]
  },
  {
   "cell_type": "markdown",
   "metadata": {},
   "source": [
    "In this final step, we compare the *FrequentWordDictMM* and *FrequentWordOptMM*\n",
    "functions. We use the same methodology as in Task 2. [^1] We compare the functions for\n",
    " three different values of mismatches \\[1, 2, 3\\]. We proceed, only if **d<k**.\n",
    "\n",
    "However, from a biological point of view, we could say that if $d>k/2$, there is no\n",
    "point in checking the specific altered pattern, since this will be a completely different\n",
    " pattern in comparison to the original one.\n",
    "\n",
    "[^1]: We use smaller string sizes because of the computational power available."
   ]
  },
  {
   "cell_type": "code",
   "execution_count": 16,
   "metadata": {
    "pycharm": {
     "is_executing": true,
     "name": "#%%\n"
    }
   },
   "outputs": [],
   "source": [
    "bases = [\"A\", \"T\", \"C\", \"G\"]\n",
    "mismatches = [1, 2, 3]\n",
    "kmers = [2, 3, 5] # you can comment this line in order to run the next code cell for a 9-mer as well.\n",
    "string_lengths = [10, 50, 100, 150, 200]\n",
    "\n",
    "for string_length in string_lengths:\n",
    "    with open('../data/dna-' + str(string_length) + '.dat', 'w') as file:\n",
    "        for i in range(10):\n",
    "            file.write(create_rand_str(bases, string_length) + '\\n')"
   ]
  },
  {
   "cell_type": "markdown",
   "metadata": {
    "pycharm": {
     "name": "#%% md\n"
    }
   },
   "source": [
    "We hold the results in the dictionary `mm_times`, where for every kmer and for each number of mismatches allowed, we\n",
    "store the average execution of time for each string length."
   ]
  },
  {
   "cell_type": "code",
   "execution_count": 17,
   "metadata": {
    "pycharm": {
     "is_executing": true,
     "name": "#%%\n"
    }
   },
   "outputs": [
    {
     "name": "stdout",
     "output_type": "stream",
     "text": [
      "Algorithm running in search for a 2-mer\n",
      "..and allowing 1 mismatches.\n",
      "Here comes the ../data/dna-10.dat file..\n",
      "Here comes the ../data/dna-50.dat file..\n",
      "Here comes the ../data/dna-100.dat file..\n",
      "Here comes the ../data/dna-150.dat file..\n",
      "Here comes the ../data/dna-200.dat file..\n",
      "..and allowing 2 mismatches.\n",
      "...impossible it is.\n",
      "..and allowing 3 mismatches.\n",
      "...impossible it is.\n",
      "Algorithm running in search for a 3-mer\n",
      "..and allowing 1 mismatches.\n",
      "Here comes the ../data/dna-10.dat file..\n",
      "Here comes the ../data/dna-50.dat file..\n",
      "Here comes the ../data/dna-100.dat file..\n",
      "Here comes the ../data/dna-150.dat file..\n",
      "Here comes the ../data/dna-200.dat file..\n",
      "..and allowing 2 mismatches.\n",
      "Here comes the ../data/dna-10.dat file..\n",
      "Here comes the ../data/dna-50.dat file..\n",
      "Here comes the ../data/dna-100.dat file..\n",
      "Here comes the ../data/dna-150.dat file..\n",
      "Here comes the ../data/dna-200.dat file..\n",
      "..and allowing 3 mismatches.\n",
      "...impossible it is.\n",
      "Algorithm running in search for a 5-mer\n",
      "..and allowing 1 mismatches.\n",
      "Here comes the ../data/dna-10.dat file..\n",
      "Here comes the ../data/dna-50.dat file..\n",
      "Here comes the ../data/dna-100.dat file..\n",
      "Here comes the ../data/dna-150.dat file..\n",
      "Here comes the ../data/dna-200.dat file..\n",
      "..and allowing 2 mismatches.\n",
      "Here comes the ../data/dna-10.dat file..\n",
      "Here comes the ../data/dna-50.dat file..\n",
      "Here comes the ../data/dna-100.dat file..\n",
      "Here comes the ../data/dna-150.dat file..\n",
      "Here comes the ../data/dna-200.dat file..\n",
      "..and allowing 3 mismatches.\n",
      "Here comes the ../data/dna-10.dat file..\n",
      "Here comes the ../data/dna-50.dat file..\n",
      "Here comes the ../data/dna-100.dat file..\n",
      "Here comes the ../data/dna-150.dat file..\n",
      "Here comes the ../data/dna-200.dat file..\n"
     ]
    }
   ],
   "source": [
    "mm_times = {}\n",
    "for var in kmers:\n",
    "    print('Algorithm running in search for a ' + str(var) + '-mer')\n",
    "    \n",
    "    mm_times[var] = {}\n",
    "    for mm in mismatches:\n",
    "        print('..and allowing ' + str(mm) + ' mismatches.')\n",
    "        \n",
    "        if mm < var:\n",
    "            mm_times[var][mm] = ([], [])\n",
    "            for string_length in string_lengths:\n",
    "                filename = '../data/dna-' + str(string_length) + '.dat'\n",
    "                strings = read_file(filename)\n",
    "                \n",
    "                print('Here comes the ' + str(filename) + ' file..')\n",
    "                for string in strings:\n",
    "                    smmtime = []\n",
    "                    ommtime = []\n",
    "                    start=timeit.default_timer()\n",
    "                    position=frequent_words_dict_mm(string, var, mm)\n",
    "                    stop=timeit.default_timer()\n",
    "                    smmtime.append(stop-start)\n",
    "\n",
    "                    start=timeit.default_timer()\n",
    "                    position=frequent_words_opt_mm(string, var, mm)\n",
    "                    stop=timeit.default_timer()\n",
    "                    ommtime.append(stop-start)\n",
    "\n",
    "                mm_times[var][mm][0].append(np.mean(smmtime))\n",
    "                mm_times[var][mm][1].append(np.mean(ommtime))\n",
    "        else:\n",
    "            print(\"...impossible it is.\")"
   ]
  },
  {
   "cell_type": "code",
   "execution_count": 18,
   "metadata": {
    "pycharm": {
     "is_executing": true,
     "name": "#%%\n"
    }
   },
   "outputs": [
    {
     "data": {
      "image/png": "[encoded data removed]",
      "text/plain": [
       "<Figure size 432x288 with 1 Axes>"
      ]
     },
     "metadata": {
      "needs_background": "light"
     },
     "output_type": "display_data"
    },
    {
     "data": {
      "image/png": "[encoded data removed]",
      "text/plain": [
       "<Figure size 432x288 with 1 Axes>"
      ]
     },
     "metadata": {
      "needs_background": "light"
     },
     "output_type": "display_data"
    },
    {
     "data": {
      "image/png": "[encoded data removed]",
      "text/plain": [
       "<Figure size 432x288 with 1 Axes>"
      ]
     },
     "metadata": {
      "needs_background": "light"
     },
     "output_type": "display_data"
    },
    {
     "data": {
      "image/png": "[encoded data removed]",
      "text/plain": [
       "<Figure size 432x288 with 1 Axes>"
      ]
     },
     "metadata": {
      "needs_background": "light"
     },
     "output_type": "display_data"
    },
    {
     "data": {
      "image/png": "[encoded data removed]",
      "text/plain": [
       "<Figure size 432x288 with 1 Axes>"
      ]
     },
     "metadata": {
      "needs_background": "light"
     },
     "output_type": "display_data"
    },
    {
     "data": {
      "image/png": "[encoded data removed]",
      "text/plain": [
       "<Figure size 432x288 with 1 Axes>"
      ]
     },
     "metadata": {
      "needs_background": "light"
     },
     "output_type": "display_data"
    }
   ],
   "source": [
    "for mer in kmers:\n",
    "    for mism in mismatches:\n",
    "        if mism < mer:\n",
    "            plt.title(str(mer) + '-mer versus size of string, allowing ' + str(mism) + ' mismatches.')\n",
    "            plt.xlabel('Size of strings')\n",
    "            plt.ylabel('Time(sec) in logscale')\n",
    "            plt.yscale(\"log\")\n",
    "            plt.plot(string_lengths,mm_times[mer][mism][0],'o', color='darkcyan')\n",
    "            plt.plot(string_lengths,mm_times[mer][mism][1],'x',color='crimson')\n",
    "            plt.show()"
   ]
  },
  {
   "cell_type": "markdown",
   "metadata": {},
   "source": [
    "It can be noted from the plots above, that by generating only the neighborhood of the matched patterns in the sequence, we can significantly outperform the simpler approach of exhaustively generating every possible kmer. \n",
    "\n",
    "Moreover, note that the performance gain is larger for lower values of mismatches, since in these cases, the neighborhoods generated are smaller than the neighborhoods generated for larger values of mismatches. In the latter case, the performance of the optimized method, approaches the exhaustive search. "
   ]
  }
 ],
 "metadata": {
  "kernelspec": {
   "display_name": "Python 3 (ipykernel)",
   "language": "python",
   "name": "python3"
  },
  "language_info": {
   "codemirror_mode": {
    "name": "ipython",
    "version": 3
   },
   "file_extension": ".py",
   "mimetype": "text/x-python",
   "name": "python",
   "nbconvert_exporter": "python",
   "pygments_lexer": "ipython3",
   "version": "3.9.5"
  }
 },
 "nbformat": 4,
 "nbformat_minor": 1
}